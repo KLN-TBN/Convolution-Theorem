{
  "nbformat": 4,
  "nbformat_minor": 0,
  "metadata": {
    "colab": {
      "provenance": [],
      "include_colab_link": true
    },
    "kernelspec": {
      "name": "python3",
      "display_name": "Python 3"
    },
    "language_info": {
      "name": "python"
    }
  },
  "cells": [
    {
      "cell_type": "markdown",
      "metadata": {
        "id": "view-in-github",
        "colab_type": "text"
      },
      "source": [
        "<a href=\"https://colab.research.google.com/github/KLN-TBN/Notebooks/blob/main/NueralNetworkToPredictNumbersTrainingHyperparameters.ipynb\" target=\"_parent\"><img src=\"https://colab.research.google.com/assets/colab-badge.svg\" alt=\"Open In Colab\"/></a>"
      ]
    },
    {
      "cell_type": "markdown",
      "source": [
        "# Coursework II -- Training hyperparameters\n",
        "\n",
        "The goal of the coursework is to modify a simple bit of numpy code that trains a network and measures the performance on a validation set for the MNist 1D dataset. \n",
        "\n",
        "In this coursework, you need to modify the **training hyperparameters** (only) to improve the performance over the current attempt. This could mean the training algorithm, learning rate, learning rate schedule, momentum term, initialization etc.  \n",
        "\n",
        "You don't have to improve the performance much.  A few tenths of a percent is fine.  It just has to be better to get full marks.\n",
        "\n",
        "You will need to upload three things to Moodle:\n",
        "1.   The image that this notebook saves (click the folder icon on the left on colab to download it)\n",
        "2.   The lines of code you changed\n",
        "3.   The whole notebook as a .ipynb file.  You can do this on the File menu\n",
        "\n",
        "\n"
      ],
      "metadata": {
        "id": "t9vk9Elugvmi"
      }
    },
    {
      "cell_type": "code",
      "source": [
        "import numpy as np\n",
        "import os\n",
        "import torch, torch.nn as nn\n",
        "from torch.utils.data import TensorDataset, DataLoader\n",
        "from torch.optim.lr_scheduler import StepLR\n",
        "import matplotlib.pyplot as plt\n",
        "import random"
      ],
      "metadata": {
        "id": "YrXWAH7sUWvU"
      },
      "execution_count": null,
      "outputs": []
    },
    {
      "cell_type": "code",
      "source": [
        "# Run this once to copy the train and validation data to your CoLab environment \n",
        "# or download from my github to your local machine if you are doing this locally\n",
        "if not os.path.exists('./train_data_x.npy'):\n",
        "  !wget https://github.com/udlbook/udlbook/raw/main/practicals/train_data_x.npy\n",
        "  !wget https://github.com/udlbook/udlbook/raw/main/practicals/train_data_y.npy\n",
        "  !wget https://github.com/udlbook/udlbook/raw/main/practicals/val_data_x.npy\n",
        "  !wget https://github.com/udlbook/udlbook/raw/main/practicals/val_data_y.npy  "
      ],
      "metadata": {
        "id": "wScBGXXFVadm",
        "outputId": "0e7a07f3-3263-492a-d253-63b9b3c4e3b6",
        "colab": {
          "base_uri": "https://localhost:8080/"
        }
      },
      "execution_count": null,
      "outputs": [
        {
          "output_type": "stream",
          "name": "stdout",
          "text": [
            "--2022-12-04 21:44:45--  https://github.com/udlbook/udlbook/raw/main/practicals/train_data_x.npy\n",
            "Resolving github.com (github.com)... 140.82.114.4\n",
            "Connecting to github.com (github.com)|140.82.114.4|:443... connected.\n",
            "HTTP request sent, awaiting response... 302 Found\n",
            "Location: https://raw.githubusercontent.com/udlbook/udlbook/main/practicals/train_data_x.npy [following]\n",
            "--2022-12-04 21:44:46--  https://raw.githubusercontent.com/udlbook/udlbook/main/practicals/train_data_x.npy\n",
            "Resolving raw.githubusercontent.com (raw.githubusercontent.com)... 185.199.108.133, 185.199.109.133, 185.199.110.133, ...\n",
            "Connecting to raw.githubusercontent.com (raw.githubusercontent.com)|185.199.108.133|:443... connected.\n",
            "HTTP request sent, awaiting response... 200 OK\n",
            "Length: 1280128 (1.2M) [application/octet-stream]\n",
            "Saving to: ‘train_data_x.npy’\n",
            "\n",
            "\rtrain_data_x.npy      0%[                    ]       0  --.-KB/s               \rtrain_data_x.npy    100%[===================>]   1.22M  --.-KB/s    in 0.01s   \n",
            "\n",
            "2022-12-04 21:44:46 (96.5 MB/s) - ‘train_data_x.npy’ saved [1280128/1280128]\n",
            "\n",
            "--2022-12-04 21:44:46--  https://github.com/udlbook/udlbook/raw/main/practicals/train_data_y.npy\n",
            "Resolving github.com (github.com)... 140.82.114.4\n",
            "Connecting to github.com (github.com)|140.82.114.4|:443... connected.\n",
            "HTTP request sent, awaiting response... 302 Found\n",
            "Location: https://raw.githubusercontent.com/udlbook/udlbook/main/practicals/train_data_y.npy [following]\n",
            "--2022-12-04 21:44:46--  https://raw.githubusercontent.com/udlbook/udlbook/main/practicals/train_data_y.npy\n",
            "Resolving raw.githubusercontent.com (raw.githubusercontent.com)... 185.199.109.133, 185.199.111.133, 185.199.110.133, ...\n",
            "Connecting to raw.githubusercontent.com (raw.githubusercontent.com)|185.199.109.133|:443... connected.\n",
            "HTTP request sent, awaiting response... 200 OK\n",
            "Length: 32128 (31K) [application/octet-stream]\n",
            "Saving to: ‘train_data_y.npy’\n",
            "\n",
            "train_data_y.npy    100%[===================>]  31.38K  --.-KB/s    in 0s      \n",
            "\n",
            "2022-12-04 21:44:46 (134 MB/s) - ‘train_data_y.npy’ saved [32128/32128]\n",
            "\n",
            "--2022-12-04 21:44:46--  https://github.com/udlbook/udlbook/raw/main/practicals/val_data_x.npy\n",
            "Resolving github.com (github.com)... 140.82.114.4\n",
            "Connecting to github.com (github.com)|140.82.114.4|:443... connected.\n",
            "HTTP request sent, awaiting response... 302 Found\n",
            "Location: https://raw.githubusercontent.com/udlbook/udlbook/main/practicals/val_data_x.npy [following]\n",
            "--2022-12-04 21:44:46--  https://raw.githubusercontent.com/udlbook/udlbook/main/practicals/val_data_x.npy\n",
            "Resolving raw.githubusercontent.com (raw.githubusercontent.com)... 185.199.108.133, 185.199.109.133, 185.199.110.133, ...\n",
            "Connecting to raw.githubusercontent.com (raw.githubusercontent.com)|185.199.108.133|:443... connected.\n",
            "HTTP request sent, awaiting response... 200 OK\n",
            "Length: 640128 (625K) [application/octet-stream]\n",
            "Saving to: ‘val_data_x.npy’\n",
            "\n",
            "val_data_x.npy      100%[===================>] 625.12K  --.-KB/s    in 0.006s  \n",
            "\n",
            "2022-12-04 21:44:46 (96.0 MB/s) - ‘val_data_x.npy’ saved [640128/640128]\n",
            "\n",
            "--2022-12-04 21:44:46--  https://github.com/udlbook/udlbook/raw/main/practicals/val_data_y.npy\n",
            "Resolving github.com (github.com)... 140.82.114.4\n",
            "Connecting to github.com (github.com)|140.82.114.4|:443... connected.\n",
            "HTTP request sent, awaiting response... 302 Found\n",
            "Location: https://raw.githubusercontent.com/udlbook/udlbook/main/practicals/val_data_y.npy [following]\n",
            "--2022-12-04 21:44:46--  https://raw.githubusercontent.com/udlbook/udlbook/main/practicals/val_data_y.npy\n",
            "Resolving raw.githubusercontent.com (raw.githubusercontent.com)... 185.199.108.133, 185.199.109.133, 185.199.110.133, ...\n",
            "Connecting to raw.githubusercontent.com (raw.githubusercontent.com)|185.199.108.133|:443... connected.\n",
            "HTTP request sent, awaiting response... 200 OK\n",
            "Length: 16128 (16K) [application/octet-stream]\n",
            "Saving to: ‘val_data_y.npy’\n",
            "\n",
            "val_data_y.npy      100%[===================>]  15.75K  --.-KB/s    in 0s      \n",
            "\n",
            "2022-12-04 21:44:46 (76.2 MB/s) - ‘val_data_y.npy’ saved [16128/16128]\n",
            "\n"
          ]
        }
      ]
    },
    {
      "cell_type": "code",
      "source": [
        "# Load in the data\n",
        "train_data_x = np.load('train_data_x.npy')\n",
        "train_data_y = np.load('train_data_y.npy')\n",
        "val_data_x = np.load('val_data_x.npy')\n",
        "val_data_y = np.load('val_data_y.npy')\n",
        "# Print out sizes\n",
        "print(\"Train data: %d examples (columns), each of which has %d dimensions (rows)\"%((train_data_x.shape[1],train_data_x.shape[0])))\n",
        "print(\"Validation data: %d examples (columns), each of which has %d dimensions (rows)\"%((val_data_x.shape[1],val_data_x.shape[0])))"
      ],
      "metadata": {
        "id": "8bKADvLHbiV5",
        "outputId": "7f14f2b8-28e1-4100-8b4f-203939d0191d",
        "colab": {
          "base_uri": "https://localhost:8080/"
        }
      },
      "execution_count": null,
      "outputs": [
        {
          "output_type": "stream",
          "name": "stdout",
          "text": [
            "Train data: 4000 examples (columns), each of which has 40 dimensions (rows)\n",
            "Validation data: 2000 examples (columns), each of which has 40 dimensions (rows)\n"
          ]
        }
      ]
    },
    {
      "cell_type": "markdown",
      "source": [
        "Define the network"
      ],
      "metadata": {
        "id": "_sFvRDGrl4qe"
      }
    },
    {
      "cell_type": "code",
      "source": [
        "# YOU SHOULD NOT CHANGE THIS CELL!\n",
        "\n",
        "# There are 40 input dimensions and 10 output dimensions for this data\n",
        "# The inputs correspond to the 40 offsets in the MNIST1D template.\n",
        "D_i = 40\n",
        "# The outputs correspond to the 10 digits\n",
        "D_o = 10\n",
        "\n",
        "# Number of hidden units in layers 1 and 2\n",
        "D_1 = 100\n",
        "D_2 = 100\n",
        "\n",
        "# create model with two hidden layers\n",
        "model = nn.Sequential(\n",
        "nn.Linear(D_i, D_1),\n",
        "nn.ReLU(),\n",
        "nn.Linear(D_1, D_2),\n",
        "nn.ReLU(),\n",
        "nn.Linear(D_2, D_o))"
      ],
      "metadata": {
        "id": "FslroPJJffrh"
      },
      "execution_count": null,
      "outputs": []
    },
    {
      "cell_type": "code",
      "source": [
        "# He initialization of weights\n",
        "def weights_init(layer_in):\n",
        "  if isinstance(layer_in, nn.Linear):\n",
        "    nn.init.kaiming_uniform_(layer_in.weight)\n",
        "    layer_in.bias.data.fill_(0.0)"
      ],
      "metadata": {
        "id": "YgLaex1pfhqz"
      },
      "execution_count": null,
      "outputs": []
    },
    {
      "cell_type": "code",
      "source": [
        "# You need all this stuff to ensure that PyTorch is deterministic\n",
        "def set_seed(seed):\n",
        "    torch.manual_seed(seed)\n",
        "    torch.cuda.manual_seed_all(seed)\n",
        "    torch.backends.cudnn.deterministic = True\n",
        "    torch.backends.cudnn.benchmark = False\n",
        "    np.random.seed(seed)\n",
        "    random.seed(seed)\n",
        "    os.environ['PYTHONHASHSEED'] = str(seed)"
      ],
      "metadata": {
        "id": "zXRmxCQNnL_M"
      },
      "execution_count": null,
      "outputs": []
    },
    {
      "cell_type": "code",
      "source": [
        "# Set seed so always get same result (do not change)\n",
        "set_seed(1)\n",
        "\n",
        "# choose cross entropy loss function (equation 5.24 in the loss notes)\n",
        "loss_function = nn.CrossEntropyLoss()\n",
        "# construct SGD optimizer and initialize learning rate and momentum\n",
        "optimizer = torch.optim.SGD(model.parameters(), lr = 0.07, momentum=0.9)\n",
        "# object that decreases learning rate by half every 10 epochs\n",
        "scheduler = StepLR(optimizer, step_size=49, gamma=0.5)\n",
        "# create 100 dummy data points and store in data loader class\n",
        "x_train = torch.tensor(train_data_x.transpose().astype('float32'))\n",
        "y_train = torch.tensor(train_data_y.astype('long'))\n",
        "x_val= torch.tensor(val_data_x.transpose().astype('float32'))\n",
        "y_val = torch.tensor(val_data_y.astype('long'))\n",
        "\n",
        "# load the data into a class that creates the batches\n",
        "data_loader = DataLoader(TensorDataset(x_train,y_train), batch_size=100, shuffle=True, worker_init_fn=np.random.seed(1))\n",
        "\n",
        "# Initialize model weights\n",
        "model.apply(weights_init)\n",
        "\n",
        "# loop over the dataset n_epoch times\n",
        "n_epoch = 50\n",
        "# store the loss and the % correct at each epoch\n",
        "losses_train = np.zeros((n_epoch))\n",
        "errors_train = np.zeros((n_epoch))\n",
        "losses_val = np.zeros((n_epoch))\n",
        "errors_val = np.zeros((n_epoch))\n",
        "\n",
        "for epoch in range(n_epoch):\n",
        "  # loop over batches\n",
        "  for i, data in enumerate(data_loader):\n",
        "    # retrieve inputs and labels for this batch\n",
        "    x_batch, y_batch = data\n",
        "    # zero the parameter gradients\n",
        "    optimizer.zero_grad()\n",
        "    # forward pass -- calculate model output\n",
        "    pred = model(x_batch)\n",
        "    # compute the lss\n",
        "    loss = loss_function(pred, y_batch)\n",
        "    # backward pass\n",
        "    loss.backward()\n",
        "    # SGD update\n",
        "    optimizer.step()\n",
        "\n",
        "  # Run whole dataset to get statistics -- normally wouldn't do this\n",
        "  pred_train = model(x_train)\n",
        "  pred_val = model(x_val)\n",
        "  _, predicted_train_class = torch.max(pred_train.data, 1)\n",
        "  _, predicted_val_class = torch.max(pred_val.data, 1)\n",
        "  errors_train[epoch] = 100 - 100 * (predicted_train_class == y_train).float().sum() / len(y_train)\n",
        "  errors_val[epoch]= 100 - 100 * (predicted_val_class == y_val).float().sum() / len(y_val)\n",
        "  losses_train[epoch] = loss_function(pred_train, y_train).item()\n",
        "  losses_val[epoch]= loss_function(pred_val, y_val).item()\n",
        "  print(f'Epoch {epoch:5d}, train loss {losses_train[epoch]:.6f}, train error {errors_train[epoch]:3.2f},  val loss {losses_val[epoch]:.6f}, percent error {errors_val[epoch]:3.2f}')\n",
        "  \n",
        "  # tell scheduler to consider updating learning rate\n",
        "  scheduler.step()\n",
        "\n",
        "# Plot the results\n",
        "fig, ax = plt.subplots()\n",
        "ax.plot(errors_train,'r-',label='train')\n",
        "ax.plot(errors_val,'b-',label='validation')\n",
        "ax.set_ylim(0,100); ax.set_xlim(0,n_epoch)\n",
        "ax.set_xlabel('Epoch'); ax.set_ylabel('Error')\n",
        "ax.set_title('Part II: Validation Result %3.2f'%(errors_val[-1]))\n",
        "ax.legend()\n",
        "ax.plot([0,n_epoch],[37.45, 37.45],'k:') # Original results. You should be better than this!\n",
        "plt.savefig('Coursework_II_Results.png',format='png')\n",
        "plt.show()"
      ],
      "metadata": {
        "id": "NYw8I_3mmX5c",
        "outputId": "dfca11ee-cb07-4f6e-cf5f-c21fe16f9a54",
        "colab": {
          "base_uri": "https://localhost:8080/",
          "height": 1000
        }
      },
      "execution_count": null,
      "outputs": [
        {
          "output_type": "stream",
          "name": "stdout",
          "text": [
            "Epoch     0, train loss 1.536095, train error 59.60,  val loss 1.632735, percent error 66.80\n",
            "Epoch     1, train loss 1.260895, train error 46.95,  val loss 1.418724, percent error 55.50\n",
            "Epoch     2, train loss 1.065383, train error 37.70,  val loss 1.308705, percent error 51.30\n",
            "Epoch     3, train loss 0.941116, train error 33.82,  val loss 1.254364, percent error 48.45\n",
            "Epoch     4, train loss 0.805851, train error 28.78,  val loss 1.168334, percent error 43.70\n",
            "Epoch     5, train loss 0.723712, train error 26.12,  val loss 1.206356, percent error 45.50\n",
            "Epoch     6, train loss 0.600345, train error 21.12,  val loss 1.124481, percent error 41.00\n",
            "Epoch     7, train loss 0.577216, train error 20.00,  val loss 1.152482, percent error 40.55\n",
            "Epoch     8, train loss 0.514236, train error 18.05,  val loss 1.199710, percent error 41.80\n",
            "Epoch     9, train loss 0.465396, train error 15.68,  val loss 1.211826, percent error 39.70\n",
            "Epoch    10, train loss 0.376197, train error 11.97,  val loss 1.161696, percent error 39.55\n",
            "Epoch    11, train loss 0.314631, train error 10.53,  val loss 1.204847, percent error 38.75\n",
            "Epoch    12, train loss 0.305834, train error 9.97,  val loss 1.225904, percent error 38.20\n",
            "Epoch    13, train loss 0.275097, train error 9.30,  val loss 1.313379, percent error 38.45\n",
            "Epoch    14, train loss 0.274892, train error 8.85,  val loss 1.388097, percent error 39.05\n",
            "Epoch    15, train loss 0.255551, train error 9.43,  val loss 1.399341, percent error 38.65\n",
            "Epoch    16, train loss 0.205304, train error 6.80,  val loss 1.282757, percent error 35.80\n",
            "Epoch    17, train loss 0.192591, train error 6.43,  val loss 1.358527, percent error 35.60\n",
            "Epoch    18, train loss 0.138912, train error 3.95,  val loss 1.388170, percent error 37.00\n",
            "Epoch    19, train loss 0.134545, train error 4.70,  val loss 1.499168, percent error 37.75\n",
            "Epoch    20, train loss 0.135633, train error 3.95,  val loss 1.461345, percent error 37.10\n",
            "Epoch    21, train loss 0.122011, train error 3.75,  val loss 1.555408, percent error 36.80\n",
            "Epoch    22, train loss 0.074689, train error 1.80,  val loss 1.506024, percent error 34.95\n",
            "Epoch    23, train loss 0.065413, train error 1.35,  val loss 1.558406, percent error 35.85\n",
            "Epoch    24, train loss 0.053051, train error 1.05,  val loss 1.618608, percent error 36.80\n",
            "Epoch    25, train loss 0.043911, train error 0.68,  val loss 1.602225, percent error 34.55\n",
            "Epoch    26, train loss 0.033463, train error 0.53,  val loss 1.641588, percent error 34.60\n",
            "Epoch    27, train loss 0.033235, train error 0.50,  val loss 1.701198, percent error 35.25\n",
            "Epoch    28, train loss 0.023101, train error 0.30,  val loss 1.717371, percent error 35.95\n",
            "Epoch    29, train loss 0.015368, train error 0.12,  val loss 1.764278, percent error 36.00\n",
            "Epoch    30, train loss 0.008176, train error 0.00,  val loss 1.730565, percent error 34.80\n",
            "Epoch    31, train loss 0.006021, train error 0.00,  val loss 1.736645, percent error 34.20\n",
            "Epoch    32, train loss 0.004973, train error 0.00,  val loss 1.751452, percent error 34.05\n",
            "Epoch    33, train loss 0.004495, train error 0.00,  val loss 1.765475, percent error 34.10\n",
            "Epoch    34, train loss 0.004137, train error 0.00,  val loss 1.780699, percent error 33.85\n",
            "Epoch    35, train loss 0.003798, train error 0.00,  val loss 1.790114, percent error 34.00\n",
            "Epoch    36, train loss 0.003579, train error 0.00,  val loss 1.804679, percent error 33.90\n",
            "Epoch    37, train loss 0.003360, train error 0.00,  val loss 1.815645, percent error 34.10\n",
            "Epoch    38, train loss 0.003204, train error 0.00,  val loss 1.824725, percent error 33.75\n",
            "Epoch    39, train loss 0.003038, train error 0.00,  val loss 1.834707, percent error 34.00\n",
            "Epoch    40, train loss 0.002904, train error 0.00,  val loss 1.850047, percent error 33.90\n",
            "Epoch    41, train loss 0.002767, train error 0.00,  val loss 1.860239, percent error 34.20\n",
            "Epoch    42, train loss 0.002664, train error 0.00,  val loss 1.869184, percent error 34.15\n",
            "Epoch    43, train loss 0.002576, train error 0.00,  val loss 1.874125, percent error 34.10\n",
            "Epoch    44, train loss 0.002449, train error 0.00,  val loss 1.884424, percent error 34.15\n",
            "Epoch    45, train loss 0.002358, train error 0.00,  val loss 1.895915, percent error 33.85\n",
            "Epoch    46, train loss 0.002273, train error 0.00,  val loss 1.901402, percent error 33.95\n",
            "Epoch    47, train loss 0.002197, train error 0.00,  val loss 1.908588, percent error 33.90\n",
            "Epoch    48, train loss 0.002130, train error 0.00,  val loss 1.915773, percent error 34.05\n",
            "Epoch    49, train loss 0.002091, train error 0.00,  val loss 1.920071, percent error 33.85\n"
          ]
        },
        {
          "output_type": "display_data",
          "data": {
            "text/plain": [
              "<Figure size 432x288 with 1 Axes>"
            ],
            "image/png": "[encoded data removed]"
          },
          "metadata": {
            "needs_background": "light"
          }
        }
      ]
    },
    {
      "cell_type": "code",
      "source": [
        "# Leave this all commented for now\n",
        "# We'll see how well you did on the test data after the coursework is submitted\n",
        "\n",
        "# if not os.path.exists('./test_data_x.npy'):\n",
        "#   !wget https://github.com/udlbook/udlbook/raw/main/practicals/test_data_x.npy\n",
        "#   !wget https://github.com/udlbook/udlbook/raw/main/practicals/test_data_y.npy\n",
        "\n",
        "\n",
        "# # I haven't given you this yet, leave commented\n",
        "# test_data_x = np.load('test_data_x.npy')\n",
        "# test_data_y = np.load('test_data_y.npy')\n",
        "# x_test = torch.tensor(test_data_x.transpose().astype('float32'))\n",
        "# y_test = torch.tensor(test_data_y.astype('long'))\n",
        "# pred_test = model(x_test)\n",
        "# _, predicted_test_class = torch.max(pred_test.data, 1)\n",
        "# errors_test = 100 - 100 * (predicted_test_class == y_test).float().sum() / len(y_test)\n",
        "# print(\"Test error = %3.3f\"%(errors_test))"
      ],
      "metadata": {
        "id": "O7nBz-R84QdJ"
      },
      "execution_count": null,
      "outputs": []
    },
    {
      "cell_type": "code",
      "source": [],
      "metadata": {
        "id": "zXccksoD1Eww"
      },
      "execution_count": null,
      "outputs": []
    }
  ]
}