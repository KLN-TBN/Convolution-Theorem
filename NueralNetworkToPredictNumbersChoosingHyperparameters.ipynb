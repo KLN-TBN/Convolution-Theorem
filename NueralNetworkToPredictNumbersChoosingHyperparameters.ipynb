{
  "nbformat": 4,
  "nbformat_minor": 0,
  "metadata": {
    "colab": {
      "provenance": [],
      "include_colab_link": true
    },
    "kernelspec": {
      "name": "python3",
      "display_name": "Python 3"
    },
    "language_info": {
      "name": "python"
    }
  },
  "cells": [
    {
      "cell_type": "markdown",
      "metadata": {
        "id": "view-in-github",
        "colab_type": "text"
      },
      "source": [
        "<a href=\"https://colab.research.google.com/github/KLN-TBN/Notebooks/blob/main/NueralNetworkToPredictNumbersChoosingHyperparameters.ipynb\" target=\"_parent\"><img src=\"https://colab.research.google.com/assets/colab-badge.svg\" alt=\"Open In Colab\"/></a>"
      ]
    },
    {
      "cell_type": "markdown",
      "source": [
        "# Coursework I -- Model hyperparameters\n",
        "\n",
        "The goal of the coursework is to modify a simple bit of numpy code that trains a network and measures the performance on a validation set for the MNist 1D dataset. \n",
        "\n",
        "In this coursework, you need to modify the **model hyperparameters** (only) to improve the performance over the current attempt.  This could mean the number of layers, the number of hidden units per layer, or the type of activation function, or any combination of the three. \n",
        "\n",
        "The only constraint is that you MUST use a fully connected network (no convolutional networks for now if you have read ahead in the book).\n",
        "\n",
        "You don't have to improve the performance much.  A few tenths of a percent is fine.  It just has to be better to get full marks.\n",
        "\n",
        "You will need to upload three things to Moodle:\n",
        "1.   The image that this notebook saves (click the folder icon on the left on colab to download it)\n",
        "2.   The lines of code you changed\n",
        "3.   The whole notebook as a .ipynb file.  You can do this on the File menu\n",
        "\n",
        "\n"
      ],
      "metadata": {
        "id": "t9vk9Elugvmi"
      }
    },
    {
      "cell_type": "code",
      "source": [
        "import numpy as np\n",
        "import os\n",
        "import torch, torch.nn as nn\n",
        "from torch.utils.data import TensorDataset, DataLoader\n",
        "from torch.optim.lr_scheduler import StepLR\n",
        "import matplotlib.pyplot as plt\n",
        "import random"
      ],
      "metadata": {
        "id": "YrXWAH7sUWvU"
      },
      "execution_count": null,
      "outputs": []
    },
    {
      "cell_type": "code",
      "source": [
        "# Run this once to copy the train and validation data to your CoLab environment \n",
        "# or download from my github to your local machine if you are doing this locally\n",
        "if not os.path.exists('./train_data_x.npy'):\n",
        "  !wget https://github.com/udlbook/udlbook/raw/main/practicals/train_data_x.npy\n",
        "  !wget https://github.com/udlbook/udlbook/raw/main/practicals/train_data_y.npy\n",
        "  !wget https://github.com/udlbook/udlbook/raw/main/practicals/val_data_x.npy\n",
        "  !wget https://github.com/udlbook/udlbook/raw/main/practicals/val_data_y.npy  "
      ],
      "metadata": {
        "id": "wScBGXXFVadm",
        "colab": {
          "base_uri": "https://localhost:8080/"
        },
        "outputId": "4dd2ef4c-f577-48d4-df89-d5b7a54a284e"
      },
      "execution_count": null,
      "outputs": [
        {
          "output_type": "stream",
          "name": "stdout",
          "text": [
            "--2022-12-15 12:18:05--  https://github.com/udlbook/udlbook/raw/main/practicals/train_data_x.npy\n",
            "Resolving github.com (github.com)... 140.82.114.3\n",
            "Connecting to github.com (github.com)|140.82.114.3|:443... connected.\n",
            "HTTP request sent, awaiting response... 302 Found\n",
            "Location: https://raw.githubusercontent.com/udlbook/udlbook/main/practicals/train_data_x.npy [following]\n",
            "--2022-12-15 12:18:05--  https://raw.githubusercontent.com/udlbook/udlbook/main/practicals/train_data_x.npy\n",
            "Resolving raw.githubusercontent.com (raw.githubusercontent.com)... 185.199.110.133, 185.199.111.133, 185.199.108.133, ...\n",
            "Connecting to raw.githubusercontent.com (raw.githubusercontent.com)|185.199.110.133|:443... connected.\n",
            "HTTP request sent, awaiting response... 200 OK\n",
            "Length: 1280128 (1.2M) [application/octet-stream]\n",
            "Saving to: ‘train_data_x.npy’\n",
            "\n",
            "train_data_x.npy    100%[===================>]   1.22M  --.-KB/s    in 0.04s   \n",
            "\n",
            "2022-12-15 12:18:06 (28.9 MB/s) - ‘train_data_x.npy’ saved [1280128/1280128]\n",
            "\n",
            "--2022-12-15 12:18:06--  https://github.com/udlbook/udlbook/raw/main/practicals/train_data_y.npy\n",
            "Resolving github.com (github.com)... 140.82.112.3\n",
            "Connecting to github.com (github.com)|140.82.112.3|:443... connected.\n",
            "HTTP request sent, awaiting response... 302 Found\n",
            "Location: https://raw.githubusercontent.com/udlbook/udlbook/main/practicals/train_data_y.npy [following]\n",
            "--2022-12-15 12:18:06--  https://raw.githubusercontent.com/udlbook/udlbook/main/practicals/train_data_y.npy\n",
            "Resolving raw.githubusercontent.com (raw.githubusercontent.com)... 185.199.108.133, 185.199.109.133, 185.199.110.133, ...\n",
            "Connecting to raw.githubusercontent.com (raw.githubusercontent.com)|185.199.108.133|:443... connected.\n",
            "HTTP request sent, awaiting response... 200 OK\n",
            "Length: 32128 (31K) [application/octet-stream]\n",
            "Saving to: ‘train_data_y.npy’\n",
            "\n",
            "train_data_y.npy    100%[===================>]  31.38K  --.-KB/s    in 0.002s  \n",
            "\n",
            "2022-12-15 12:18:07 (12.3 MB/s) - ‘train_data_y.npy’ saved [32128/32128]\n",
            "\n",
            "--2022-12-15 12:18:07--  https://github.com/udlbook/udlbook/raw/main/practicals/val_data_x.npy\n",
            "Resolving github.com (github.com)... 140.82.112.3\n",
            "Connecting to github.com (github.com)|140.82.112.3|:443... connected.\n",
            "HTTP request sent, awaiting response... 302 Found\n",
            "Location: https://raw.githubusercontent.com/udlbook/udlbook/main/practicals/val_data_x.npy [following]\n",
            "--2022-12-15 12:18:07--  https://raw.githubusercontent.com/udlbook/udlbook/main/practicals/val_data_x.npy\n",
            "Resolving raw.githubusercontent.com (raw.githubusercontent.com)... 185.199.108.133, 185.199.109.133, 185.199.110.133, ...\n",
            "Connecting to raw.githubusercontent.com (raw.githubusercontent.com)|185.199.108.133|:443... connected.\n",
            "HTTP request sent, awaiting response... 200 OK\n",
            "Length: 640128 (625K) [application/octet-stream]\n",
            "Saving to: ‘val_data_x.npy’\n",
            "\n",
            "val_data_x.npy      100%[===================>] 625.12K  --.-KB/s    in 0.03s   \n",
            "\n",
            "2022-12-15 12:18:07 (22.7 MB/s) - ‘val_data_x.npy’ saved [640128/640128]\n",
            "\n",
            "--2022-12-15 12:18:08--  https://github.com/udlbook/udlbook/raw/main/practicals/val_data_y.npy\n",
            "Resolving github.com (github.com)... 140.82.112.3\n",
            "Connecting to github.com (github.com)|140.82.112.3|:443... connected.\n",
            "HTTP request sent, awaiting response... 302 Found\n",
            "Location: https://raw.githubusercontent.com/udlbook/udlbook/main/practicals/val_data_y.npy [following]\n",
            "--2022-12-15 12:18:08--  https://raw.githubusercontent.com/udlbook/udlbook/main/practicals/val_data_y.npy\n",
            "Resolving raw.githubusercontent.com (raw.githubusercontent.com)... 185.199.109.133, 185.199.111.133, 185.199.108.133, ...\n",
            "Connecting to raw.githubusercontent.com (raw.githubusercontent.com)|185.199.109.133|:443... connected.\n",
            "HTTP request sent, awaiting response... 200 OK\n",
            "Length: 16128 (16K) [application/octet-stream]\n",
            "Saving to: ‘val_data_y.npy’\n",
            "\n",
            "val_data_y.npy      100%[===================>]  15.75K  --.-KB/s    in 0.001s  \n",
            "\n",
            "2022-12-15 12:18:08 (30.3 MB/s) - ‘val_data_y.npy’ saved [16128/16128]\n",
            "\n"
          ]
        }
      ]
    },
    {
      "cell_type": "code",
      "source": [
        "# Load in the data\n",
        "train_data_x = np.load('train_data_x.npy')\n",
        "train_data_y = np.load('train_data_y.npy')\n",
        "val_data_x = np.load('val_data_x.npy')\n",
        "val_data_y = np.load('val_data_y.npy')\n",
        "# Print out sizes\n",
        "print(\"Train data: %d examples (columns), each of which has %d dimensions (rows)\"%((train_data_x.shape[1],train_data_x.shape[0])))\n",
        "print(\"Validation data: %d examples (columns), each of which has %d dimensions (rows)\"%((val_data_x.shape[1],val_data_x.shape[0])))"
      ],
      "metadata": {
        "id": "8bKADvLHbiV5",
        "colab": {
          "base_uri": "https://localhost:8080/"
        },
        "outputId": "35a1c99d-f933-4b70-86ae-2d15f5f6fbca"
      },
      "execution_count": null,
      "outputs": [
        {
          "output_type": "stream",
          "name": "stdout",
          "text": [
            "Train data: 4000 examples (columns), each of which has 40 dimensions (rows)\n",
            "Validation data: 2000 examples (columns), each of which has 40 dimensions (rows)\n"
          ]
        }
      ]
    },
    {
      "cell_type": "markdown",
      "source": [
        "Define the network"
      ],
      "metadata": {
        "id": "_sFvRDGrl4qe"
      }
    },
    {
      "cell_type": "code",
      "source": [
        "# YOU SHOULD ONLY CHANGE THIS CELL!\n",
        "\n",
        "# There are 40 input dimensions and 10 output dimensions for this data\n",
        "# The inputs correspond to the 40 offsets in the MNIST1D template.\n",
        "D_i = 40\n",
        "# The outputs correspond to the 10 digits\n",
        "D_o = 10\n",
        "\n",
        "# Number of hidden units in layers 1 and 2\n",
        "#D_1 = 100\n",
        "D_1 = 500\n",
        "#D_2 = 100\n",
        "D_2 = 500\n",
        "D_3 = 500\n",
        "D_4 = 500\n",
        "D_5 = 500\n",
        "D_6 = 500\n",
        "\n",
        "# create model with two hidden layers\n",
        "model = nn.Sequential(\n",
        "nn.Linear(D_i, D_1),\n",
        "#nn.ReLU(),\n",
        "nn.LeakyReLU(),\n",
        "nn.Linear(D_1, D_2),\n",
        "#nn.ReLU(),\n",
        "nn.LeakyReLU(),\n",
        "nn.Linear(D_2, D_3),\n",
        "nn.LeakyReLU(),\n",
        "nn.Linear(D_3, D_4),\n",
        "nn.LeakyReLU(),\n",
        "nn.Linear(D_4, D_5),\n",
        "nn.LeakyReLU(),\n",
        "nn.Linear(D_5, D_6),\n",
        "nn.LeakyReLU(),\n",
        "nn.Linear(D_6, D_o))"
      ],
      "metadata": {
        "id": "FslroPJJffrh"
      },
      "execution_count": null,
      "outputs": []
    },
    {
      "cell_type": "code",
      "source": [
        "# He initialization of weights\n",
        "def weights_init(layer_in):\n",
        "  if isinstance(layer_in, nn.Linear):\n",
        "    nn.init.kaiming_uniform_(layer_in.weight)\n",
        "    layer_in.bias.data.fill_(0.0)"
      ],
      "metadata": {
        "id": "YgLaex1pfhqz"
      },
      "execution_count": null,
      "outputs": []
    },
    {
      "cell_type": "code",
      "source": [
        "# You need all this stuff to ensure that PyTorch is deterministic\n",
        "def set_seed(seed):\n",
        "    torch.manual_seed(seed)\n",
        "    torch.cuda.manual_seed_all(seed)\n",
        "    torch.backends.cudnn.deterministic = True\n",
        "    torch.backends.cudnn.benchmark = False\n",
        "    np.random.seed(seed)\n",
        "    random.seed(seed)\n",
        "    os.environ['PYTHONHASHSEED'] = str(seed)"
      ],
      "metadata": {
        "id": "zXRmxCQNnL_M"
      },
      "execution_count": null,
      "outputs": []
    },
    {
      "cell_type": "code",
      "source": [
        "# Set seed so always get same result (do not change)\n",
        "set_seed(1)\n",
        "\n",
        "# choose cross entropy loss function (equation 5.24 in the loss notes)\n",
        "loss_function = nn.CrossEntropyLoss()\n",
        "# construct SGD optimizer and initialize learning rate and momentum\n",
        "optimizer = torch.optim.SGD(model.parameters(), lr = 0.05, momentum=0.9)\n",
        "# object that decreases learning rate by half every 10 epochs\n",
        "scheduler = StepLR(optimizer, step_size=10, gamma=0.5)\n",
        "# create 100 dummy data points and store in data loader class\n",
        "x_train = torch.tensor(train_data_x.transpose().astype('float32'))\n",
        "y_train = torch.tensor(train_data_y.astype('long'))\n",
        "x_val= torch.tensor(val_data_x.transpose().astype('float32'))\n",
        "y_val = torch.tensor(val_data_y.astype('long'))\n",
        "\n",
        "# load the data into a class that creates the batches\n",
        "data_loader = DataLoader(TensorDataset(x_train,y_train), batch_size=100, shuffle=True, worker_init_fn=np.random.seed(1))\n",
        "\n",
        "# Initialize model weights\n",
        "model.apply(weights_init)\n",
        "\n",
        "# loop over the dataset n_epoch times\n",
        "n_epoch = 50\n",
        "# store the loss and the % correct at each epoch\n",
        "losses_train = np.zeros((n_epoch))\n",
        "errors_train = np.zeros((n_epoch))\n",
        "losses_val = np.zeros((n_epoch))\n",
        "errors_val = np.zeros((n_epoch))\n",
        "\n",
        "for epoch in range(n_epoch):\n",
        "  # loop over batches\n",
        "  for i, data in enumerate(data_loader):\n",
        "    # retrieve inputs and labels for this batch\n",
        "    x_batch, y_batch = data\n",
        "    # zero the parameter gradients\n",
        "    optimizer.zero_grad()\n",
        "    # forward pass -- calculate model output\n",
        "    pred = model(x_batch)\n",
        "    # compute the lss\n",
        "    loss = loss_function(pred, y_batch)\n",
        "    # backward pass\n",
        "    loss.backward()\n",
        "    # SGD update\n",
        "    optimizer.step()\n",
        "\n",
        "  # Run whole dataset to get statistics -- normally wouldn't do this\n",
        "  pred_train = model(x_train)\n",
        "  pred_val = model(x_val)\n",
        "  _, predicted_train_class = torch.max(pred_train.data, 1)\n",
        "  _, predicted_val_class = torch.max(pred_val.data, 1)\n",
        "  errors_train[epoch] = 100 - 100 * (predicted_train_class == y_train).float().sum() / len(y_train)\n",
        "  errors_val[epoch]= 100 - 100 * (predicted_val_class == y_val).float().sum() / len(y_val)\n",
        "  losses_train[epoch] = loss_function(pred_train, y_train).item()\n",
        "  losses_val[epoch]= loss_function(pred_val, y_val).item()\n",
        "  print(f'Epoch {epoch:5d}, train loss {losses_train[epoch]:.6f}, train error {errors_train[epoch]:3.2f},  val loss {losses_val[epoch]:.6f}, percent error {errors_val[epoch]:3.2f}')\n",
        "  \n",
        "  # tell scheduler to consider updating learning rate\n",
        "  scheduler.step()\n",
        "\n",
        "# Plot the results\n",
        "fig, ax = plt.subplots()\n",
        "ax.plot(errors_train,'r-',label='train')\n",
        "ax.plot(errors_val,'b-',label='validation')\n",
        "ax.set_ylim(0,100); ax.set_xlim(0,n_epoch)\n",
        "ax.set_xlabel('Epoch'); ax.set_ylabel('Error')\n",
        "ax.set_title('Part I: Validation Result %3.2f'%(errors_val[-1]))\n",
        "ax.legend()\n",
        "ax.plot([0,n_epoch],[37.45, 37.45],'k:') # Original results. You should be better than this!\n",
        "plt.savefig('Coursework_I_Results.png',format='png')\n",
        "plt.show()"
      ],
      "metadata": {
        "id": "NYw8I_3mmX5c",
        "colab": {
          "base_uri": "https://localhost:8080/",
          "height": 1000
        },
        "outputId": "bd5cb0ff-d860-436c-d1d6-f1680258d2ca"
      },
      "execution_count": null,
      "outputs": [
        {
          "output_type": "stream",
          "name": "stdout",
          "text": [
            "Epoch     0, train loss 1.622332, train error 62.30,  val loss 1.682883, percent error 66.80\n",
            "Epoch     1, train loss 1.300319, train error 51.92,  val loss 1.465708, percent error 59.45\n",
            "Epoch     2, train loss 1.190633, train error 46.28,  val loss 1.440926, percent error 58.75\n",
            "Epoch     3, train loss 0.929953, train error 35.43,  val loss 1.354237, percent error 48.90\n",
            "Epoch     4, train loss 0.660775, train error 25.62,  val loss 1.197476, percent error 43.70\n",
            "Epoch     5, train loss 0.540139, train error 20.88,  val loss 1.197637, percent error 41.35\n",
            "Epoch     6, train loss 0.484142, train error 17.53,  val loss 1.167464, percent error 39.05\n",
            "Epoch     7, train loss 0.363347, train error 12.00,  val loss 1.040526, percent error 37.15\n",
            "Epoch     8, train loss 0.237644, train error 7.90,  val loss 1.044792, percent error 33.35\n",
            "Epoch     9, train loss 0.212077, train error 7.35,  val loss 1.243756, percent error 34.95\n",
            "Epoch    10, train loss 0.053861, train error 1.38,  val loss 1.131043, percent error 31.15\n",
            "Epoch    11, train loss 0.020642, train error 0.43,  val loss 1.220158, percent error 29.05\n",
            "Epoch    12, train loss 0.005575, train error 0.00,  val loss 1.291161, percent error 28.40\n",
            "Epoch    13, train loss 0.003130, train error 0.00,  val loss 1.346501, percent error 28.90\n",
            "Epoch    14, train loss 0.001572, train error 0.00,  val loss 1.380764, percent error 28.75\n",
            "Epoch    15, train loss 0.001189, train error 0.00,  val loss 1.410036, percent error 28.40\n",
            "Epoch    16, train loss 0.000961, train error 0.00,  val loss 1.439536, percent error 28.40\n",
            "Epoch    17, train loss 0.000812, train error 0.00,  val loss 1.461561, percent error 28.35\n",
            "Epoch    18, train loss 0.000703, train error 0.00,  val loss 1.482384, percent error 28.35\n",
            "Epoch    19, train loss 0.000623, train error 0.00,  val loss 1.500359, percent error 28.45\n",
            "Epoch    20, train loss 0.000589, train error 0.00,  val loss 1.508888, percent error 28.35\n",
            "Epoch    21, train loss 0.000558, train error 0.00,  val loss 1.517607, percent error 28.25\n",
            "Epoch    22, train loss 0.000530, train error 0.00,  val loss 1.524988, percent error 28.15\n",
            "Epoch    23, train loss 0.000505, train error 0.00,  val loss 1.532249, percent error 28.25\n",
            "Epoch    24, train loss 0.000482, train error 0.00,  val loss 1.538962, percent error 28.15\n",
            "Epoch    25, train loss 0.000462, train error 0.00,  val loss 1.546015, percent error 28.20\n",
            "Epoch    26, train loss 0.000442, train error 0.00,  val loss 1.552407, percent error 28.25\n",
            "Epoch    27, train loss 0.000424, train error 0.00,  val loss 1.558611, percent error 28.15\n",
            "Epoch    28, train loss 0.000408, train error 0.00,  val loss 1.564834, percent error 28.25\n",
            "Epoch    29, train loss 0.000392, train error 0.00,  val loss 1.570973, percent error 28.25\n",
            "Epoch    30, train loss 0.000385, train error 0.00,  val loss 1.573898, percent error 28.25\n",
            "Epoch    31, train loss 0.000378, train error 0.00,  val loss 1.576749, percent error 28.25\n",
            "Epoch    32, train loss 0.000371, train error 0.00,  val loss 1.579440, percent error 28.25\n",
            "Epoch    33, train loss 0.000365, train error 0.00,  val loss 1.582103, percent error 28.20\n",
            "Epoch    34, train loss 0.000358, train error 0.00,  val loss 1.584642, percent error 28.20\n",
            "Epoch    35, train loss 0.000352, train error 0.00,  val loss 1.587298, percent error 28.20\n",
            "Epoch    36, train loss 0.000346, train error 0.00,  val loss 1.590123, percent error 28.20\n",
            "Epoch    37, train loss 0.000340, train error 0.00,  val loss 1.592641, percent error 28.20\n",
            "Epoch    38, train loss 0.000335, train error 0.00,  val loss 1.595147, percent error 28.15\n",
            "Epoch    39, train loss 0.000330, train error 0.00,  val loss 1.597827, percent error 28.20\n",
            "Epoch    40, train loss 0.000327, train error 0.00,  val loss 1.599030, percent error 28.15\n",
            "Epoch    41, train loss 0.000324, train error 0.00,  val loss 1.600287, percent error 28.15\n",
            "Epoch    42, train loss 0.000322, train error 0.00,  val loss 1.601465, percent error 28.15\n",
            "Epoch    43, train loss 0.000319, train error 0.00,  val loss 1.602640, percent error 28.15\n",
            "Epoch    44, train loss 0.000317, train error 0.00,  val loss 1.603847, percent error 28.15\n",
            "Epoch    45, train loss 0.000314, train error 0.00,  val loss 1.605077, percent error 28.15\n",
            "Epoch    46, train loss 0.000312, train error 0.00,  val loss 1.606315, percent error 28.15\n",
            "Epoch    47, train loss 0.000310, train error 0.00,  val loss 1.607526, percent error 28.15\n",
            "Epoch    48, train loss 0.000307, train error 0.00,  val loss 1.608646, percent error 28.15\n",
            "Epoch    49, train loss 0.000305, train error 0.00,  val loss 1.609746, percent error 28.15\n"
          ]
        },
        {
          "output_type": "display_data",
          "data": {
            "text/plain": [
              "<Figure size 432x288 with 1 Axes>"
            ],
            "image/png": "[encoded data removed]"
          },
          "metadata": {
            "needs_background": "light"
          }
        }
      ]
    },
    {
      "cell_type": "code",
      "source": [
        "# Leave this all commented for now\n",
        "# We'll see how well you did on the test data after the coursework is submitted\n",
        "\n",
        "if not os.path.exists('./test_data_x.npy'):\n",
        "  !wget https://github.com/udlbook/udlbook/raw/main/practicals/test_data_x.npy\n",
        "  !wget https://github.com/udlbook/udlbook/raw/main/practicals/test_data_y.npy\n",
        "\n",
        "\n",
        "# # I haven't given you this yet, leave commented\n",
        "test_data_x = np.load('test_data_x.npy')\n",
        "test_data_y = np.load('test_data_y.npy')\n",
        "x_test = torch.tensor(test_data_x.transpose().astype('float32'))\n",
        "y_test = torch.tensor(test_data_y.astype('long'))\n",
        "pred_test = model(x_test)\n",
        "_, predicted_test_class = torch.max(pred_test.data, 1)\n",
        "errors_test = 100 - 100 * (predicted_test_class == y_test).float().sum() / len(y_test)\n",
        "print(\"Test error = %3.3f\"%(errors_test))"
      ],
      "metadata": {
        "id": "O7nBz-R84QdJ",
        "colab": {
          "base_uri": "https://localhost:8080/"
        },
        "outputId": "ae23ac49-550d-4894-f147-c0df60ca5f70"
      },
      "execution_count": null,
      "outputs": [
        {
          "output_type": "stream",
          "name": "stdout",
          "text": [
            "--2022-12-15 12:19:23--  https://github.com/udlbook/udlbook/raw/main/practicals/test_data_x.npy\n",
            "Resolving github.com (github.com)... 140.82.113.3\n",
            "Connecting to github.com (github.com)|140.82.113.3|:443... connected.\n",
            "HTTP request sent, awaiting response... 302 Found\n",
            "Location: https://raw.githubusercontent.com/udlbook/udlbook/main/practicals/test_data_x.npy [following]\n",
            "--2022-12-15 12:19:23--  https://raw.githubusercontent.com/udlbook/udlbook/main/practicals/test_data_x.npy\n",
            "Resolving raw.githubusercontent.com (raw.githubusercontent.com)... 185.199.108.133, 185.199.109.133, 185.199.110.133, ...\n",
            "Connecting to raw.githubusercontent.com (raw.githubusercontent.com)|185.199.108.133|:443... connected.\n",
            "HTTP request sent, awaiting response... 200 OK\n",
            "Length: 640128 (625K) [application/octet-stream]\n",
            "Saving to: ‘test_data_x.npy’\n",
            "\n",
            "test_data_x.npy     100%[===================>] 625.12K  --.-KB/s    in 0.03s   \n",
            "\n",
            "2022-12-15 12:19:23 (22.1 MB/s) - ‘test_data_x.npy’ saved [640128/640128]\n",
            "\n",
            "--2022-12-15 12:19:23--  https://github.com/udlbook/udlbook/raw/main/practicals/test_data_y.npy\n",
            "Resolving github.com (github.com)... 140.82.113.3\n",
            "Connecting to github.com (github.com)|140.82.113.3|:443... connected.\n",
            "HTTP request sent, awaiting response... 302 Found\n",
            "Location: https://raw.githubusercontent.com/udlbook/udlbook/main/practicals/test_data_y.npy [following]\n",
            "--2022-12-15 12:19:24--  https://raw.githubusercontent.com/udlbook/udlbook/main/practicals/test_data_y.npy\n",
            "Resolving raw.githubusercontent.com (raw.githubusercontent.com)... 185.199.110.133, 185.199.111.133, 185.199.108.133, ...\n",
            "Connecting to raw.githubusercontent.com (raw.githubusercontent.com)|185.199.110.133|:443... connected.\n",
            "HTTP request sent, awaiting response... 200 OK\n",
            "Length: 16128 (16K) [application/octet-stream]\n",
            "Saving to: ‘test_data_y.npy’\n",
            "\n",
            "test_data_y.npy     100%[===================>]  15.75K  --.-KB/s    in 0s      \n",
            "\n",
            "2022-12-15 12:19:24 (32.8 MB/s) - ‘test_data_y.npy’ saved [16128/16128]\n",
            "\n",
            "Test error = 28.400\n"
          ]
        }
      ]
    }
  ]
}