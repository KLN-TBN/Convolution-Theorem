{
  "nbformat": 4,
  "nbformat_minor": 0,
  "metadata": {
    "colab": {
      "provenance": [],
      "authorship_tag": "ABX9TyMwEq3q075NoOXmOGQwf8Fb",
      "include_colab_link": true
    },
    "kernelspec": {
      "name": "python3",
      "display_name": "Python 3"
    },
    "language_info": {
      "name": "python"
    }
  },
  "cells": [
    {
      "cell_type": "markdown",
      "metadata": {
        "id": "view-in-github",
        "colab_type": "text"
      },
      "source": [
        "<a href=\"https://colab.research.google.com/github/KLN-TBN/Notebooks/blob/main/InsertionSort_CW_DS%26A_Q7.ipynb\" target=\"_parent\"><img src=\"https://colab.research.google.com/assets/colab-badge.svg\" alt=\"Open In Colab\"/></a>"
      ]
    },
    {
      "cell_type": "code",
      "execution_count": null,
      "metadata": {
        "colab": {
          "base_uri": "https://localhost:8080/"
        },
        "id": "eg7EkjK0Ngxz",
        "outputId": "e728bec0-8465-478e-c4fa-199bbea68c42"
      },
      "outputs": [
        {
          "output_type": "stream",
          "name": "stdout",
          "text": [
            "done\n"
          ]
        }
      ],
      "source": [
        "def swap(array, i1, i2):\n",
        "  temp = array[i1]\n",
        "  array[i1] = array[i2]\n",
        "  array[i2] = temp\n",
        "\n",
        "def insertionSortAscendingSwaps(array):\n",
        "  swaps = 0\n",
        "  for i in range(1,len(array)):\n",
        "    index = i\n",
        "    while array[index] < array[index-1] and index > 0:\n",
        "      swap(array,index,index-1)\n",
        "      index -= 1\n",
        "      swaps += 1\n",
        "  return swaps\n",
        "\n",
        "def insertionSortDescendingSwaps(array):\n",
        "  swaps = 0\n",
        "  for i in range(1,len(array)):\n",
        "    index = i\n",
        "    while array[index] > array[index-1] and index > 0:\n",
        "      swap(array,index,index-1)\n",
        "      index -= 1\n",
        "      swaps += 1\n",
        "  return swaps\n",
        "\n",
        "import itertools\n",
        "lists = list(itertools.permutations(list(range(10))))\n",
        "#insertionSortDescendingSwaps(lists[0])\n",
        "#print(lists[0])\n",
        "for array in lists:\n",
        "  copy = []\n",
        "  for num in array:\n",
        "    copy.append(num)\n",
        "  if insertionSortAscendingSwaps(list(array)) == 15:\n",
        "    #print(copy)\n",
        "    if insertionSortDescendingSwaps(copy) != 30:\n",
        "      print(\"contradiction\")\n",
        "\n",
        "print(\"done\")\n",
        "\n"
      ]
    }
  ]
}