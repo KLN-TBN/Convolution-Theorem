{
  "nbformat": 4,
  "nbformat_minor": 0,
  "metadata": {
    "colab": {
      "provenance": [],
      "include_colab_link": true
    },
    "kernelspec": {
      "name": "python3",
      "display_name": "Python 3"
    },
    "language_info": {
      "name": "python"
    },
    "widgets": {
      "application/vnd.jupyter.widget-state+json": {
        "5f6ec25d057840c6ad9c6a88fddb375a": {
          "model_module": "@jupyter-widgets/controls",
          "model_name": "HBoxModel",
          "model_module_version": "1.5.0",
          "state": {
            "_dom_classes": [],
            "_model_module": "@jupyter-widgets/controls",
            "_model_module_version": "1.5.0",
            "_model_name": "HBoxModel",
            "_view_count": null,
            "_view_module": "@jupyter-widgets/controls",
            "_view_module_version": "1.5.0",
            "_view_name": "HBoxView",
            "box_style": "",
            "children": [
              "IPY_MODEL_70e40cb9ccc04f16aa2b7b0183d5133f",
              "IPY_MODEL_7c63715048394a478c053045af2cd729",
              "IPY_MODEL_588202719bf948ffb7b1a62a542e8d9c"
            ],
            "layout": "IPY_MODEL_0e1ebea3382549df913a3dea4399f52b"
          }
        },
        "70e40cb9ccc04f16aa2b7b0183d5133f": {
          "model_module": "@jupyter-widgets/controls",
          "model_name": "HTMLModel",
          "model_module_version": "1.5.0",
          "state": {
            "_dom_classes": [],
            "_model_module": "@jupyter-widgets/controls",
            "_model_module_version": "1.5.0",
            "_model_name": "HTMLModel",
            "_view_count": null,
            "_view_module": "@jupyter-widgets/controls",
            "_view_module_version": "1.5.0",
            "_view_name": "HTMLView",
            "description": "",
            "description_tooltip": null,
            "layout": "IPY_MODEL_ccbabc0b9ef34135a3435352b33f8d2e",
            "placeholder": "​",
            "style": "IPY_MODEL_69b674eaa94e41f09af7438383647ac7",
            "value": "Downloading (…)lve/main/config.json: 100%"
          }
        },
        "7c63715048394a478c053045af2cd729": {
          "model_module": "@jupyter-widgets/controls",
          "model_name": "FloatProgressModel",
          "model_module_version": "1.5.0",
          "state": {
            "_dom_classes": [],
            "_model_module": "@jupyter-widgets/controls",
            "_model_module_version": "1.5.0",
            "_model_name": "FloatProgressModel",
            "_view_count": null,
            "_view_module": "@jupyter-widgets/controls",
            "_view_module_version": "1.5.0",
            "_view_name": "ProgressView",
            "bar_style": "success",
            "description": "",
            "description_tooltip": null,
            "layout": "IPY_MODEL_d42bf1f0388c4cfea1fdf1d8993f9c80",
            "max": 1226,
            "min": 0,
            "orientation": "horizontal",
            "style": "IPY_MODEL_a903acf2d5d04b6c8486c44227dc8883",
            "value": 1226
          }
        },
        "588202719bf948ffb7b1a62a542e8d9c": {
          "model_module": "@jupyter-widgets/controls",
          "model_name": "HTMLModel",
          "model_module_version": "1.5.0",
          "state": {
            "_dom_classes": [],
            "_model_module": "@jupyter-widgets/controls",
            "_model_module_version": "1.5.0",
            "_model_name": "HTMLModel",
            "_view_count": null,
            "_view_module": "@jupyter-widgets/controls",
            "_view_module_version": "1.5.0",
            "_view_name": "HTMLView",
            "description": "",
            "description_tooltip": null,
            "layout": "IPY_MODEL_ad6d20f137764111a9773bf35003a3a1",
            "placeholder": "​",
            "style": "IPY_MODEL_c132feee8c254f24b21b7152b0a1b06a",
            "value": " 1.23k/1.23k [00:00&lt;00:00, 28.6kB/s]"
          }
        },
        "0e1ebea3382549df913a3dea4399f52b": {
          "model_module": "@jupyter-widgets/base",
          "model_name": "LayoutModel",
          "model_module_version": "1.2.0",
          "state": {
            "_model_module": "@jupyter-widgets/base",
            "_model_module_version": "1.2.0",
            "_model_name": "LayoutModel",
            "_view_count": null,
            "_view_module": "@jupyter-widgets/base",
            "_view_module_version": "1.2.0",
            "_view_name": "LayoutView",
            "align_content": null,
            "align_items": null,
            "align_self": null,
            "border": null,
            "bottom": null,
            "display": null,
            "flex": null,
            "flex_flow": null,
            "grid_area": null,
            "grid_auto_columns": null,
            "grid_auto_flow": null,
            "grid_auto_rows": null,
            "grid_column": null,
            "grid_gap": null,
            "grid_row": null,
            "grid_template_areas": null,
            "grid_template_columns": null,
            "grid_template_rows": null,
            "height": null,
            "justify_content": null,
            "justify_items": null,
            "left": null,
            "margin": null,
            "max_height": null,
            "max_width": null,
            "min_height": null,
            "min_width": null,
            "object_fit": null,
            "object_position": null,
            "order": null,
            "overflow": null,
            "overflow_x": null,
            "overflow_y": null,
            "padding": null,
            "right": null,
            "top": null,
            "visibility": null,
            "width": null
          }
        },
        "ccbabc0b9ef34135a3435352b33f8d2e": {
          "model_module": "@jupyter-widgets/base",
          "model_name": "LayoutModel",
          "model_module_version": "1.2.0",
          "state": {
            "_model_module": "@jupyter-widgets/base",
            "_model_module_version": "1.2.0",
            "_model_name": "LayoutModel",
            "_view_count": null,
            "_view_module": "@jupyter-widgets/base",
            "_view_module_version": "1.2.0",
            "_view_name": "LayoutView",
            "align_content": null,
            "align_items": null,
            "align_self": null,
            "border": null,
            "bottom": null,
            "display": null,
            "flex": null,
            "flex_flow": null,
            "grid_area": null,
            "grid_auto_columns": null,
            "grid_auto_flow": null,
            "grid_auto_rows": null,
            "grid_column": null,
            "grid_gap": null,
            "grid_row": null,
            "grid_template_areas": null,
            "grid_template_columns": null,
            "grid_template_rows": null,
            "height": null,
            "justify_content": null,
            "justify_items": null,
            "left": null,
            "margin": null,
            "max_height": null,
            "max_width": null,
            "min_height": null,
            "min_width": null,
            "object_fit": null,
            "object_position": null,
            "order": null,
            "overflow": null,
            "overflow_x": null,
            "overflow_y": null,
            "padding": null,
            "right": null,
            "top": null,
            "visibility": null,
            "width": null
          }
        },
        "69b674eaa94e41f09af7438383647ac7": {
          "model_module": "@jupyter-widgets/controls",
          "model_name": "DescriptionStyleModel",
          "model_module_version": "1.5.0",
          "state": {
            "_model_module": "@jupyter-widgets/controls",
            "_model_module_version": "1.5.0",
            "_model_name": "DescriptionStyleModel",
            "_view_count": null,
            "_view_module": "@jupyter-widgets/base",
            "_view_module_version": "1.2.0",
            "_view_name": "StyleView",
            "description_width": ""
          }
        },
        "d42bf1f0388c4cfea1fdf1d8993f9c80": {
          "model_module": "@jupyter-widgets/base",
          "model_name": "LayoutModel",
          "model_module_version": "1.2.0",
          "state": {
            "_model_module": "@jupyter-widgets/base",
            "_model_module_version": "1.2.0",
            "_model_name": "LayoutModel",
            "_view_count": null,
            "_view_module": "@jupyter-widgets/base",
            "_view_module_version": "1.2.0",
            "_view_name": "LayoutView",
            "align_content": null,
            "align_items": null,
            "align_self": null,
            "border": null,
            "bottom": null,
            "display": null,
            "flex": null,
            "flex_flow": null,
            "grid_area": null,
            "grid_auto_columns": null,
            "grid_auto_flow": null,
            "grid_auto_rows": null,
            "grid_column": null,
            "grid_gap": null,
            "grid_row": null,
            "grid_template_areas": null,
            "grid_template_columns": null,
            "grid_template_rows": null,
            "height": null,
            "justify_content": null,
            "justify_items": null,
            "left": null,
            "margin": null,
            "max_height": null,
            "max_width": null,
            "min_height": null,
            "min_width": null,
            "object_fit": null,
            "object_position": null,
            "order": null,
            "overflow": null,
            "overflow_x": null,
            "overflow_y": null,
            "padding": null,
            "right": null,
            "top": null,
            "visibility": null,
            "width": null
          }
        },
        "a903acf2d5d04b6c8486c44227dc8883": {
          "model_module": "@jupyter-widgets/controls",
          "model_name": "ProgressStyleModel",
          "model_module_version": "1.5.0",
          "state": {
            "_model_module": "@jupyter-widgets/controls",
            "_model_module_version": "1.5.0",
            "_model_name": "ProgressStyleModel",
            "_view_count": null,
            "_view_module": "@jupyter-widgets/base",
            "_view_module_version": "1.2.0",
            "_view_name": "StyleView",
            "bar_color": null,
            "description_width": ""
          }
        },
        "ad6d20f137764111a9773bf35003a3a1": {
          "model_module": "@jupyter-widgets/base",
          "model_name": "LayoutModel",
          "model_module_version": "1.2.0",
          "state": {
            "_model_module": "@jupyter-widgets/base",
            "_model_module_version": "1.2.0",
            "_model_name": "LayoutModel",
            "_view_count": null,
            "_view_module": "@jupyter-widgets/base",
            "_view_module_version": "1.2.0",
            "_view_name": "LayoutView",
            "align_content": null,
            "align_items": null,
            "align_self": null,
            "border": null,
            "bottom": null,
            "display": null,
            "flex": null,
            "flex_flow": null,
            "grid_area": null,
            "grid_auto_columns": null,
            "grid_auto_flow": null,
            "grid_auto_rows": null,
            "grid_column": null,
            "grid_gap": null,
            "grid_row": null,
            "grid_template_areas": null,
            "grid_template_columns": null,
            "grid_template_rows": null,
            "height": null,
            "justify_content": null,
            "justify_items": null,
            "left": null,
            "margin": null,
            "max_height": null,
            "max_width": null,
            "min_height": null,
            "min_width": null,
            "object_fit": null,
            "object_position": null,
            "order": null,
            "overflow": null,
            "overflow_x": null,
            "overflow_y": null,
            "padding": null,
            "right": null,
            "top": null,
            "visibility": null,
            "width": null
          }
        },
        "c132feee8c254f24b21b7152b0a1b06a": {
          "model_module": "@jupyter-widgets/controls",
          "model_name": "DescriptionStyleModel",
          "model_module_version": "1.5.0",
          "state": {
            "_model_module": "@jupyter-widgets/controls",
            "_model_module_version": "1.5.0",
            "_model_name": "DescriptionStyleModel",
            "_view_count": null,
            "_view_module": "@jupyter-widgets/base",
            "_view_module_version": "1.2.0",
            "_view_name": "StyleView",
            "description_width": ""
          }
        },
        "60033739e7d74294b3c6ca2337d2adfc": {
          "model_module": "@jupyter-widgets/controls",
          "model_name": "HBoxModel",
          "model_module_version": "1.5.0",
          "state": {
            "_dom_classes": [],
            "_model_module": "@jupyter-widgets/controls",
            "_model_module_version": "1.5.0",
            "_model_name": "HBoxModel",
            "_view_count": null,
            "_view_module": "@jupyter-widgets/controls",
            "_view_module_version": "1.5.0",
            "_view_name": "HBoxView",
            "box_style": "",
            "children": [
              "IPY_MODEL_ebeab39922824a1d8d7dea991aff4bf2",
              "IPY_MODEL_d7ffb70d867a420d8634a0d6ec97eff8",
              "IPY_MODEL_656d0383a49a4489961812b801eaa4ed"
            ],
            "layout": "IPY_MODEL_c7c397ab024444c3b71c809d0a6557bf"
          }
        },
        "ebeab39922824a1d8d7dea991aff4bf2": {
          "model_module": "@jupyter-widgets/controls",
          "model_name": "HTMLModel",
          "model_module_version": "1.5.0",
          "state": {
            "_dom_classes": [],
            "_model_module": "@jupyter-widgets/controls",
            "_model_module_version": "1.5.0",
            "_model_name": "HTMLModel",
            "_view_count": null,
            "_view_module": "@jupyter-widgets/controls",
            "_view_module_version": "1.5.0",
            "_view_name": "HTMLView",
            "description": "",
            "description_tooltip": null,
            "layout": "IPY_MODEL_3c4c1a908f3b49358cc6a021f200fed3",
            "placeholder": "​",
            "style": "IPY_MODEL_a794b248b90c4556a3e4cb2293d29b89",
            "value": "Downloading (…)&quot;pytorch_model.bin&quot;;: 100%"
          }
        },
        "d7ffb70d867a420d8634a0d6ec97eff8": {
          "model_module": "@jupyter-widgets/controls",
          "model_name": "FloatProgressModel",
          "model_module_version": "1.5.0",
          "state": {
            "_dom_classes": [],
            "_model_module": "@jupyter-widgets/controls",
            "_model_module_version": "1.5.0",
            "_model_name": "FloatProgressModel",
            "_view_count": null,
            "_view_module": "@jupyter-widgets/controls",
            "_view_module_version": "1.5.0",
            "_view_name": "ProgressView",
            "bar_style": "success",
            "description": "",
            "description_tooltip": null,
            "layout": "IPY_MODEL_508df9bfc18c4e2387e17cd30809daf3",
            "max": 891695056,
            "min": 0,
            "orientation": "horizontal",
            "style": "IPY_MODEL_39e2b91a245a4274add26286141f3c53",
            "value": 891695056
          }
        },
        "656d0383a49a4489961812b801eaa4ed": {
          "model_module": "@jupyter-widgets/controls",
          "model_name": "HTMLModel",
          "model_module_version": "1.5.0",
          "state": {
            "_dom_classes": [],
            "_model_module": "@jupyter-widgets/controls",
            "_model_module_version": "1.5.0",
            "_model_name": "HTMLModel",
            "_view_count": null,
            "_view_module": "@jupyter-widgets/controls",
            "_view_module_version": "1.5.0",
            "_view_name": "HTMLView",
            "description": "",
            "description_tooltip": null,
            "layout": "IPY_MODEL_a7f9ee2fc1b5450695dfbab757fc4666",
            "placeholder": "​",
            "style": "IPY_MODEL_6e49300c98db4da891ea1f4f719dfe58",
            "value": " 892M/892M [00:10&lt;00:00, 87.1MB/s]"
          }
        },
        "c7c397ab024444c3b71c809d0a6557bf": {
          "model_module": "@jupyter-widgets/base",
          "model_name": "LayoutModel",
          "model_module_version": "1.2.0",
          "state": {
            "_model_module": "@jupyter-widgets/base",
            "_model_module_version": "1.2.0",
            "_model_name": "LayoutModel",
            "_view_count": null,
            "_view_module": "@jupyter-widgets/base",
            "_view_module_version": "1.2.0",
            "_view_name": "LayoutView",
            "align_content": null,
            "align_items": null,
            "align_self": null,
            "border": null,
            "bottom": null,
            "display": null,
            "flex": null,
            "flex_flow": null,
            "grid_area": null,
            "grid_auto_columns": null,
            "grid_auto_flow": null,
            "grid_auto_rows": null,
            "grid_column": null,
            "grid_gap": null,
            "grid_row": null,
            "grid_template_areas": null,
            "grid_template_columns": null,
            "grid_template_rows": null,
            "height": null,
            "justify_content": null,
            "justify_items": null,
            "left": null,
            "margin": null,
            "max_height": null,
            "max_width": null,
            "min_height": null,
            "min_width": null,
            "object_fit": null,
            "object_position": null,
            "order": null,
            "overflow": null,
            "overflow_x": null,
            "overflow_y": null,
            "padding": null,
            "right": null,
            "top": null,
            "visibility": null,
            "width": null
          }
        },
        "3c4c1a908f3b49358cc6a021f200fed3": {
          "model_module": "@jupyter-widgets/base",
          "model_name": "LayoutModel",
          "model_module_version": "1.2.0",
          "state": {
            "_model_module": "@jupyter-widgets/base",
            "_model_module_version": "1.2.0",
            "_model_name": "LayoutModel",
            "_view_count": null,
            "_view_module": "@jupyter-widgets/base",
            "_view_module_version": "1.2.0",
            "_view_name": "LayoutView",
            "align_content": null,
            "align_items": null,
            "align_self": null,
            "border": null,
            "bottom": null,
            "display": null,
            "flex": null,
            "flex_flow": null,
            "grid_area": null,
            "grid_auto_columns": null,
            "grid_auto_flow": null,
            "grid_auto_rows": null,
            "grid_column": null,
            "grid_gap": null,
            "grid_row": null,
            "grid_template_areas": null,
            "grid_template_columns": null,
            "grid_template_rows": null,
            "height": null,
            "justify_content": null,
            "justify_items": null,
            "left": null,
            "margin": null,
            "max_height": null,
            "max_width": null,
            "min_height": null,
            "min_width": null,
            "object_fit": null,
            "object_position": null,
            "order": null,
            "overflow": null,
            "overflow_x": null,
            "overflow_y": null,
            "padding": null,
            "right": null,
            "top": null,
            "visibility": null,
            "width": null
          }
        },
        "a794b248b90c4556a3e4cb2293d29b89": {
          "model_module": "@jupyter-widgets/controls",
          "model_name": "DescriptionStyleModel",
          "model_module_version": "1.5.0",
          "state": {
            "_model_module": "@jupyter-widgets/controls",
            "_model_module_version": "1.5.0",
            "_model_name": "DescriptionStyleModel",
            "_view_count": null,
            "_view_module": "@jupyter-widgets/base",
            "_view_module_version": "1.2.0",
            "_view_name": "StyleView",
            "description_width": ""
          }
        },
        "508df9bfc18c4e2387e17cd30809daf3": {
          "model_module": "@jupyter-widgets/base",
          "model_name": "LayoutModel",
          "model_module_version": "1.2.0",
          "state": {
            "_model_module": "@jupyter-widgets/base",
            "_model_module_version": "1.2.0",
            "_model_name": "LayoutModel",
            "_view_count": null,
            "_view_module": "@jupyter-widgets/base",
            "_view_module_version": "1.2.0",
            "_view_name": "LayoutView",
            "align_content": null,
            "align_items": null,
            "align_self": null,
            "border": null,
            "bottom": null,
            "display": null,
            "flex": null,
            "flex_flow": null,
            "grid_area": null,
            "grid_auto_columns": null,
            "grid_auto_flow": null,
            "grid_auto_rows": null,
            "grid_column": null,
            "grid_gap": null,
            "grid_row": null,
            "grid_template_areas": null,
            "grid_template_columns": null,
            "grid_template_rows": null,
            "height": null,
            "justify_content": null,
            "justify_items": null,
            "left": null,
            "margin": null,
            "max_height": null,
            "max_width": null,
            "min_height": null,
            "min_width": null,
            "object_fit": null,
            "object_position": null,
            "order": null,
            "overflow": null,
            "overflow_x": null,
            "overflow_y": null,
            "padding": null,
            "right": null,
            "top": null,
            "visibility": null,
            "width": null
          }
        },
        "39e2b91a245a4274add26286141f3c53": {
          "model_module": "@jupyter-widgets/controls",
          "model_name": "ProgressStyleModel",
          "model_module_version": "1.5.0",
          "state": {
            "_model_module": "@jupyter-widgets/controls",
            "_model_module_version": "1.5.0",
            "_model_name": "ProgressStyleModel",
            "_view_count": null,
            "_view_module": "@jupyter-widgets/base",
            "_view_module_version": "1.2.0",
            "_view_name": "StyleView",
            "bar_color": null,
            "description_width": ""
          }
        },
        "a7f9ee2fc1b5450695dfbab757fc4666": {
          "model_module": "@jupyter-widgets/base",
          "model_name": "LayoutModel",
          "model_module_version": "1.2.0",
          "state": {
            "_model_module": "@jupyter-widgets/base",
            "_model_module_version": "1.2.0",
            "_model_name": "LayoutModel",
            "_view_count": null,
            "_view_module": "@jupyter-widgets/base",
            "_view_module_version": "1.2.0",
            "_view_name": "LayoutView",
            "align_content": null,
            "align_items": null,
            "align_self": null,
            "border": null,
            "bottom": null,
            "display": null,
            "flex": null,
            "flex_flow": null,
            "grid_area": null,
            "grid_auto_columns": null,
            "grid_auto_flow": null,
            "grid_auto_rows": null,
            "grid_column": null,
            "grid_gap": null,
            "grid_row": null,
            "grid_template_areas": null,
            "grid_template_columns": null,
            "grid_template_rows": null,
            "height": null,
            "justify_content": null,
            "justify_items": null,
            "left": null,
            "margin": null,
            "max_height": null,
            "max_width": null,
            "min_height": null,
            "min_width": null,
            "object_fit": null,
            "object_position": null,
            "order": null,
            "overflow": null,
            "overflow_x": null,
            "overflow_y": null,
            "padding": null,
            "right": null,
            "top": null,
            "visibility": null,
            "width": null
          }
        },
        "6e49300c98db4da891ea1f4f719dfe58": {
          "model_module": "@jupyter-widgets/controls",
          "model_name": "DescriptionStyleModel",
          "model_module_version": "1.5.0",
          "state": {
            "_model_module": "@jupyter-widgets/controls",
            "_model_module_version": "1.5.0",
            "_model_name": "DescriptionStyleModel",
            "_view_count": null,
            "_view_module": "@jupyter-widgets/base",
            "_view_module_version": "1.2.0",
            "_view_name": "StyleView",
            "description_width": ""
          }
        },
        "1b782b6aa5ce4c3eb73bfb63acda0fdf": {
          "model_module": "@jupyter-widgets/controls",
          "model_name": "HBoxModel",
          "model_module_version": "1.5.0",
          "state": {
            "_dom_classes": [],
            "_model_module": "@jupyter-widgets/controls",
            "_model_module_version": "1.5.0",
            "_model_name": "HBoxModel",
            "_view_count": null,
            "_view_module": "@jupyter-widgets/controls",
            "_view_module_version": "1.5.0",
            "_view_name": "HBoxView",
            "box_style": "",
            "children": [
              "IPY_MODEL_5985dab38f8844398a79dbc8bd3d37aa",
              "IPY_MODEL_62b4f61846e74f5cb220ec55169de66b",
              "IPY_MODEL_ec3b7b91fb2f415abd9b45338235b6df"
            ],
            "layout": "IPY_MODEL_51a21c37795f4c6ca688bcb53a2a310b"
          }
        },
        "5985dab38f8844398a79dbc8bd3d37aa": {
          "model_module": "@jupyter-widgets/controls",
          "model_name": "HTMLModel",
          "model_module_version": "1.5.0",
          "state": {
            "_dom_classes": [],
            "_model_module": "@jupyter-widgets/controls",
            "_model_module_version": "1.5.0",
            "_model_name": "HTMLModel",
            "_view_count": null,
            "_view_module": "@jupyter-widgets/controls",
            "_view_module_version": "1.5.0",
            "_view_name": "HTMLView",
            "description": "",
            "description_tooltip": null,
            "layout": "IPY_MODEL_ebf7bc4071fb46fe9fabb75b0e51e508",
            "placeholder": "​",
            "style": "IPY_MODEL_629385d3b9e842258efae670e67cf499",
            "value": "Downloading (…)lve/main/config.json: 100%"
          }
        },
        "62b4f61846e74f5cb220ec55169de66b": {
          "model_module": "@jupyter-widgets/controls",
          "model_name": "FloatProgressModel",
          "model_module_version": "1.5.0",
          "state": {
            "_dom_classes": [],
            "_model_module": "@jupyter-widgets/controls",
            "_model_module_version": "1.5.0",
            "_model_name": "FloatProgressModel",
            "_view_count": null,
            "_view_module": "@jupyter-widgets/controls",
            "_view_module_version": "1.5.0",
            "_view_name": "ProgressView",
            "bar_style": "success",
            "description": "",
            "description_tooltip": null,
            "layout": "IPY_MODEL_ac35098bc44b4250a0f78f06a24a9000",
            "max": 1208,
            "min": 0,
            "orientation": "horizontal",
            "style": "IPY_MODEL_eb4ea4247fce4a59b8fb41add02a5d74",
            "value": 1208
          }
        },
        "ec3b7b91fb2f415abd9b45338235b6df": {
          "model_module": "@jupyter-widgets/controls",
          "model_name": "HTMLModel",
          "model_module_version": "1.5.0",
          "state": {
            "_dom_classes": [],
            "_model_module": "@jupyter-widgets/controls",
            "_model_module_version": "1.5.0",
            "_model_name": "HTMLModel",
            "_view_count": null,
            "_view_module": "@jupyter-widgets/controls",
            "_view_module_version": "1.5.0",
            "_view_name": "HTMLView",
            "description": "",
            "description_tooltip": null,
            "layout": "IPY_MODEL_2d01cdc50cc140c5bbd84efda4e104d7",
            "placeholder": "​",
            "style": "IPY_MODEL_11739bd877454bb78616983d6fc135a8",
            "value": " 1.21k/1.21k [00:00&lt;00:00, 39.4kB/s]"
          }
        },
        "51a21c37795f4c6ca688bcb53a2a310b": {
          "model_module": "@jupyter-widgets/base",
          "model_name": "LayoutModel",
          "model_module_version": "1.2.0",
          "state": {
            "_model_module": "@jupyter-widgets/base",
            "_model_module_version": "1.2.0",
            "_model_name": "LayoutModel",
            "_view_count": null,
            "_view_module": "@jupyter-widgets/base",
            "_view_module_version": "1.2.0",
            "_view_name": "LayoutView",
            "align_content": null,
            "align_items": null,
            "align_self": null,
            "border": null,
            "bottom": null,
            "display": null,
            "flex": null,
            "flex_flow": null,
            "grid_area": null,
            "grid_auto_columns": null,
            "grid_auto_flow": null,
            "grid_auto_rows": null,
            "grid_column": null,
            "grid_gap": null,
            "grid_row": null,
            "grid_template_areas": null,
            "grid_template_columns": null,
            "grid_template_rows": null,
            "height": null,
            "justify_content": null,
            "justify_items": null,
            "left": null,
            "margin": null,
            "max_height": null,
            "max_width": null,
            "min_height": null,
            "min_width": null,
            "object_fit": null,
            "object_position": null,
            "order": null,
            "overflow": null,
            "overflow_x": null,
            "overflow_y": null,
            "padding": null,
            "right": null,
            "top": null,
            "visibility": null,
            "width": null
          }
        },
        "ebf7bc4071fb46fe9fabb75b0e51e508": {
          "model_module": "@jupyter-widgets/base",
          "model_name": "LayoutModel",
          "model_module_version": "1.2.0",
          "state": {
            "_model_module": "@jupyter-widgets/base",
            "_model_module_version": "1.2.0",
            "_model_name": "LayoutModel",
            "_view_count": null,
            "_view_module": "@jupyter-widgets/base",
            "_view_module_version": "1.2.0",
            "_view_name": "LayoutView",
            "align_content": null,
            "align_items": null,
            "align_self": null,
            "border": null,
            "bottom": null,
            "display": null,
            "flex": null,
            "flex_flow": null,
            "grid_area": null,
            "grid_auto_columns": null,
            "grid_auto_flow": null,
            "grid_auto_rows": null,
            "grid_column": null,
            "grid_gap": null,
            "grid_row": null,
            "grid_template_areas": null,
            "grid_template_columns": null,
            "grid_template_rows": null,
            "height": null,
            "justify_content": null,
            "justify_items": null,
            "left": null,
            "margin": null,
            "max_height": null,
            "max_width": null,
            "min_height": null,
            "min_width": null,
            "object_fit": null,
            "object_position": null,
            "order": null,
            "overflow": null,
            "overflow_x": null,
            "overflow_y": null,
            "padding": null,
            "right": null,
            "top": null,
            "visibility": null,
            "width": null
          }
        },
        "629385d3b9e842258efae670e67cf499": {
          "model_module": "@jupyter-widgets/controls",
          "model_name": "DescriptionStyleModel",
          "model_module_version": "1.5.0",
          "state": {
            "_model_module": "@jupyter-widgets/controls",
            "_model_module_version": "1.5.0",
            "_model_name": "DescriptionStyleModel",
            "_view_count": null,
            "_view_module": "@jupyter-widgets/base",
            "_view_module_version": "1.2.0",
            "_view_name": "StyleView",
            "description_width": ""
          }
        },
        "ac35098bc44b4250a0f78f06a24a9000": {
          "model_module": "@jupyter-widgets/base",
          "model_name": "LayoutModel",
          "model_module_version": "1.2.0",
          "state": {
            "_model_module": "@jupyter-widgets/base",
            "_model_module_version": "1.2.0",
            "_model_name": "LayoutModel",
            "_view_count": null,
            "_view_module": "@jupyter-widgets/base",
            "_view_module_version": "1.2.0",
            "_view_name": "LayoutView",
            "align_content": null,
            "align_items": null,
            "align_self": null,
            "border": null,
            "bottom": null,
            "display": null,
            "flex": null,
            "flex_flow": null,
            "grid_area": null,
            "grid_auto_columns": null,
            "grid_auto_flow": null,
            "grid_auto_rows": null,
            "grid_column": null,
            "grid_gap": null,
            "grid_row": null,
            "grid_template_areas": null,
            "grid_template_columns": null,
            "grid_template_rows": null,
            "height": null,
            "justify_content": null,
            "justify_items": null,
            "left": null,
            "margin": null,
            "max_height": null,
            "max_width": null,
            "min_height": null,
            "min_width": null,
            "object_fit": null,
            "object_position": null,
            "order": null,
            "overflow": null,
            "overflow_x": null,
            "overflow_y": null,
            "padding": null,
            "right": null,
            "top": null,
            "visibility": null,
            "width": null
          }
        },
        "eb4ea4247fce4a59b8fb41add02a5d74": {
          "model_module": "@jupyter-widgets/controls",
          "model_name": "ProgressStyleModel",
          "model_module_version": "1.5.0",
          "state": {
            "_model_module": "@jupyter-widgets/controls",
            "_model_module_version": "1.5.0",
            "_model_name": "ProgressStyleModel",
            "_view_count": null,
            "_view_module": "@jupyter-widgets/base",
            "_view_module_version": "1.2.0",
            "_view_name": "StyleView",
            "bar_color": null,
            "description_width": ""
          }
        },
        "2d01cdc50cc140c5bbd84efda4e104d7": {
          "model_module": "@jupyter-widgets/base",
          "model_name": "LayoutModel",
          "model_module_version": "1.2.0",
          "state": {
            "_model_module": "@jupyter-widgets/base",
            "_model_module_version": "1.2.0",
            "_model_name": "LayoutModel",
            "_view_count": null,
            "_view_module": "@jupyter-widgets/base",
            "_view_module_version": "1.2.0",
            "_view_name": "LayoutView",
            "align_content": null,
            "align_items": null,
            "align_self": null,
            "border": null,
            "bottom": null,
            "display": null,
            "flex": null,
            "flex_flow": null,
            "grid_area": null,
            "grid_auto_columns": null,
            "grid_auto_flow": null,
            "grid_auto_rows": null,
            "grid_column": null,
            "grid_gap": null,
            "grid_row": null,
            "grid_template_areas": null,
            "grid_template_columns": null,
            "grid_template_rows": null,
            "height": null,
            "justify_content": null,
            "justify_items": null,
            "left": null,
            "margin": null,
            "max_height": null,
            "max_width": null,
            "min_height": null,
            "min_width": null,
            "object_fit": null,
            "object_position": null,
            "order": null,
            "overflow": null,
            "overflow_x": null,
            "overflow_y": null,
            "padding": null,
            "right": null,
            "top": null,
            "visibility": null,
            "width": null
          }
        },
        "11739bd877454bb78616983d6fc135a8": {
          "model_module": "@jupyter-widgets/controls",
          "model_name": "DescriptionStyleModel",
          "model_module_version": "1.5.0",
          "state": {
            "_model_module": "@jupyter-widgets/controls",
            "_model_module_version": "1.5.0",
            "_model_name": "DescriptionStyleModel",
            "_view_count": null,
            "_view_module": "@jupyter-widgets/base",
            "_view_module_version": "1.2.0",
            "_view_name": "StyleView",
            "description_width": ""
          }
        },
        "eace9faa3c1a439f8d36298710bd6638": {
          "model_module": "@jupyter-widgets/controls",
          "model_name": "HBoxModel",
          "model_module_version": "1.5.0",
          "state": {
            "_dom_classes": [],
            "_model_module": "@jupyter-widgets/controls",
            "_model_module_version": "1.5.0",
            "_model_name": "HBoxModel",
            "_view_count": null,
            "_view_module": "@jupyter-widgets/controls",
            "_view_module_version": "1.5.0",
            "_view_name": "HBoxView",
            "box_style": "",
            "children": [
              "IPY_MODEL_d18613e0dc6c4814bd9d395581b6b3e8",
              "IPY_MODEL_4e50f60f994e4d1988fb011168c35eb4",
              "IPY_MODEL_524967909f124f6dab167627aef2e4cd"
            ],
            "layout": "IPY_MODEL_fd8d8fcf1f1d4357b3ff85ec4ced4ca9"
          }
        },
        "d18613e0dc6c4814bd9d395581b6b3e8": {
          "model_module": "@jupyter-widgets/controls",
          "model_name": "HTMLModel",
          "model_module_version": "1.5.0",
          "state": {
            "_dom_classes": [],
            "_model_module": "@jupyter-widgets/controls",
            "_model_module_version": "1.5.0",
            "_model_name": "HTMLModel",
            "_view_count": null,
            "_view_module": "@jupyter-widgets/controls",
            "_view_module_version": "1.5.0",
            "_view_name": "HTMLView",
            "description": "",
            "description_tooltip": null,
            "layout": "IPY_MODEL_1df5b6b710df438c882623ffd113375f",
            "placeholder": "​",
            "style": "IPY_MODEL_2e9e1ebe3d084aa59b8f48a2a1b88018",
            "value": "Downloading (…)ve/main/spiece.model: 100%"
          }
        },
        "4e50f60f994e4d1988fb011168c35eb4": {
          "model_module": "@jupyter-widgets/controls",
          "model_name": "FloatProgressModel",
          "model_module_version": "1.5.0",
          "state": {
            "_dom_classes": [],
            "_model_module": "@jupyter-widgets/controls",
            "_model_module_version": "1.5.0",
            "_model_name": "FloatProgressModel",
            "_view_count": null,
            "_view_module": "@jupyter-widgets/controls",
            "_view_module_version": "1.5.0",
            "_view_name": "ProgressView",
            "bar_style": "success",
            "description": "",
            "description_tooltip": null,
            "layout": "IPY_MODEL_f0bae20b565b486eafcbb222acbf1f4a",
            "max": 791656,
            "min": 0,
            "orientation": "horizontal",
            "style": "IPY_MODEL_92aeb9491ee64626a1526e85cd0b0250",
            "value": 791656
          }
        },
        "524967909f124f6dab167627aef2e4cd": {
          "model_module": "@jupyter-widgets/controls",
          "model_name": "HTMLModel",
          "model_module_version": "1.5.0",
          "state": {
            "_dom_classes": [],
            "_model_module": "@jupyter-widgets/controls",
            "_model_module_version": "1.5.0",
            "_model_name": "HTMLModel",
            "_view_count": null,
            "_view_module": "@jupyter-widgets/controls",
            "_view_module_version": "1.5.0",
            "_view_name": "HTMLView",
            "description": "",
            "description_tooltip": null,
            "layout": "IPY_MODEL_dc7fb41b823c48f5bd80c2d6b7f17fd5",
            "placeholder": "​",
            "style": "IPY_MODEL_2376ea911fb64a20b260be733009e2fb",
            "value": " 792k/792k [00:00&lt;00:00, 814kB/s]"
          }
        },
        "fd8d8fcf1f1d4357b3ff85ec4ced4ca9": {
          "model_module": "@jupyter-widgets/base",
          "model_name": "LayoutModel",
          "model_module_version": "1.2.0",
          "state": {
            "_model_module": "@jupyter-widgets/base",
            "_model_module_version": "1.2.0",
            "_model_name": "LayoutModel",
            "_view_count": null,
            "_view_module": "@jupyter-widgets/base",
            "_view_module_version": "1.2.0",
            "_view_name": "LayoutView",
            "align_content": null,
            "align_items": null,
            "align_self": null,
            "border": null,
            "bottom": null,
            "display": null,
            "flex": null,
            "flex_flow": null,
            "grid_area": null,
            "grid_auto_columns": null,
            "grid_auto_flow": null,
            "grid_auto_rows": null,
            "grid_column": null,
            "grid_gap": null,
            "grid_row": null,
            "grid_template_areas": null,
            "grid_template_columns": null,
            "grid_template_rows": null,
            "height": null,
            "justify_content": null,
            "justify_items": null,
            "left": null,
            "margin": null,
            "max_height": null,
            "max_width": null,
            "min_height": null,
            "min_width": null,
            "object_fit": null,
            "object_position": null,
            "order": null,
            "overflow": null,
            "overflow_x": null,
            "overflow_y": null,
            "padding": null,
            "right": null,
            "top": null,
            "visibility": null,
            "width": null
          }
        },
        "1df5b6b710df438c882623ffd113375f": {
          "model_module": "@jupyter-widgets/base",
          "model_name": "LayoutModel",
          "model_module_version": "1.2.0",
          "state": {
            "_model_module": "@jupyter-widgets/base",
            "_model_module_version": "1.2.0",
            "_model_name": "LayoutModel",
            "_view_count": null,
            "_view_module": "@jupyter-widgets/base",
            "_view_module_version": "1.2.0",
            "_view_name": "LayoutView",
            "align_content": null,
            "align_items": null,
            "align_self": null,
            "border": null,
            "bottom": null,
            "display": null,
            "flex": null,
            "flex_flow": null,
            "grid_area": null,
            "grid_auto_columns": null,
            "grid_auto_flow": null,
            "grid_auto_rows": null,
            "grid_column": null,
            "grid_gap": null,
            "grid_row": null,
            "grid_template_areas": null,
            "grid_template_columns": null,
            "grid_template_rows": null,
            "height": null,
            "justify_content": null,
            "justify_items": null,
            "left": null,
            "margin": null,
            "max_height": null,
            "max_width": null,
            "min_height": null,
            "min_width": null,
            "object_fit": null,
            "object_position": null,
            "order": null,
            "overflow": null,
            "overflow_x": null,
            "overflow_y": null,
            "padding": null,
            "right": null,
            "top": null,
            "visibility": null,
            "width": null
          }
        },
        "2e9e1ebe3d084aa59b8f48a2a1b88018": {
          "model_module": "@jupyter-widgets/controls",
          "model_name": "DescriptionStyleModel",
          "model_module_version": "1.5.0",
          "state": {
            "_model_module": "@jupyter-widgets/controls",
            "_model_module_version": "1.5.0",
            "_model_name": "DescriptionStyleModel",
            "_view_count": null,
            "_view_module": "@jupyter-widgets/base",
            "_view_module_version": "1.2.0",
            "_view_name": "StyleView",
            "description_width": ""
          }
        },
        "f0bae20b565b486eafcbb222acbf1f4a": {
          "model_module": "@jupyter-widgets/base",
          "model_name": "LayoutModel",
          "model_module_version": "1.2.0",
          "state": {
            "_model_module": "@jupyter-widgets/base",
            "_model_module_version": "1.2.0",
            "_model_name": "LayoutModel",
            "_view_count": null,
            "_view_module": "@jupyter-widgets/base",
            "_view_module_version": "1.2.0",
            "_view_name": "LayoutView",
            "align_content": null,
            "align_items": null,
            "align_self": null,
            "border": null,
            "bottom": null,
            "display": null,
            "flex": null,
            "flex_flow": null,
            "grid_area": null,
            "grid_auto_columns": null,
            "grid_auto_flow": null,
            "grid_auto_rows": null,
            "grid_column": null,
            "grid_gap": null,
            "grid_row": null,
            "grid_template_areas": null,
            "grid_template_columns": null,
            "grid_template_rows": null,
            "height": null,
            "justify_content": null,
            "justify_items": null,
            "left": null,
            "margin": null,
            "max_height": null,
            "max_width": null,
            "min_height": null,
            "min_width": null,
            "object_fit": null,
            "object_position": null,
            "order": null,
            "overflow": null,
            "overflow_x": null,
            "overflow_y": null,
            "padding": null,
            "right": null,
            "top": null,
            "visibility": null,
            "width": null
          }
        },
        "92aeb9491ee64626a1526e85cd0b0250": {
          "model_module": "@jupyter-widgets/controls",
          "model_name": "ProgressStyleModel",
          "model_module_version": "1.5.0",
          "state": {
            "_model_module": "@jupyter-widgets/controls",
            "_model_module_version": "1.5.0",
            "_model_name": "ProgressStyleModel",
            "_view_count": null,
            "_view_module": "@jupyter-widgets/base",
            "_view_module_version": "1.2.0",
            "_view_name": "StyleView",
            "bar_color": null,
            "description_width": ""
          }
        },
        "dc7fb41b823c48f5bd80c2d6b7f17fd5": {
          "model_module": "@jupyter-widgets/base",
          "model_name": "LayoutModel",
          "model_module_version": "1.2.0",
          "state": {
            "_model_module": "@jupyter-widgets/base",
            "_model_module_version": "1.2.0",
            "_model_name": "LayoutModel",
            "_view_count": null,
            "_view_module": "@jupyter-widgets/base",
            "_view_module_version": "1.2.0",
            "_view_name": "LayoutView",
            "align_content": null,
            "align_items": null,
            "align_self": null,
            "border": null,
            "bottom": null,
            "display": null,
            "flex": null,
            "flex_flow": null,
            "grid_area": null,
            "grid_auto_columns": null,
            "grid_auto_flow": null,
            "grid_auto_rows": null,
            "grid_column": null,
            "grid_gap": null,
            "grid_row": null,
            "grid_template_areas": null,
            "grid_template_columns": null,
            "grid_template_rows": null,
            "height": null,
            "justify_content": null,
            "justify_items": null,
            "left": null,
            "margin": null,
            "max_height": null,
            "max_width": null,
            "min_height": null,
            "min_width": null,
            "object_fit": null,
            "object_position": null,
            "order": null,
            "overflow": null,
            "overflow_x": null,
            "overflow_y": null,
            "padding": null,
            "right": null,
            "top": null,
            "visibility": null,
            "width": null
          }
        },
        "2376ea911fb64a20b260be733009e2fb": {
          "model_module": "@jupyter-widgets/controls",
          "model_name": "DescriptionStyleModel",
          "model_module_version": "1.5.0",
          "state": {
            "_model_module": "@jupyter-widgets/controls",
            "_model_module_version": "1.5.0",
            "_model_name": "DescriptionStyleModel",
            "_view_count": null,
            "_view_module": "@jupyter-widgets/base",
            "_view_module_version": "1.2.0",
            "_view_name": "StyleView",
            "description_width": ""
          }
        },
        "b76518f525da4dcfb5a4015eab226042": {
          "model_module": "@jupyter-widgets/controls",
          "model_name": "HBoxModel",
          "model_module_version": "1.5.0",
          "state": {
            "_dom_classes": [],
            "_model_module": "@jupyter-widgets/controls",
            "_model_module_version": "1.5.0",
            "_model_name": "HBoxModel",
            "_view_count": null,
            "_view_module": "@jupyter-widgets/controls",
            "_view_module_version": "1.5.0",
            "_view_name": "HBoxView",
            "box_style": "",
            "children": [
              "IPY_MODEL_c7d3624881a34cc29dc0868d99a54939",
              "IPY_MODEL_ace7c679aa314f17b54a13a6b3630954",
              "IPY_MODEL_152bd5e0c6964910b17a05de1f25c64b"
            ],
            "layout": "IPY_MODEL_6a1357d551f54a26adf5745a5b0a9e21"
          }
        },
        "c7d3624881a34cc29dc0868d99a54939": {
          "model_module": "@jupyter-widgets/controls",
          "model_name": "HTMLModel",
          "model_module_version": "1.5.0",
          "state": {
            "_dom_classes": [],
            "_model_module": "@jupyter-widgets/controls",
            "_model_module_version": "1.5.0",
            "_model_name": "HTMLModel",
            "_view_count": null,
            "_view_module": "@jupyter-widgets/controls",
            "_view_module_version": "1.5.0",
            "_view_name": "HTMLView",
            "description": "",
            "description_tooltip": null,
            "layout": "IPY_MODEL_f55e72abae0e43428c45765d0ceb56b9",
            "placeholder": "​",
            "style": "IPY_MODEL_5997dedab1bf4c20adbcf26f61e4f05b",
            "value": "Downloading (…)/main/tokenizer.json: 100%"
          }
        },
        "ace7c679aa314f17b54a13a6b3630954": {
          "model_module": "@jupyter-widgets/controls",
          "model_name": "FloatProgressModel",
          "model_module_version": "1.5.0",
          "state": {
            "_dom_classes": [],
            "_model_module": "@jupyter-widgets/controls",
            "_model_module_version": "1.5.0",
            "_model_name": "FloatProgressModel",
            "_view_count": null,
            "_view_module": "@jupyter-widgets/controls",
            "_view_module_version": "1.5.0",
            "_view_name": "ProgressView",
            "bar_style": "success",
            "description": "",
            "description_tooltip": null,
            "layout": "IPY_MODEL_7801362aab554c289b01b5dc7f207f90",
            "max": 1389353,
            "min": 0,
            "orientation": "horizontal",
            "style": "IPY_MODEL_9f39207a499f433591b4f29c4b8f63a8",
            "value": 1389353
          }
        },
        "152bd5e0c6964910b17a05de1f25c64b": {
          "model_module": "@jupyter-widgets/controls",
          "model_name": "HTMLModel",
          "model_module_version": "1.5.0",
          "state": {
            "_dom_classes": [],
            "_model_module": "@jupyter-widgets/controls",
            "_model_module_version": "1.5.0",
            "_model_name": "HTMLModel",
            "_view_count": null,
            "_view_module": "@jupyter-widgets/controls",
            "_view_module_version": "1.5.0",
            "_view_name": "HTMLView",
            "description": "",
            "description_tooltip": null,
            "layout": "IPY_MODEL_3320f16424624244b9493dff9e14a8cb",
            "placeholder": "​",
            "style": "IPY_MODEL_349c7820e99b48f2a5548dee2f5da869",
            "value": " 1.39M/1.39M [00:01&lt;00:00, 1.21MB/s]"
          }
        },
        "6a1357d551f54a26adf5745a5b0a9e21": {
          "model_module": "@jupyter-widgets/base",
          "model_name": "LayoutModel",
          "model_module_version": "1.2.0",
          "state": {
            "_model_module": "@jupyter-widgets/base",
            "_model_module_version": "1.2.0",
            "_model_name": "LayoutModel",
            "_view_count": null,
            "_view_module": "@jupyter-widgets/base",
            "_view_module_version": "1.2.0",
            "_view_name": "LayoutView",
            "align_content": null,
            "align_items": null,
            "align_self": null,
            "border": null,
            "bottom": null,
            "display": null,
            "flex": null,
            "flex_flow": null,
            "grid_area": null,
            "grid_auto_columns": null,
            "grid_auto_flow": null,
            "grid_auto_rows": null,
            "grid_column": null,
            "grid_gap": null,
            "grid_row": null,
            "grid_template_areas": null,
            "grid_template_columns": null,
            "grid_template_rows": null,
            "height": null,
            "justify_content": null,
            "justify_items": null,
            "left": null,
            "margin": null,
            "max_height": null,
            "max_width": null,
            "min_height": null,
            "min_width": null,
            "object_fit": null,
            "object_position": null,
            "order": null,
            "overflow": null,
            "overflow_x": null,
            "overflow_y": null,
            "padding": null,
            "right": null,
            "top": null,
            "visibility": null,
            "width": null
          }
        },
        "f55e72abae0e43428c45765d0ceb56b9": {
          "model_module": "@jupyter-widgets/base",
          "model_name": "LayoutModel",
          "model_module_version": "1.2.0",
          "state": {
            "_model_module": "@jupyter-widgets/base",
            "_model_module_version": "1.2.0",
            "_model_name": "LayoutModel",
            "_view_count": null,
            "_view_module": "@jupyter-widgets/base",
            "_view_module_version": "1.2.0",
            "_view_name": "LayoutView",
            "align_content": null,
            "align_items": null,
            "align_self": null,
            "border": null,
            "bottom": null,
            "display": null,
            "flex": null,
            "flex_flow": null,
            "grid_area": null,
            "grid_auto_columns": null,
            "grid_auto_flow": null,
            "grid_auto_rows": null,
            "grid_column": null,
            "grid_gap": null,
            "grid_row": null,
            "grid_template_areas": null,
            "grid_template_columns": null,
            "grid_template_rows": null,
            "height": null,
            "justify_content": null,
            "justify_items": null,
            "left": null,
            "margin": null,
            "max_height": null,
            "max_width": null,
            "min_height": null,
            "min_width": null,
            "object_fit": null,
            "object_position": null,
            "order": null,
            "overflow": null,
            "overflow_x": null,
            "overflow_y": null,
            "padding": null,
            "right": null,
            "top": null,
            "visibility": null,
            "width": null
          }
        },
        "5997dedab1bf4c20adbcf26f61e4f05b": {
          "model_module": "@jupyter-widgets/controls",
          "model_name": "DescriptionStyleModel",
          "model_module_version": "1.5.0",
          "state": {
            "_model_module": "@jupyter-widgets/controls",
            "_model_module_version": "1.5.0",
            "_model_name": "DescriptionStyleModel",
            "_view_count": null,
            "_view_module": "@jupyter-widgets/base",
            "_view_module_version": "1.2.0",
            "_view_name": "StyleView",
            "description_width": ""
          }
        },
        "7801362aab554c289b01b5dc7f207f90": {
          "model_module": "@jupyter-widgets/base",
          "model_name": "LayoutModel",
          "model_module_version": "1.2.0",
          "state": {
            "_model_module": "@jupyter-widgets/base",
            "_model_module_version": "1.2.0",
            "_model_name": "LayoutModel",
            "_view_count": null,
            "_view_module": "@jupyter-widgets/base",
            "_view_module_version": "1.2.0",
            "_view_name": "LayoutView",
            "align_content": null,
            "align_items": null,
            "align_self": null,
            "border": null,
            "bottom": null,
            "display": null,
            "flex": null,
            "flex_flow": null,
            "grid_area": null,
            "grid_auto_columns": null,
            "grid_auto_flow": null,
            "grid_auto_rows": null,
            "grid_column": null,
            "grid_gap": null,
            "grid_row": null,
            "grid_template_areas": null,
            "grid_template_columns": null,
            "grid_template_rows": null,
            "height": null,
            "justify_content": null,
            "justify_items": null,
            "left": null,
            "margin": null,
            "max_height": null,
            "max_width": null,
            "min_height": null,
            "min_width": null,
            "object_fit": null,
            "object_position": null,
            "order": null,
            "overflow": null,
            "overflow_x": null,
            "overflow_y": null,
            "padding": null,
            "right": null,
            "top": null,
            "visibility": null,
            "width": null
          }
        },
        "9f39207a499f433591b4f29c4b8f63a8": {
          "model_module": "@jupyter-widgets/controls",
          "model_name": "ProgressStyleModel",
          "model_module_version": "1.5.0",
          "state": {
            "_model_module": "@jupyter-widgets/controls",
            "_model_module_version": "1.5.0",
            "_model_name": "ProgressStyleModel",
            "_view_count": null,
            "_view_module": "@jupyter-widgets/base",
            "_view_module_version": "1.2.0",
            "_view_name": "StyleView",
            "bar_color": null,
            "description_width": ""
          }
        },
        "3320f16424624244b9493dff9e14a8cb": {
          "model_module": "@jupyter-widgets/base",
          "model_name": "LayoutModel",
          "model_module_version": "1.2.0",
          "state": {
            "_model_module": "@jupyter-widgets/base",
            "_model_module_version": "1.2.0",
            "_model_name": "LayoutModel",
            "_view_count": null,
            "_view_module": "@jupyter-widgets/base",
            "_view_module_version": "1.2.0",
            "_view_name": "LayoutView",
            "align_content": null,
            "align_items": null,
            "align_self": null,
            "border": null,
            "bottom": null,
            "display": null,
            "flex": null,
            "flex_flow": null,
            "grid_area": null,
            "grid_auto_columns": null,
            "grid_auto_flow": null,
            "grid_auto_rows": null,
            "grid_column": null,
            "grid_gap": null,
            "grid_row": null,
            "grid_template_areas": null,
            "grid_template_columns": null,
            "grid_template_rows": null,
            "height": null,
            "justify_content": null,
            "justify_items": null,
            "left": null,
            "margin": null,
            "max_height": null,
            "max_width": null,
            "min_height": null,
            "min_width": null,
            "object_fit": null,
            "object_position": null,
            "order": null,
            "overflow": null,
            "overflow_x": null,
            "overflow_y": null,
            "padding": null,
            "right": null,
            "top": null,
            "visibility": null,
            "width": null
          }
        },
        "349c7820e99b48f2a5548dee2f5da869": {
          "model_module": "@jupyter-widgets/controls",
          "model_name": "DescriptionStyleModel",
          "model_module_version": "1.5.0",
          "state": {
            "_model_module": "@jupyter-widgets/controls",
            "_model_module_version": "1.5.0",
            "_model_name": "DescriptionStyleModel",
            "_view_count": null,
            "_view_module": "@jupyter-widgets/base",
            "_view_module_version": "1.2.0",
            "_view_name": "StyleView",
            "description_width": ""
          }
        }
      }
    }
  },
  "cells": [
    {
      "cell_type": "markdown",
      "metadata": {
        "id": "view-in-github",
        "colab_type": "text"
      },
      "source": [
        "<a href=\"https://colab.research.google.com/github/KLN-TBN/Notebooks/blob/main/PyTorch_Tensors_AlexNet_ResNet.ipynb\" target=\"_parent\"><img src=\"https://colab.research.google.com/assets/colab-badge.svg\" alt=\"Open In Colab\"/></a>"
      ]
    },
    {
      "cell_type": "markdown",
      "source": [
        "# Week 1 Labs\n",
        "\n",
        "## PyTorch and Tensors"
      ],
      "metadata": {
        "id": "_2SGFcWcRZbB"
      }
    },
    {
      "cell_type": "markdown",
      "source": [
        "### Problem 1\n",
        "\n",
        "Create a Python array of array or arrays (three levels of nesting). The inner most arrays should have 3 elements each the middle should have 2 and the outer should have 2 elements as represented below:\n",
        "\n",
        "```\n",
        "Array( \n",
        "    Array( \n",
        "        Array( 1, 2, 3 ), \n",
        "        Array( 4, 5, 6 ), \n",
        "    ),\n",
        "    Array( \n",
        "        Array( 7 , 8 , 9  ), \n",
        "        Array( 10, 11, 12 ),\n",
        "    ),\n",
        ")\n",
        "```\n",
        "\n",
        "Write Python code to access each of the following elements: 2, 6, 8, 11 (one line to access and print each of these). Be sure to first initialise the array of array of arrays. \n"
      ],
      "metadata": {
        "id": "0iOcleGXR5Lx"
      }
    },
    {
      "cell_type": "code",
      "source": [
        "array = [[[1,2,3],[4,5,6]],[[7,8,9],[10,11,12]]]\n",
        "print(array[0][0][1])\n",
        "print(array[0][1][2])\n",
        "print(array[1][0][1])\n",
        "print(array[1][1][1])"
      ],
      "metadata": {
        "colab": {
          "base_uri": "https://localhost:8080/"
        },
        "id": "pVgaHucdCfmi",
        "outputId": "fe4e26ed-f983-4522-9fc2-893e1f4d3b45"
      },
      "execution_count": null,
      "outputs": [
        {
          "output_type": "stream",
          "name": "stdout",
          "text": [
            "2\n",
            "6\n",
            "8\n",
            "11\n"
          ]
        }
      ]
    },
    {
      "cell_type": "markdown",
      "source": [
        "### Problem 2\n",
        "\n",
        "Create and print the following tensors using one line of code only, *without the use of numpy (or python) arrays*: \n",
        "\n",
        "1.   A 1 dimentional tensor with 8 0's\n",
        "2.   A 1 dimentional tensor with 8 1\n",
        "3.   A 1 dimentional tensor with 8 random numbers\n",
        "4.   A 1 dimentional tensor with 8 random numbers between [0, 10)\n",
        "5.   A 1 dimentional tensor with 8 random integers between [0, 10)\n",
        "6.   A 2 dimentional tensor consisting of all numbers [1, 9] with 3 rows.\n"
      ],
      "metadata": {
        "id": "b6Pe3yZLUzQa"
      }
    },
    {
      "cell_type": "code",
      "source": [
        "import torch\n",
        "print(torch.zeros(8))\n",
        "print(torch.ones(8))\n",
        "print(torch.rand(8))\n",
        "print(torch.rand(8).mul(10))\n",
        "print(torch.rand(8).mul(10).round())\n",
        "print(torch.arange(1,10).reshape((3,3)))"
      ],
      "metadata": {
        "colab": {
          "base_uri": "https://localhost:8080/"
        },
        "id": "2FGt-qCfDRqv",
        "outputId": "6b8a52d3-ecbc-4d82-ee40-0891aec3d527"
      },
      "execution_count": null,
      "outputs": [
        {
          "output_type": "stream",
          "name": "stdout",
          "text": [
            "tensor([0., 0., 0., 0., 0., 0., 0., 0.])\n",
            "tensor([1., 1., 1., 1., 1., 1., 1., 1.])\n",
            "tensor([0.1699, 0.7324, 0.9903, 0.7395, 0.8645, 0.6079, 0.9351, 0.2094])\n",
            "tensor([6.9584, 8.8565, 1.8917, 6.2378, 3.4298, 8.9683, 4.6505, 7.2848])\n",
            "tensor([6., 5., 5., 9., 8., 5., 4., 4.])\n",
            "tensor([[1, 2, 3],\n",
            "        [4, 5, 6],\n",
            "        [7, 8, 9]])\n"
          ]
        }
      ]
    },
    {
      "cell_type": "markdown",
      "source": [
        "### Problem 3\n",
        "\n",
        "### Problem 3a\n",
        "Multiply the following matrices using PyTorch\n",
        "\n",
        "```\n",
        "| 1,  3 |      | 1, 2 |\n",
        "| 2, -1 |  x   | 3, 3 | \n",
        "```\n",
        "\n",
        "### Problem 3b\n",
        "\n",
        "Initialise a tensor using the following code:\n",
        "```\n",
        "pytorch_tensor = torch.tensor( \n",
        "                       [\n",
        "                         [20., 87., 78., 35., 84.],\n",
        "                         [64., 71., 42., 38., 86.],\n",
        "                         [92.,  8., 11., 43., 40.]\n",
        "                       ]\n",
        ")\n",
        "\n",
        "```\n",
        "\n",
        "Using splicing operations (i.e., ```pytorch_tensor[:,:]```) splice the above tensor (and print) the following: \n",
        "\n",
        "1. \n",
        "```  \n",
        "  20., 87., 78., 35., 84.\n",
        "```\n",
        "\n",
        "2. \n",
        "```  \n",
        "  20., 64., 92.\n",
        "```\n",
        "\n",
        "3. \n",
        "```  \n",
        "  87., 78.\n",
        "  71., 42.\n",
        "   8., 11.\n",
        "```\n",
        "\n",
        "4. \n",
        "```  \n",
        "  84., 86., 40.\n",
        "```\n"
      ],
      "metadata": {
        "id": "EqIuUaI_2TZS"
      }
    },
    {
      "cell_type": "code",
      "source": [
        "mat1 = torch.tensor([[1,3],[2,-1]])\n",
        "mat2 = torch.tensor([[1,2],[3,3]])\n",
        "print(torch.matmul(mat1,mat2))\n",
        "pytorch_tensor = torch.tensor( \n",
        "                       [\n",
        "                         [20., 87., 78., 35., 84.],\n",
        "                         [64., 71., 42., 38., 86.],\n",
        "                         [92.,  8., 11., 43., 40.]\n",
        "                       ]\n",
        ")\n",
        "print(pytorch_tensor[:1,:])\n",
        "print(torch.transpose(pytorch_tensor[:,:1],0,1))\n",
        "print(pytorch_tensor[:,1:3])\n",
        "print(torch.transpose(pytorch_tensor[:,4:],0,1))"
      ],
      "metadata": {
        "colab": {
          "base_uri": "https://localhost:8080/"
        },
        "id": "ip66etSHGed7",
        "outputId": "2632734e-a626-4c1b-f92c-5430f80013ab"
      },
      "execution_count": null,
      "outputs": [
        {
          "output_type": "stream",
          "name": "stdout",
          "text": [
            "tensor([[10, 11],\n",
            "        [-1,  1]])\n",
            "tensor([[20., 87., 78., 35., 84.]])\n",
            "tensor([[20., 64., 92.]])\n",
            "tensor([[87., 78.],\n",
            "        [71., 42.],\n",
            "        [ 8., 11.]])\n",
            "tensor([[84., 86., 40.]])\n"
          ]
        }
      ]
    },
    {
      "cell_type": "markdown",
      "source": [
        "## Pre-Trained Models\n",
        "\n",
        "We are going to work with some pre-trained models. Before that, we need some tools to download and manipulate files on Google Colab. \n",
        "\n",
        "### Files and Linux commands - Google CoLab\n",
        "\n",
        "**Problem 4**\n",
        "\n",
        "Navigate to the following URL: https://raw.githubusercontent.com/deep-learning-with-pytorch/dlwpt-code/master/data/p1ch2/horse.jpg \n",
        "\n",
        "Download this image to your CoLab instance. You might find the following resources helpful: \n",
        "\n",
        "1. [Google Colab Shell](https://colab.research.google.com/github/jakevdp/PythonDataScienceHandbook/blob/master/notebooks/01.05-IPython-And-Shell-Commands.ipynb)\n",
        "2. [wget](https://www.gnu.org/software/wget/manual/wget.html#Simple-Usage)\n",
        "\n",
        "\n",
        "Use the file explorer on the left (the folder icon) to locate the file."
      ],
      "metadata": {
        "id": "fDa-Rhp-4KU6"
      }
    },
    {
      "cell_type": "code",
      "source": [
        "!wget https://raw.githubusercontent.com/deep-learning-with-pytorch/dlwpt-code/master/data/p1ch2/horse.jpg"
      ],
      "metadata": {
        "colab": {
          "base_uri": "https://localhost:8080/"
        },
        "id": "7ze7lY9IJQre",
        "outputId": "d562e4a7-7e10-4f5f-ed2d-268edc319c01"
      },
      "execution_count": null,
      "outputs": [
        {
          "output_type": "stream",
          "name": "stdout",
          "text": [
            "--2023-02-08 13:46:17--  https://raw.githubusercontent.com/deep-learning-with-pytorch/dlwpt-code/master/data/p1ch2/horse.jpg\n",
            "Resolving raw.githubusercontent.com (raw.githubusercontent.com)... 185.199.108.133, 185.199.109.133, 185.199.111.133, ...\n",
            "Connecting to raw.githubusercontent.com (raw.githubusercontent.com)|185.199.108.133|:443... connected.\n",
            "HTTP request sent, awaiting response... 200 OK\n",
            "Length: 385347 (376K) [image/jpeg]\n",
            "Saving to: ‘horse.jpg’\n",
            "\n",
            "horse.jpg           100%[===================>] 376.32K  --.-KB/s    in 0.04s   \n",
            "\n",
            "2023-02-08 13:46:17 (8.96 MB/s) - ‘horse.jpg’ saved [385347/385347]\n",
            "\n"
          ]
        }
      ]
    },
    {
      "cell_type": "markdown",
      "source": [
        "**Problem 5**\n",
        "\n",
        "Install the following python packages to your colab instance: \n",
        "1. [Huggingface Transformers](https://huggingface.co/docs/transformers/installation) *NOTE*: you will NOT need to install an environment. You can do this directly with ```pip```. \n",
        "2. [Hugginface Datasets](https://huggingface.co/docs/datasets/installation) \n",
        "\n"
      ],
      "metadata": {
        "id": "990LAsae5W4V"
      }
    },
    {
      "cell_type": "code",
      "source": [
        "!pip install transformers\n",
        "!pip install datasets"
      ],
      "metadata": {
        "colab": {
          "base_uri": "https://localhost:8080/"
        },
        "id": "xkWas6OiJsmc",
        "outputId": "89e36995-b5f8-4627-fec7-5265169098d3"
      },
      "execution_count": null,
      "outputs": [
        {
          "output_type": "stream",
          "name": "stdout",
          "text": [
            "Looking in indexes: https://pypi.org/simple, https://us-python.pkg.dev/colab-wheels/public/simple/\n",
            "Collecting transformers\n",
            "  Downloading transformers-4.26.0-py3-none-any.whl (6.3 MB)\n",
            "\u001b[2K     \u001b[90m━━━━━━━━━━━━━━━━━━━━━━━━━━━━━━━━━━━━━━━━\u001b[0m \u001b[32m6.3/6.3 MB\u001b[0m \u001b[31m13.7 MB/s\u001b[0m eta \u001b[36m0:00:00\u001b[0m\n",
            "\u001b[?25hCollecting huggingface-hub<1.0,>=0.11.0\n",
            "  Downloading huggingface_hub-0.12.0-py3-none-any.whl (190 kB)\n",
            "\u001b[2K     \u001b[90m━━━━━━━━━━━━━━━━━━━━━━━━━━━━━━━━━━━━━━━\u001b[0m \u001b[32m190.3/190.3 KB\u001b[0m \u001b[31m7.1 MB/s\u001b[0m eta \u001b[36m0:00:00\u001b[0m\n",
            "\u001b[?25hRequirement already satisfied: numpy>=1.17 in /usr/local/lib/python3.8/dist-packages (from transformers) (1.21.6)\n",
            "Requirement already satisfied: packaging>=20.0 in /usr/local/lib/python3.8/dist-packages (from transformers) (23.0)\n",
            "Requirement already satisfied: pyyaml>=5.1 in /usr/local/lib/python3.8/dist-packages (from transformers) (6.0)\n",
            "Collecting tokenizers!=0.11.3,<0.14,>=0.11.1\n",
            "  Downloading tokenizers-0.13.2-cp38-cp38-manylinux_2_17_x86_64.manylinux2014_x86_64.whl (7.6 MB)\n",
            "\u001b[2K     \u001b[90m━━━━━━━━━━━━━━━━━━━━━━━━━━━━━━━━━━━━━━━━\u001b[0m \u001b[32m7.6/7.6 MB\u001b[0m \u001b[31m15.3 MB/s\u001b[0m eta \u001b[36m0:00:00\u001b[0m\n",
            "\u001b[?25hRequirement already satisfied: regex!=2019.12.17 in /usr/local/lib/python3.8/dist-packages (from transformers) (2022.6.2)\n",
            "Requirement already satisfied: tqdm>=4.27 in /usr/local/lib/python3.8/dist-packages (from transformers) (4.64.1)\n",
            "Requirement already satisfied: filelock in /usr/local/lib/python3.8/dist-packages (from transformers) (3.9.0)\n",
            "Requirement already satisfied: requests in /usr/local/lib/python3.8/dist-packages (from transformers) (2.25.1)\n",
            "Requirement already satisfied: typing-extensions>=3.7.4.3 in /usr/local/lib/python3.8/dist-packages (from huggingface-hub<1.0,>=0.11.0->transformers) (4.4.0)\n",
            "Requirement already satisfied: idna<3,>=2.5 in /usr/local/lib/python3.8/dist-packages (from requests->transformers) (2.10)\n",
            "Requirement already satisfied: chardet<5,>=3.0.2 in /usr/local/lib/python3.8/dist-packages (from requests->transformers) (4.0.0)\n",
            "Requirement already satisfied: certifi>=2017.4.17 in /usr/local/lib/python3.8/dist-packages (from requests->transformers) (2022.12.7)\n",
            "Requirement already satisfied: urllib3<1.27,>=1.21.1 in /usr/local/lib/python3.8/dist-packages (from requests->transformers) (1.24.3)\n",
            "Installing collected packages: tokenizers, huggingface-hub, transformers\n",
            "Successfully installed huggingface-hub-0.12.0 tokenizers-0.13.2 transformers-4.26.0\n",
            "Looking in indexes: https://pypi.org/simple, https://us-python.pkg.dev/colab-wheels/public/simple/\n",
            "Collecting datasets\n",
            "  Downloading datasets-2.9.0-py3-none-any.whl (462 kB)\n",
            "\u001b[2K     \u001b[90m━━━━━━━━━━━━━━━━━━━━━━━━━━━━━━━━━━━━━━━\u001b[0m \u001b[32m462.8/462.8 KB\u001b[0m \u001b[31m7.3 MB/s\u001b[0m eta \u001b[36m0:00:00\u001b[0m\n",
            "\u001b[?25hRequirement already satisfied: aiohttp in /usr/local/lib/python3.8/dist-packages (from datasets) (3.8.3)\n",
            "Requirement already satisfied: fsspec[http]>=2021.11.1 in /usr/local/lib/python3.8/dist-packages (from datasets) (2023.1.0)\n",
            "Requirement already satisfied: tqdm>=4.62.1 in /usr/local/lib/python3.8/dist-packages (from datasets) (4.64.1)\n",
            "Requirement already satisfied: huggingface-hub<1.0.0,>=0.2.0 in /usr/local/lib/python3.8/dist-packages (from datasets) (0.12.0)\n",
            "Requirement already satisfied: packaging in /usr/local/lib/python3.8/dist-packages (from datasets) (23.0)\n",
            "Requirement already satisfied: pandas in /usr/local/lib/python3.8/dist-packages (from datasets) (1.3.5)\n",
            "Collecting responses<0.19\n",
            "  Downloading responses-0.18.0-py3-none-any.whl (38 kB)\n",
            "Requirement already satisfied: pyyaml>=5.1 in /usr/local/lib/python3.8/dist-packages (from datasets) (6.0)\n",
            "Collecting multiprocess\n",
            "  Downloading multiprocess-0.70.14-py38-none-any.whl (132 kB)\n",
            "\u001b[2K     \u001b[90m━━━━━━━━━━━━━━━━━━━━━━━━━━━━━━━━━━━━━━\u001b[0m \u001b[32m132.0/132.0 KB\u001b[0m \u001b[31m16.9 MB/s\u001b[0m eta \u001b[36m0:00:00\u001b[0m\n",
            "\u001b[?25hRequirement already satisfied: pyarrow>=6.0.0 in /usr/local/lib/python3.8/dist-packages (from datasets) (9.0.0)\n",
            "Requirement already satisfied: numpy>=1.17 in /usr/local/lib/python3.8/dist-packages (from datasets) (1.21.6)\n",
            "Collecting xxhash\n",
            "  Downloading xxhash-3.2.0-cp38-cp38-manylinux_2_17_x86_64.manylinux2014_x86_64.whl (213 kB)\n",
            "\u001b[2K     \u001b[90m━━━━━━━━━━━━━━━━━━━━━━━━━━━━━━━━━━━━━━\u001b[0m \u001b[32m213.0/213.0 KB\u001b[0m \u001b[31m23.2 MB/s\u001b[0m eta \u001b[36m0:00:00\u001b[0m\n",
            "\u001b[?25hRequirement already satisfied: dill<0.3.7 in /usr/local/lib/python3.8/dist-packages (from datasets) (0.3.6)\n",
            "Requirement already satisfied: requests>=2.19.0 in /usr/local/lib/python3.8/dist-packages (from datasets) (2.25.1)\n",
            "Requirement already satisfied: charset-normalizer<3.0,>=2.0 in /usr/local/lib/python3.8/dist-packages (from aiohttp->datasets) (2.1.1)\n",
            "Requirement already satisfied: frozenlist>=1.1.1 in /usr/local/lib/python3.8/dist-packages (from aiohttp->datasets) (1.3.3)\n",
            "Requirement already satisfied: multidict<7.0,>=4.5 in /usr/local/lib/python3.8/dist-packages (from aiohttp->datasets) (6.0.4)\n",
            "Requirement already satisfied: attrs>=17.3.0 in /usr/local/lib/python3.8/dist-packages (from aiohttp->datasets) (22.2.0)\n",
            "Requirement already satisfied: yarl<2.0,>=1.0 in /usr/local/lib/python3.8/dist-packages (from aiohttp->datasets) (1.8.2)\n",
            "Requirement already satisfied: async-timeout<5.0,>=4.0.0a3 in /usr/local/lib/python3.8/dist-packages (from aiohttp->datasets) (4.0.2)\n",
            "Requirement already satisfied: aiosignal>=1.1.2 in /usr/local/lib/python3.8/dist-packages (from aiohttp->datasets) (1.3.1)\n",
            "Requirement already satisfied: typing-extensions>=3.7.4.3 in /usr/local/lib/python3.8/dist-packages (from huggingface-hub<1.0.0,>=0.2.0->datasets) (4.4.0)\n",
            "Requirement already satisfied: filelock in /usr/local/lib/python3.8/dist-packages (from huggingface-hub<1.0.0,>=0.2.0->datasets) (3.9.0)\n",
            "Requirement already satisfied: urllib3<1.27,>=1.21.1 in /usr/local/lib/python3.8/dist-packages (from requests>=2.19.0->datasets) (1.24.3)\n",
            "Requirement already satisfied: chardet<5,>=3.0.2 in /usr/local/lib/python3.8/dist-packages (from requests>=2.19.0->datasets) (4.0.0)\n",
            "Requirement already satisfied: idna<3,>=2.5 in /usr/local/lib/python3.8/dist-packages (from requests>=2.19.0->datasets) (2.10)\n",
            "Requirement already satisfied: certifi>=2017.4.17 in /usr/local/lib/python3.8/dist-packages (from requests>=2.19.0->datasets) (2022.12.7)\n",
            "Collecting urllib3<1.27,>=1.21.1\n",
            "  Downloading urllib3-1.26.14-py2.py3-none-any.whl (140 kB)\n",
            "\u001b[2K     \u001b[90m━━━━━━━━━━━━━━━━━━━━━━━━━━━━━━━━━━━━━━\u001b[0m \u001b[32m140.6/140.6 KB\u001b[0m \u001b[31m17.5 MB/s\u001b[0m eta \u001b[36m0:00:00\u001b[0m\n",
            "\u001b[?25hRequirement already satisfied: pytz>=2017.3 in /usr/local/lib/python3.8/dist-packages (from pandas->datasets) (2022.7.1)\n",
            "Requirement already satisfied: python-dateutil>=2.7.3 in /usr/local/lib/python3.8/dist-packages (from pandas->datasets) (2.8.2)\n",
            "Requirement already satisfied: six>=1.5 in /usr/local/lib/python3.8/dist-packages (from python-dateutil>=2.7.3->pandas->datasets) (1.15.0)\n",
            "Installing collected packages: xxhash, urllib3, multiprocess, responses, datasets\n",
            "  Attempting uninstall: urllib3\n",
            "    Found existing installation: urllib3 1.24.3\n",
            "    Uninstalling urllib3-1.24.3:\n",
            "      Successfully uninstalled urllib3-1.24.3\n",
            "Successfully installed datasets-2.9.0 multiprocess-0.70.14 responses-0.18.0 urllib3-1.26.14 xxhash-3.2.0\n"
          ]
        }
      ]
    },
    {
      "cell_type": "markdown",
      "source": [
        "### Problem 6\n",
        "\n",
        "\n",
        "The following code initialises a version of the popular model called T5 that has been trained to answer trivia questions and runs a question through it. \n",
        "\n",
        "```\n",
        "from transformers import AutoTokenizer, AutoModelWithLMHead\n",
        "\n",
        "model = AutoModelWithLMHead.from_pretrained(\"deep-learning-analytics/triviaqa-t5-base\")\n",
        "\n",
        "device = torch.device(\"cuda:0\" if torch.cuda.is_available() else \"cpu\")\n",
        "model = model.to(device)\n",
        "\n",
        "base_tokenizer = AutoTokenizer.from_pretrained(\"t5-base\", use_fast=False)\n",
        "\n",
        "preprocess_text = \"Which singer's real name is Stefani Joanne Angelina Germanotta?\"\n",
        "\n",
        "print( \"Your question: \", preprocess_text ) \n",
        "\n",
        "tokenized_text = base_tokenizer.encode(preprocess_text, return_tensors=\"pt\").to(device)\n",
        "\n",
        "outs = model.generate(\n",
        "            tokenized_text,\n",
        "            max_length=20,\n",
        "            num_beams=4,\n",
        "            early_stopping=True\n",
        "           )\n",
        "\n",
        "dec = [base_tokenizer.decode(ids) for ids in outs]\n",
        "prediction = dec[0].lstrip().rstrip().replace( \"<pad> \", \"\" ).replace( \"</s>\", \"\" ).replace( \"<extra_id_0> \", \"\" )\n",
        "\n",
        "print( prediction) \n",
        "\n",
        "```\n",
        "\n",
        "### Problem 6 a\n",
        "\n",
        "Paste this code into a code block and run it. Is the answer correct?\n",
        "\n",
        "### Problem 6 b\n",
        "\n",
        "Restructure this code (using functions) so you can run it on multiple questions without having to reinitialise the model over and over again. Now run the following questions through the model: \n",
        "\n",
        "```\n",
        "      \"Which singer's real name is Stefani Joanne Angelina Germanotta?\", \n",
        "      \"What is the stage name of Stefani Joanne Angelina Germanotta?\", \n",
        "      \"Who sang the song Thriller which won the Grammy Award for Best Music Video?\", \n",
        "      \"Where is the University of Bath located?\"\n",
        "```\n",
        "\n",
        "Before juding this model too harshly, read about the [different T5 models](https://huggingface.co/docs/transformers/model_doc/t5) and the number of parameters they have. "
      ],
      "metadata": {
        "id": "aHLA0Abd77rm"
      }
    },
    {
      "cell_type": "code",
      "source": [
        "from transformers import AutoTokenizer, AutoModelWithLMHead\n",
        "\n",
        "model = AutoModelWithLMHead.from_pretrained(\"deep-learning-analytics/triviaqa-t5-base\")\n",
        "\n",
        "device = torch.device(\"cuda:0\" if torch.cuda.is_available() else \"cpu\")\n",
        "model = model.to(device)\n",
        "\n",
        "base_tokenizer = AutoTokenizer.from_pretrained(\"t5-base\", use_fast=False)\n",
        "\n",
        "preprocess_text = \"Which singer's real name is Stefani Joanne Angelina Germanotta?\"\n",
        "\n",
        "def T5(preprocess_text):\n",
        "  print( \"Your question: \", preprocess_text ) \n",
        "\n",
        "  tokenized_text = base_tokenizer.encode(preprocess_text, return_tensors=\"pt\").to(device)\n",
        "\n",
        "  outs = model.generate(\n",
        "              tokenized_text,\n",
        "              max_length=20,\n",
        "              num_beams=4,\n",
        "              early_stopping=True\n",
        "            )\n",
        "\n",
        "  dec = [base_tokenizer.decode(ids) for ids in outs]\n",
        "  prediction = dec[0].lstrip().rstrip().replace( \"<pad> \", \"\" ).replace( \"</s>\", \"\" ).replace( \"<extra_id_0> \", \"\" )\n",
        "\n",
        "  print( prediction)\n",
        "\n",
        "T5(preprocess_text)\n",
        "T5(\"What is the stage name of Stefani Joanne Angelina Germanotta?\")\n",
        "T5(\"Who sang the song Thriller which won the Grammy Award for Best Music Video?\")\n",
        "T5(\"Where is the University of Bath located?\")"
      ],
      "metadata": {
        "colab": {
          "base_uri": "https://localhost:8080/",
          "height": 475,
          "referenced_widgets": [
            "5f6ec25d057840c6ad9c6a88fddb375a",
            "70e40cb9ccc04f16aa2b7b0183d5133f",
            "7c63715048394a478c053045af2cd729",
            "588202719bf948ffb7b1a62a542e8d9c",
            "0e1ebea3382549df913a3dea4399f52b",
            "ccbabc0b9ef34135a3435352b33f8d2e",
            "69b674eaa94e41f09af7438383647ac7",
            "d42bf1f0388c4cfea1fdf1d8993f9c80",
            "a903acf2d5d04b6c8486c44227dc8883",
            "ad6d20f137764111a9773bf35003a3a1",
            "c132feee8c254f24b21b7152b0a1b06a",
            "60033739e7d74294b3c6ca2337d2adfc",
            "ebeab39922824a1d8d7dea991aff4bf2",
            "d7ffb70d867a420d8634a0d6ec97eff8",
            "656d0383a49a4489961812b801eaa4ed",
            "c7c397ab024444c3b71c809d0a6557bf",
            "3c4c1a908f3b49358cc6a021f200fed3",
            "a794b248b90c4556a3e4cb2293d29b89",
            "508df9bfc18c4e2387e17cd30809daf3",
            "39e2b91a245a4274add26286141f3c53",
            "a7f9ee2fc1b5450695dfbab757fc4666",
            "6e49300c98db4da891ea1f4f719dfe58",
            "1b782b6aa5ce4c3eb73bfb63acda0fdf",
            "5985dab38f8844398a79dbc8bd3d37aa",
            "62b4f61846e74f5cb220ec55169de66b",
            "ec3b7b91fb2f415abd9b45338235b6df",
            "51a21c37795f4c6ca688bcb53a2a310b",
            "ebf7bc4071fb46fe9fabb75b0e51e508",
            "629385d3b9e842258efae670e67cf499",
            "ac35098bc44b4250a0f78f06a24a9000",
            "eb4ea4247fce4a59b8fb41add02a5d74",
            "2d01cdc50cc140c5bbd84efda4e104d7",
            "11739bd877454bb78616983d6fc135a8",
            "eace9faa3c1a439f8d36298710bd6638",
            "d18613e0dc6c4814bd9d395581b6b3e8",
            "4e50f60f994e4d1988fb011168c35eb4",
            "524967909f124f6dab167627aef2e4cd",
            "fd8d8fcf1f1d4357b3ff85ec4ced4ca9",
            "1df5b6b710df438c882623ffd113375f",
            "2e9e1ebe3d084aa59b8f48a2a1b88018",
            "f0bae20b565b486eafcbb222acbf1f4a",
            "92aeb9491ee64626a1526e85cd0b0250",
            "dc7fb41b823c48f5bd80c2d6b7f17fd5",
            "2376ea911fb64a20b260be733009e2fb",
            "b76518f525da4dcfb5a4015eab226042",
            "c7d3624881a34cc29dc0868d99a54939",
            "ace7c679aa314f17b54a13a6b3630954",
            "152bd5e0c6964910b17a05de1f25c64b",
            "6a1357d551f54a26adf5745a5b0a9e21",
            "f55e72abae0e43428c45765d0ceb56b9",
            "5997dedab1bf4c20adbcf26f61e4f05b",
            "7801362aab554c289b01b5dc7f207f90",
            "9f39207a499f433591b4f29c4b8f63a8",
            "3320f16424624244b9493dff9e14a8cb",
            "349c7820e99b48f2a5548dee2f5da869"
          ]
        },
        "id": "9S1bxrJPKnQ4",
        "outputId": "97665483-e88f-4aec-c0c6-41b4199a53e6"
      },
      "execution_count": null,
      "outputs": [
        {
          "output_type": "stream",
          "name": "stderr",
          "text": [
            "/usr/local/lib/python3.8/dist-packages/transformers/models/auto/modeling_auto.py:1248: FutureWarning: The class `AutoModelWithLMHead` is deprecated and will be removed in a future version. Please use `AutoModelForCausalLM` for causal language models, `AutoModelForMaskedLM` for masked language models and `AutoModelForSeq2SeqLM` for encoder-decoder models.\n",
            "  warnings.warn(\n"
          ]
        },
        {
          "output_type": "display_data",
          "data": {
            "text/plain": [
              "Downloading (…)lve/main/config.json:   0%|          | 0.00/1.23k [00:00<?, ?B/s]"
            ],
            "application/vnd.jupyter.widget-view+json": {
              "version_major": 2,
              "version_minor": 0,
              "model_id": "5f6ec25d057840c6ad9c6a88fddb375a"
            }
          },
          "metadata": {}
        },
        {
          "output_type": "display_data",
          "data": {
            "text/plain": [
              "Downloading (…)\"pytorch_model.bin\";:   0%|          | 0.00/892M [00:00<?, ?B/s]"
            ],
            "application/vnd.jupyter.widget-view+json": {
              "version_major": 2,
              "version_minor": 0,
              "model_id": "60033739e7d74294b3c6ca2337d2adfc"
            }
          },
          "metadata": {}
        },
        {
          "output_type": "display_data",
          "data": {
            "text/plain": [
              "Downloading (…)lve/main/config.json:   0%|          | 0.00/1.21k [00:00<?, ?B/s]"
            ],
            "application/vnd.jupyter.widget-view+json": {
              "version_major": 2,
              "version_minor": 0,
              "model_id": "1b782b6aa5ce4c3eb73bfb63acda0fdf"
            }
          },
          "metadata": {}
        },
        {
          "output_type": "display_data",
          "data": {
            "text/plain": [
              "Downloading (…)ve/main/spiece.model:   0%|          | 0.00/792k [00:00<?, ?B/s]"
            ],
            "application/vnd.jupyter.widget-view+json": {
              "version_major": 2,
              "version_minor": 0,
              "model_id": "eace9faa3c1a439f8d36298710bd6638"
            }
          },
          "metadata": {}
        },
        {
          "output_type": "display_data",
          "data": {
            "text/plain": [
              "Downloading (…)/main/tokenizer.json:   0%|          | 0.00/1.39M [00:00<?, ?B/s]"
            ],
            "application/vnd.jupyter.widget-view+json": {
              "version_major": 2,
              "version_minor": 0,
              "model_id": "b76518f525da4dcfb5a4015eab226042"
            }
          },
          "metadata": {}
        },
        {
          "output_type": "stream",
          "name": "stderr",
          "text": [
            "/usr/local/lib/python3.8/dist-packages/transformers/models/t5/tokenization_t5_fast.py:155: FutureWarning: This tokenizer was incorrectly instantiated with a model max length of 512 which will be corrected in Transformers v5.\n",
            "For now, this behavior is kept to avoid breaking backwards compatibility when padding/encoding with `truncation is True`.\n",
            "- Be aware that you SHOULD NOT rely on t5-base automatically truncating your input to 512 when padding/encoding.\n",
            "- If you want to encode/pad to sequences longer than 512 you can either instantiate this tokenizer with `model_max_length` or pass `max_length` when encoding/padding.\n",
            "- To avoid this warning, please instantiate this tokenizer with `model_max_length` set to your preferred value.\n",
            "  warnings.warn(\n"
          ]
        },
        {
          "output_type": "stream",
          "name": "stdout",
          "text": [
            "Your question:  Which singer's real name is Stefani Joanne Angelina Germanotta?\n",
            "Lady Gaga\n",
            "Your question:  What is the stage name of Stefani Joanne Angelina Germanotta?\n",
            "Lady Ga Ga\n",
            "Your question:  Who sang the song Thriller which won the Grammy Award for Best Music Video?\n",
            "Mike Oldfield\n",
            "Your question:  Where is the University of Bath located?\n",
            "Bristol\n"
          ]
        }
      ]
    },
    {
      "cell_type": "markdown",
      "source": [
        "### Problem 7\n",
        "\n",
        "Navigate to [Chapter 2](https://learning.oreilly.com/library/view/deep-learning-with/9781617295263/Text/02.xhtml#sigil_toc_id_22) of book Deep Learning with PyTorch. \n",
        "\n",
        "Carefully read and run the model described in Section 2.1 (up to 2.1.5). You should be able to detect bobby. \n",
        "\n",
        "Here are a couple of things that'll help (these will only make sense once you read the chapter. \n",
        "\n",
        "\n",
        "Split the ```preprocess``` function provided as follows so you can visualise the output of the resize and crop. \n",
        "\n",
        "```\n",
        "preprocess = transforms.Compose([\n",
        "        transforms.Resize(256),\n",
        "        transforms.CenterCrop(224),\n",
        "])\n",
        "\n",
        "tensorize = transforms.Compose([\n",
        "        transforms.ToTensor(),\n",
        "        transforms.Normalize(\n",
        "           mean=[0.485, 0.456, 0.406],\n",
        "           std=[0.229, 0.224, 0.225]\n",
        "        )\n",
        "])\n",
        "```\n",
        "\n",
        "You can download the image of bobby from: https://raw.githubusercontent.com/deep-learning-with-pytorch/dlwpt-code/master/data/p1ch2/bobby.jpg\n",
        "\n",
        "(don't forget to use ```wget```!) \n",
        "\n",
        "You can download a file containing the imagenet classes from: https://raw.githubusercontent.com/pytorch/hub/master/imagenet_classes.txt \n",
        "\n",
        "The files you download are downloaded to ```'/content/```, as in ```/content/bobby.jpg```\n",
        "\n",
        "\n",
        "You can output the image but having img (or wherever you save the image) on a seperate cell in the notebook.\n"
      ],
      "metadata": {
        "id": "oIf33nRHNyr6"
      }
    },
    {
      "cell_type": "code",
      "source": [
        "!wget https://raw.githubusercontent.com/deep-learning-with-pytorch/dlwpt-code/master/data/p1ch2/bobby.jpg\n",
        "!wget https://raw.githubusercontent.com/pytorch/hub/master/imagenet_classes.txt"
      ],
      "metadata": {
        "colab": {
          "base_uri": "https://localhost:8080/"
        },
        "id": "7PURrbJKRQ-q",
        "outputId": "4a4ad87e-cdc0-4658-f0f4-5a1c1e9b3151"
      },
      "execution_count": null,
      "outputs": [
        {
          "output_type": "stream",
          "name": "stdout",
          "text": [
            "--2023-02-08 13:47:29--  https://raw.githubusercontent.com/deep-learning-with-pytorch/dlwpt-code/master/data/p1ch2/bobby.jpg\n",
            "Resolving raw.githubusercontent.com (raw.githubusercontent.com)... 185.199.109.133, 185.199.110.133, 185.199.108.133, ...\n",
            "Connecting to raw.githubusercontent.com (raw.githubusercontent.com)|185.199.109.133|:443... connected.\n",
            "HTTP request sent, awaiting response... 200 OK\n",
            "Length: 75801 (74K) [image/jpeg]\n",
            "Saving to: ‘bobby.jpg’\n",
            "\n",
            "bobby.jpg           100%[===================>]  74.02K  --.-KB/s    in 0.02s   \n",
            "\n",
            "2023-02-08 13:47:29 (4.59 MB/s) - ‘bobby.jpg’ saved [75801/75801]\n",
            "\n",
            "--2023-02-08 13:47:29--  https://raw.githubusercontent.com/pytorch/hub/master/imagenet_classes.txt\n",
            "Resolving raw.githubusercontent.com (raw.githubusercontent.com)... 185.199.111.133, 185.199.108.133, 185.199.109.133, ...\n",
            "Connecting to raw.githubusercontent.com (raw.githubusercontent.com)|185.199.111.133|:443... connected.\n",
            "HTTP request sent, awaiting response... 200 OK\n",
            "Length: 10472 (10K) [text/plain]\n",
            "Saving to: ‘imagenet_classes.txt’\n",
            "\n",
            "imagenet_classes.tx 100%[===================>]  10.23K  --.-KB/s    in 0s      \n",
            "\n",
            "2023-02-08 13:47:30 (64.3 MB/s) - ‘imagenet_classes.txt’ saved [10472/10472]\n",
            "\n"
          ]
        }
      ]
    },
    {
      "cell_type": "code",
      "source": [
        "# In[1]:\n",
        "from torchvision import models\n",
        "# In[2]:\n",
        "dir(models)\n",
        "# Out[2]:\n",
        "# ['AlexNet',\n",
        "#  'DenseNet',\n",
        "#  'Inception3',\n",
        "#  'ResNet',\n",
        "#  'SqueezeNet',\n",
        "#  'VGG',\n",
        "# ...\n",
        "#  'alexnet',\n",
        "#  'densenet',\n",
        "#  'densenet121',\n",
        "# ...\n",
        "#  'resnet',\n",
        "#  'resnet101',\n",
        "#  'resnet152',\n",
        "# ...\n",
        "#  ]\n",
        "# In[3]:\n",
        "alexnet = models.AlexNet()\n",
        "# In[4]:\n",
        "resnet = models.resnet101(pretrained=True)\n",
        "# In[5]:\n",
        "#resnet\n",
        " \n",
        "# Out[5]:\n",
        "# ResNet(\n",
        "#   (conv1): Conv2d(3, 64, kernel_size=(7, 7), stride=(2, 2), padding=(3, 3),\n",
        "#                   bias=False)\n",
        "#   (bn1): BatchNorm2d(64, eps=1e-05, momentum=0.1, affine=True,\n",
        "#                      track_running_stats=True)\n",
        "#   (relu): ReLU(inplace)\n",
        "#   (maxpool): MaxPool2d(kernel_size=3, stride=2, padding=1, dilation=1,\n",
        "#                        ceil_mode=False)\n",
        "#   (layer1): Sequential(\n",
        "#     (0): Bottleneck(\n",
        "# ...\n",
        "#     )\n",
        "#   )\n",
        "#   (avgpool): AvgPool2d(kernel_size=7, stride=1, padding=0)\n",
        "#   (fc): Linear(in_features=2048, out_features=1000, bias=True)\n",
        "# )\n",
        "# In[6]:\n",
        "from torchvision import transforms\n",
        "# preprocess = transforms.Compose([\n",
        "#         transforms.Resize(256),\n",
        "#         transforms.CenterCrop(224),\n",
        "#         transforms.ToTensor(),\n",
        "#         transforms.Normalize(\n",
        "#             mean=[0.485, 0.456, 0.406],\n",
        "#             std=[0.229, 0.224, 0.225]\n",
        "#         )])\n",
        "preprocess = transforms.Compose([\n",
        "        transforms.Resize(256),\n",
        "        transforms.CenterCrop(224),\n",
        "])\n",
        "tensorize = transforms.Compose([\n",
        "        transforms.ToTensor(),\n",
        "        transforms.Normalize(\n",
        "           mean=[0.485, 0.456, 0.406],\n",
        "           std=[0.229, 0.224, 0.225]\n",
        "        )\n",
        "])\n",
        "# In[7]:\n",
        "from PIL import Image\n",
        "#def MyAlexNet(imageLocation):\n",
        "img = Image.open(\"/content/bobby.jpg\")\n",
        "# In[8]:\n",
        "#img\n",
        "# Out[8]:\n",
        "# <PIL.JpegImagePlugin.JpegImageFile image mode=RGB size=1280x720 at\n",
        "#  0x1B1601360B8>\n",
        "# In[9]:\n",
        "img_t = preprocess(img)\n",
        "img_t = tensorize(img_t)\n",
        "# In[10]:\n",
        "#import torch\n",
        "batch_t = torch.unsqueeze(img_t, 0)\n",
        "# In[11]:\n",
        "resnet.eval()\n",
        "\n",
        "# Out[11]:\n",
        "# ResNet(\n",
        "#   (conv1): Conv2d(3, 64, kernel_size=(7, 7), stride=(2, 2), padding=(3, 3),\n",
        "#                   bias=False)\n",
        "#   (bn1): BatchNorm2d(64, eps=1e-05, momentum=0.1, affine=True,\n",
        "#                      track_running_stats=True)\n",
        "#   (relu): ReLU(inplace)\n",
        "#   (maxpool): MaxPool2d(kernel_size=3, stride=2, padding=1, dilation=1,\n",
        "#                        ceil_mode=False)\n",
        "#   (layer1): Sequential(\n",
        "#     (0): Bottleneck(\n",
        "# ...\n",
        "#     )\n",
        "#   )\n",
        "#   (avgpool): AvgPool2d(kernel_size=7, stride=1, padding=0)\n",
        "#   (fc): Linear(in_features=2048, out_features=1000, bias=True)\n",
        "# )\n",
        "# In[12]:\n",
        "out = resnet(batch_t)\n",
        "#out\n",
        "\n",
        "# Out[12]:\n",
        "# tensor([[ -3.4803,  -1.6618,  -2.4515,  -3.2662,  -3.2466,  -1.3611,\n",
        "#           -2.0465,  -2.5112,  -1.3043,  -2.8900,  -1.6862,  -1.3055,\n",
        "# ...\n",
        "#            2.8674,  -3.7442,   1.5085,  -3.2500,  -2.4894,  -0.3354,\n",
        "#            0.1286,  -1.1355,   3.3969,   4.4584]])\n",
        "# In[13]:\n",
        "with open('/content/imagenet_classes.txt') as f:\n",
        "    labels = [line.strip() for line in f.readlines()]\n",
        "# In[14]:\n",
        "_, index = torch.max(out, 1)\n",
        "# In[15]:\n",
        "percentage = torch.nn.functional.softmax(out, dim=1)[0] * 100\n",
        "labels[index[0]], percentage[index[0]].item()\n",
        "\n",
        "# Out[15]:\n",
        "# ('golden retriever', 96.29334259033203)\n",
        "# In[16]:\n",
        "_, indices = torch.sort(out, descending=True)\n",
        "[(labels[idx], percentage[idx].item()) for idx in indices[0][:5]]\n",
        "\n",
        "# Out[16]:\n",
        "# [('golden retriever', 96.29334259033203),\n",
        "#  ('Labrador retriever', 2.80812406539917),\n",
        "#  ('cocker spaniel, English cocker spaniel, cocker', 0.28267428278923035),\n",
        "#  ('redbone', 0.2086310237646103),\n",
        "#  ('tennis ball', 0.11621569097042084)]\n",
        "\n",
        "#print(labels[index[0]] + \": \" + str(percentage[index[0]].item()) + \"%\")\n",
        "\n",
        "#MyAlexNet(\"/content/bobby.jpg\")"
      ],
      "metadata": {
        "colab": {
          "base_uri": "https://localhost:8080/"
        },
        "id": "0No43SQdjeX9",
        "outputId": "d8ccf150-5d66-4798-964f-39cc0c358f3e"
      },
      "execution_count": null,
      "outputs": [
        {
          "output_type": "execute_result",
          "data": {
            "text/plain": [
              "[('golden retriever', 96.29335021972656),\n",
              " ('Labrador retriever', 2.8081188201904297),\n",
              " ('cocker spaniel', 0.2826734781265259),\n",
              " ('redbone', 0.2086300402879715),\n",
              " ('tennis ball', 0.11621593683958054)]"
            ]
          },
          "metadata": {},
          "execution_count": 21
        }
      ]
    },
    {
      "cell_type": "markdown",
      "source": [
        "### Problem 8 a\n",
        "\n",
        "Now run the model on the following image: https://upload.wikimedia.org/wikipedia/commons/d/d0/German_Shepherd_-_DSC_0346_%2810096362833%29.jpg \n",
        "\n",
        "\n",
        "### Problem 8 b\n",
        "\n",
        "Now run the model on the same image, but use the following updated version of the transform to be able to crop the image correctly.\n",
        "\n",
        "```\n",
        "def crop800(image):\n",
        "    return crop(image, 5, 40, 180, 180)\n",
        "\n",
        "preprocess = transforms.Compose([\n",
        "        transforms.Lambda(crop800),\n",
        "        transforms.Resize(256),\n",
        "])\n",
        "```\n",
        "\n"
      ],
      "metadata": {
        "id": "AtcIJSGkQXSb"
      }
    },
    {
      "cell_type": "code",
      "source": [
        "!wget https://upload.wikimedia.org/wikipedia/commons/d/d0/German_Shepherd_-_DSC_0346_%2810096362833%29.jpg"
      ],
      "metadata": {
        "colab": {
          "base_uri": "https://localhost:8080/"
        },
        "id": "SsHAK8cbYYAk",
        "outputId": "14942a5a-9192-44f8-f7fd-a23153f8a52d"
      },
      "execution_count": null,
      "outputs": [
        {
          "output_type": "stream",
          "name": "stdout",
          "text": [
            "--2023-02-08 14:26:23--  https://upload.wikimedia.org/wikipedia/commons/d/d0/German_Shepherd_-_DSC_0346_%2810096362833%29.jpg\n",
            "Resolving upload.wikimedia.org (upload.wikimedia.org)... 103.102.166.240, 2001:df2:e500:ed1a::2:b\n",
            "Connecting to upload.wikimedia.org (upload.wikimedia.org)|103.102.166.240|:443... connected.\n",
            "HTTP request sent, awaiting response... 200 OK\n",
            "Length: 113852 (111K) [image/jpeg]\n",
            "Saving to: ‘German_Shepherd_-_DSC_0346_(10096362833).jpg’\n",
            "\n",
            "German_Shepherd_-_D 100%[===================>] 111.18K  --.-KB/s    in 0.1s    \n",
            "\n",
            "2023-02-08 14:26:23 (999 KB/s) - ‘German_Shepherd_-_DSC_0346_(10096362833).jpg’ saved [113852/113852]\n",
            "\n"
          ]
        }
      ]
    },
    {
      "cell_type": "code",
      "source": [
        "def MyAlexNet(imagePath):\n",
        "  dir(models)\n",
        "\n",
        "  alexnet = models.AlexNet()\n",
        "\n",
        "  resnet = models.resnet101(pretrained=True)\n",
        "\n",
        "  preprocess = transforms.Compose([\n",
        "          transforms.Resize(256),\n",
        "          transforms.CenterCrop(224),\n",
        "  ])\n",
        "  tensorize = transforms.Compose([\n",
        "          transforms.ToTensor(),\n",
        "          transforms.Normalize(\n",
        "            mean=[0.485, 0.456, 0.406],\n",
        "            std=[0.229, 0.224, 0.225]\n",
        "          )\n",
        "  ])\n",
        "\n",
        "  img = Image.open(imagePath)\n",
        "\n",
        "  img_t = preprocess(img)\n",
        "  img_t = tensorize(img_t)\n",
        "\n",
        "  batch_t = torch.unsqueeze(img_t, 0)\n",
        "\n",
        "  resnet.eval()\n",
        "\n",
        "  out = resnet(batch_t)\n",
        "\n",
        "  with open('/content/imagenet_classes.txt') as f:\n",
        "      labels = [line.strip() for line in f.readlines()]\n",
        "\n",
        "  _, index = torch.max(out, 1)\n",
        "\n",
        "  percentage = torch.nn.functional.softmax(out, dim=1)[0] * 100\n",
        "  labels[index[0]], percentage[index[0]].item()\n",
        "\n",
        "  _, indices = torch.sort(out, descending=True)\n",
        "  print([(labels[idx], percentage[idx].item()) for idx in indices[0][:5]])\n",
        "\n",
        "MyAlexNet(\"/content/German_Shepherd_-_DSC_0346_(10096362833).jpg\")"
      ],
      "metadata": {
        "colab": {
          "base_uri": "https://localhost:8080/"
        },
        "id": "5sf_cocObPRb",
        "outputId": "5bb81b00-4f43-4968-e220-f491e72a8bf8"
      },
      "execution_count": null,
      "outputs": [
        {
          "output_type": "stream",
          "name": "stderr",
          "text": [
            "/usr/local/lib/python3.8/dist-packages/torchvision/models/_utils.py:208: UserWarning: The parameter 'pretrained' is deprecated since 0.13 and may be removed in the future, please use 'weights' instead.\n",
            "  warnings.warn(\n",
            "/usr/local/lib/python3.8/dist-packages/torchvision/models/_utils.py:223: UserWarning: Arguments other than a weight enum or `None` for 'weights' are deprecated since 0.13 and may be removed in the future. The current behavior is equivalent to passing `weights=ResNet101_Weights.IMAGENET1K_V1`. You can also use `weights=ResNet101_Weights.DEFAULT` to get the most up-to-date weights.\n",
            "  warnings.warn(msg)\n"
          ]
        },
        {
          "output_type": "stream",
          "name": "stdout",
          "text": [
            "[('German shepherd', 97.96184539794922), ('Leonberg', 0.7852769494056702), ('malinois', 0.25333136320114136), ('Tibetan mastiff', 0.1988629400730133), ('dingo', 0.08864262700080872)]\n"
          ]
        }
      ]
    },
    {
      "cell_type": "code",
      "source": [
        "def MyAlexNetCustomCrop(imagePath, cropping):\n",
        "  dir(models)\n",
        "\n",
        "  alexnet = models.AlexNet()\n",
        "\n",
        "  resnet = models.resnet101(pretrained=True)\n",
        "\n",
        "  def crop800(image):\n",
        "      return transforms.functional.crop(image, 5, 40, 180, 180)\n",
        "\n",
        "  preprocess = transforms.Compose([\n",
        "          transforms.Lambda(crop800),\n",
        "          transforms.Resize(256),\n",
        "  ])\n",
        "  tensorize = transforms.Compose([\n",
        "          transforms.ToTensor(),\n",
        "          transforms.Normalize(\n",
        "            mean=[0.485, 0.456, 0.406],\n",
        "            std=[0.229, 0.224, 0.225]\n",
        "          )\n",
        "  ])\n",
        "\n",
        "  img = Image.open(imagePath)\n",
        "\n",
        "  img_t = preprocess(img)\n",
        "  img_t = tensorize(img_t)\n",
        "\n",
        "  batch_t = torch.unsqueeze(img_t, 0)\n",
        "\n",
        "  resnet.eval()\n",
        "\n",
        "  out = resnet(batch_t)\n",
        "\n",
        "  with open('/content/imagenet_classes.txt') as f:\n",
        "      labels = [line.strip() for line in f.readlines()]\n",
        "\n",
        "  _, index = torch.max(out, 1)\n",
        "\n",
        "  percentage = torch.nn.functional.softmax(out, dim=1)[0] * 100\n",
        "  labels[index[0]], percentage[index[0]].item()\n",
        "\n",
        "  _, indices = torch.sort(out, descending=True)\n",
        "  print([(labels[idx], percentage[idx].item()) for idx in indices[0][:5]])\n",
        "MyAlexNetCustomCrop(\"/content/German_Shepherd_-_DSC_0346_(10096362833).jpg\",(5, 40, 180, 180))"
      ],
      "metadata": {
        "colab": {
          "base_uri": "https://localhost:8080/"
        },
        "id": "63lEhNA6b1aS",
        "outputId": "eed5594a-1242-484d-b10f-cf5f4b8166ac"
      },
      "execution_count": null,
      "outputs": [
        {
          "output_type": "stream",
          "name": "stderr",
          "text": [
            "/usr/local/lib/python3.8/dist-packages/torchvision/models/_utils.py:208: UserWarning: The parameter 'pretrained' is deprecated since 0.13 and may be removed in the future, please use 'weights' instead.\n",
            "  warnings.warn(\n",
            "/usr/local/lib/python3.8/dist-packages/torchvision/models/_utils.py:223: UserWarning: Arguments other than a weight enum or `None` for 'weights' are deprecated since 0.13 and may be removed in the future. The current behavior is equivalent to passing `weights=ResNet101_Weights.IMAGENET1K_V1`. You can also use `weights=ResNet101_Weights.DEFAULT` to get the most up-to-date weights.\n",
            "  warnings.warn(msg)\n"
          ]
        },
        {
          "output_type": "stream",
          "name": "stdout",
          "text": [
            "[('German shepherd', 81.38858795166016), ('malinois', 1.4897280931472778), ('briard', 1.3143991231918335), ('bloodhound', 1.287936806678772), ('Leonberg', 1.2510497570037842)]\n"
          ]
        }
      ]
    },
    {
      "cell_type": "markdown",
      "source": [
        "### Problem 9\n",
        "\n",
        "Now classify the following images. Make necessary changes to the crop transform to help the model classify the images correctly. \n",
        "\n",
        "1. https://cdn.shopify.com/s/files/1/0137/6210/1348/collections/87399596132_3000x.jpg?v=1629297832\n",
        "2. https://upload.wikimedia.org/wikipedia/commons/thumb/2/2f/Chou-fleur_02.jpg/1920px-Chou-fleur_02.jpg\n"
      ],
      "metadata": {
        "id": "VJZn-XD9RpCp"
      }
    },
    {
      "cell_type": "code",
      "source": [
        "!wget https://cdn.shopify.com/s/files/1/0137/6210/1348/collections/87399596132_3000x.jpg?v=1629297832\n",
        "!wget https://upload.wikimedia.org/wikipedia/commons/thumb/2/2f/Chou-fleur_02.jpg/1920px-Chou-fleur_02.jpg"
      ],
      "metadata": {
        "colab": {
          "base_uri": "https://localhost:8080/"
        },
        "id": "KJUZvH46ebEf",
        "outputId": "7d7da8ca-fdb3-4912-bab0-e40ad73ee7a1"
      },
      "execution_count": null,
      "outputs": [
        {
          "output_type": "stream",
          "name": "stdout",
          "text": [
            "--2023-02-08 14:42:01--  https://cdn.shopify.com/s/files/1/0137/6210/1348/collections/87399596132_3000x.jpg?v=1629297832\n",
            "Resolving cdn.shopify.com (cdn.shopify.com)... 23.227.60.200\n",
            "Connecting to cdn.shopify.com (cdn.shopify.com)|23.227.60.200|:443... connected.\n",
            "HTTP request sent, awaiting response... 200 OK\n",
            "Length: 210856 (206K) [image/jpeg]\n",
            "Saving to: ‘87399596132_3000x.jpg?v=1629297832’\n",
            "\n",
            "\r          873995961   0%[                    ]       0  --.-KB/s               \r87399596132_3000x.j 100%[===================>] 205.91K  --.-KB/s    in 0.01s   \n",
            "\n",
            "2023-02-08 14:42:01 (19.1 MB/s) - ‘87399596132_3000x.jpg?v=1629297832’ saved [210856/210856]\n",
            "\n",
            "--2023-02-08 14:42:01--  https://upload.wikimedia.org/wikipedia/commons/thumb/2/2f/Chou-fleur_02.jpg/1920px-Chou-fleur_02.jpg\n",
            "Resolving upload.wikimedia.org (upload.wikimedia.org)... 103.102.166.240, 2001:df2:e500:ed1a::2:b\n",
            "Connecting to upload.wikimedia.org (upload.wikimedia.org)|103.102.166.240|:443... connected.\n",
            "HTTP request sent, awaiting response... 200 OK\n",
            "Length: 227512 (222K) [image/jpeg]\n",
            "Saving to: ‘1920px-Chou-fleur_02.jpg’\n",
            "\n",
            "1920px-Chou-fleur_0 100%[===================>] 222.18K  1.35MB/s    in 0.2s    \n",
            "\n",
            "2023-02-08 14:42:02 (1.35 MB/s) - ‘1920px-Chou-fleur_02.jpg’ saved [227512/227512]\n",
            "\n"
          ]
        }
      ]
    },
    {
      "cell_type": "code",
      "source": [
        "MyAlexNet(\"/content/1920px-Chou-fleur_02.jpg\")\n",
        "MyAlexNetCustomCrop(\"/content/1920px-Chou-fleur_02.jpg\",(5, 40, 180, 180))"
      ],
      "metadata": {
        "colab": {
          "base_uri": "https://localhost:8080/"
        },
        "id": "a8kp44X3eiv5",
        "outputId": "a6df7f31-5723-4ca8-b8db-1b8ad0fd20e9"
      },
      "execution_count": null,
      "outputs": [
        {
          "output_type": "stream",
          "name": "stdout",
          "text": [
            "[('cauliflower', 99.96888732910156), ('broccoli', 0.022288348525762558), ('head cabbage', 0.0074225617572665215), ('mashed potato', 0.0003626495017670095), ('meat loaf', 0.00021928049682173878)]\n",
            "[('kite', 18.235502243041992), ('bee eater', 6.677630424499512), ('black stork', 5.462522983551025), ('bald eagle', 5.189955711364746), ('parachute', 4.111770153045654)]\n"
          ]
        }
      ]
    },
    {
      "cell_type": "code",
      "source": [
        "MyAlexNet(\"/content/87399596132_3000x.jpg?v=1629297832\")\n",
        "MyAlexNetCustomCrop(\"/content/87399596132_3000x.jpg?v=1629297832\",(5, 40, 180, 180))"
      ],
      "metadata": {
        "colab": {
          "base_uri": "https://localhost:8080/"
        },
        "id": "kMv74-o_ehfK",
        "outputId": "136f44b4-b304-482c-8f9d-d2d7d7351fd5"
      },
      "execution_count": null,
      "outputs": [
        {
          "output_type": "stream",
          "name": "stdout",
          "text": [
            "[('tiger shark', 99.57426452636719), ('sturgeon', 0.11358162015676498), ('great white shark', 0.09069334715604782), ('hammerhead', 0.06528984010219574), ('coho', 0.041178569197654724)]\n",
            "[('velvet', 40.54194641113281), ('coral reef', 6.700540542602539), ('dugong', 5.990199565887451), ('wreck', 3.692988395690918), ('grey whale', 3.478036403656006)]\n"
          ]
        }
      ]
    },
    {
      "cell_type": "markdown",
      "source": [
        "### Problem 9\n",
        "\n",
        "Run the CycleGAN model described in Section 2.2.\n",
        "\n",
        "Included below is the code that is mysteriously missing from Section 2.2 of the book. \n",
        "\n",
        "You will additionally need the model weights available at https://github.com/deep-learning-with-pytorch/dlwpt-code/raw/master/data/p1ch2/horse2zebra_0.4.0.pth (use ```wget``` to download)\n",
        "\n",
        "You can download the image to transfer from https://raw.githubusercontent.com/deep-learning-with-pytorch/dlwpt-code/master/data/p1ch2/horse.jpg \n",
        "\n"
      ],
      "metadata": {
        "id": "LmUlz89jTLHt"
      }
    },
    {
      "cell_type": "code",
      "source": [
        "!wget https://github.com/deep-learning-with-pytorch/dlwpt-code/raw/master/data/p1ch2/horse2zebra_0.4.0.pth\n",
        "!wget https://raw.githubusercontent.com/deep-learning-with-pytorch/dlwpt-code/master/data/p1ch2/horse.jpg"
      ],
      "metadata": {
        "colab": {
          "base_uri": "https://localhost:8080/"
        },
        "id": "nrGUv9VJqJs8",
        "outputId": "4761a183-e5d7-4a8a-ff6f-79036b6839a1"
      },
      "execution_count": null,
      "outputs": [
        {
          "output_type": "stream",
          "name": "stdout",
          "text": [
            "--2023-02-08 15:33:36--  https://github.com/deep-learning-with-pytorch/dlwpt-code/raw/master/data/p1ch2/horse2zebra_0.4.0.pth\n",
            "Resolving github.com (github.com)... 20.27.177.113\n",
            "Connecting to github.com (github.com)|20.27.177.113|:443... connected.\n",
            "HTTP request sent, awaiting response... 302 Found\n",
            "Location: https://raw.githubusercontent.com/deep-learning-with-pytorch/dlwpt-code/master/data/p1ch2/horse2zebra_0.4.0.pth [following]\n",
            "--2023-02-08 15:33:37--  https://raw.githubusercontent.com/deep-learning-with-pytorch/dlwpt-code/master/data/p1ch2/horse2zebra_0.4.0.pth\n",
            "Resolving raw.githubusercontent.com (raw.githubusercontent.com)... 185.199.108.133, 185.199.109.133, 185.199.110.133, ...\n",
            "Connecting to raw.githubusercontent.com (raw.githubusercontent.com)|185.199.108.133|:443... connected.\n",
            "HTTP request sent, awaiting response... 200 OK\n",
            "Length: 45519250 (43M) [application/octet-stream]\n",
            "Saving to: ‘horse2zebra_0.4.0.pth’\n",
            "\n",
            "horse2zebra_0.4.0.p 100%[===================>]  43.41M   162MB/s    in 0.3s    \n",
            "\n",
            "2023-02-08 15:33:40 (162 MB/s) - ‘horse2zebra_0.4.0.pth’ saved [45519250/45519250]\n",
            "\n",
            "--2023-02-08 15:33:40--  https://raw.githubusercontent.com/deep-learning-with-pytorch/dlwpt-code/master/data/p1ch2/horse.jpg\n",
            "Resolving raw.githubusercontent.com (raw.githubusercontent.com)... 185.199.108.133, 185.199.110.133, 185.199.109.133, ...\n",
            "Connecting to raw.githubusercontent.com (raw.githubusercontent.com)|185.199.108.133|:443... connected.\n",
            "HTTP request sent, awaiting response... 200 OK\n",
            "Length: 385347 (376K) [image/jpeg]\n",
            "Saving to: ‘horse.jpg.1’\n",
            "\n",
            "horse.jpg.1         100%[===================>] 376.32K  --.-KB/s    in 0.04s   \n",
            "\n",
            "2023-02-08 15:33:41 (8.70 MB/s) - ‘horse.jpg.1’ saved [385347/385347]\n",
            "\n"
          ]
        }
      ]
    },
    {
      "cell_type": "code",
      "source": [
        "# In[1]:\n",
        "import torch.nn as nn\n",
        "\n",
        "class ResNetBlock(nn.Module): # <1>\n",
        "\n",
        "    def __init__(self, dim):\n",
        "        super(ResNetBlock, self).__init__()\n",
        "        self.conv_block = self.build_conv_block(dim)\n",
        "\n",
        "    def build_conv_block(self, dim):\n",
        "        conv_block = []\n",
        "\n",
        "        conv_block += [nn.ReflectionPad2d(1)]\n",
        "\n",
        "        conv_block += [nn.Conv2d(dim, dim, kernel_size=3, padding=0, bias=True),\n",
        "                       nn.InstanceNorm2d(dim),\n",
        "                       nn.ReLU(True)]\n",
        "\n",
        "        conv_block += [nn.ReflectionPad2d(1)]\n",
        "\n",
        "        conv_block += [nn.Conv2d(dim, dim, kernel_size=3, padding=0, bias=True),\n",
        "                       nn.InstanceNorm2d(dim)]\n",
        "\n",
        "        return nn.Sequential(*conv_block)\n",
        "\n",
        "    def forward(self, x):\n",
        "        out = x + self.conv_block(x) # <2>\n",
        "        return out\n",
        "\n",
        "\n",
        "class ResNetGenerator(nn.Module):\n",
        "\n",
        "    def __init__(self, input_nc=3, output_nc=3, ngf=64, n_blocks=9): # <3> \n",
        "\n",
        "        assert(n_blocks >= 0)\n",
        "        super(ResNetGenerator, self).__init__()\n",
        "\n",
        "        self.input_nc = input_nc\n",
        "        self.output_nc = output_nc\n",
        "        self.ngf = ngf\n",
        "\n",
        "        model = [nn.ReflectionPad2d(3),\n",
        "                 nn.Conv2d(input_nc, ngf, kernel_size=7, padding=0, bias=True),\n",
        "                 nn.InstanceNorm2d(ngf),\n",
        "                 nn.ReLU(True)]\n",
        "\n",
        "        n_downsampling = 2\n",
        "        for i in range(n_downsampling):\n",
        "            mult = 2**i\n",
        "            model += [nn.Conv2d(ngf * mult, ngf * mult * 2, kernel_size=3,\n",
        "                                stride=2, padding=1, bias=True),\n",
        "                      nn.InstanceNorm2d(ngf * mult * 2),\n",
        "                      nn.ReLU(True)]\n",
        "\n",
        "        mult = 2**n_downsampling\n",
        "        for i in range(n_blocks):\n",
        "            model += [ResNetBlock(ngf * mult)]\n",
        "\n",
        "        for i in range(n_downsampling):\n",
        "            mult = 2**(n_downsampling - i)\n",
        "            model += [nn.ConvTranspose2d(ngf * mult, int(ngf * mult / 2),\n",
        "                                         kernel_size=3, stride=2,\n",
        "                                         padding=1, output_padding=1,\n",
        "                                         bias=True),\n",
        "                      nn.InstanceNorm2d(int(ngf * mult / 2)),\n",
        "                      nn.ReLU(True)]\n",
        "\n",
        "        model += [nn.ReflectionPad2d(3)]\n",
        "        model += [nn.Conv2d(ngf, output_nc, kernel_size=7, padding=0)]\n",
        "        model += [nn.Tanh()]\n",
        "\n",
        "        self.model = nn.Sequential(*model)\n",
        "\n",
        "    def forward(self, input): # <3>\n",
        "        return self.model(input)\n",
        "\n",
        "# In[2]:\n",
        "netG = ResNetGenerator()\n",
        "\n",
        "# In[3]:\n",
        "model_path = '/content/horse2zebra_0.4.0.pth'\n",
        "model_data = torch.load(model_path)\n",
        "netG.load_state_dict(model_data)\n",
        "\n",
        "# In[4]:\n",
        "netG.eval()\n",
        " \n",
        "# Out[4]:\n",
        "# ResNetGenerator(\n",
        "#   (model): Sequential(\n",
        "# ...\n",
        "#   )\n",
        "# )\n",
        "\n",
        "# In[5]:\n",
        "# from PIL import Image\n",
        "# from torchvision import transforms\n",
        "\n",
        "# In[6]:\n",
        "preprocess = transforms.Compose([transforms.Resize(256),\n",
        "                                 transforms.ToTensor()])\n",
        "\n",
        "# In[7]:\n",
        "img = Image.open(\"/content/horse-3.jpg\")#(\"/content/_102512274_gettyimages-518360318.jpg\")#(\"/content/horse.jpg.1\")\n",
        "#img\n",
        "\n",
        "# In[8]:\n",
        "img_t = preprocess(img)\n",
        "batch_t = torch.unsqueeze(img_t, 0)\n",
        "\n",
        "# In[9]:\n",
        "batch_out = netG(batch_t)\n",
        "\n",
        "# In[10]:\n",
        "out_t = (batch_out.data.squeeze() + 1.0) / 2.0\n",
        "out_img = transforms.ToPILImage()(out_t)\n",
        "out_img.save('/content/zebra.jpg')\n",
        "#out_img\n",
        " \n",
        "# Out[10]:\n",
        "#<PIL.Image.Image image mode=RGB size=316x256 at 0x23B24634F98>"
      ],
      "metadata": {
        "id": "3TaLy-tIpki5"
      },
      "execution_count": null,
      "outputs": []
    },
    {
      "cell_type": "code",
      "source": [
        "!wget https://ichef.bbci.co.uk/news/976/cpsprodpb/B875/production/_102512274_gettyimages-518360318.jpg"
      ],
      "metadata": {
        "colab": {
          "base_uri": "https://localhost:8080/"
        },
        "id": "QviV6T_8vd1x",
        "outputId": "8500a331-07e6-4c0f-9ff4-bfbc99410425"
      },
      "execution_count": null,
      "outputs": [
        {
          "output_type": "stream",
          "name": "stdout",
          "text": [
            "--2023-02-08 15:56:24--  https://ichef.bbci.co.uk/news/976/cpsprodpb/B875/production/_102512274_gettyimages-518360318.jpg\n",
            "Resolving ichef.bbci.co.uk (ichef.bbci.co.uk)... 2.20.136.184, 2600:1417:e800:183::f33, 2600:1417:e800:18f::f33, ...\n",
            "Connecting to ichef.bbci.co.uk (ichef.bbci.co.uk)|2.20.136.184|:443... connected.\n",
            "HTTP request sent, awaiting response... 200 OK\n",
            "Length: 63734 (62K) [image/jpeg]\n",
            "Saving to: ‘_102512274_gettyimages-518360318.jpg’\n",
            "\n",
            "\r          _10251227   0%[                    ]       0  --.-KB/s               \r_102512274_gettyima 100%[===================>]  62.24K  --.-KB/s    in 0.02s   \n",
            "\n",
            "2023-02-08 15:56:25 (2.95 MB/s) - ‘_102512274_gettyimages-518360318.jpg’ saved [63734/63734]\n",
            "\n"
          ]
        }
      ]
    },
    {
      "cell_type": "code",
      "source": [
        "!wget https://a-z-animals.com/media/horse-3.jpg"
      ],
      "metadata": {
        "colab": {
          "base_uri": "https://localhost:8080/"
        },
        "id": "s9c2yN93wgm_",
        "outputId": "ffa0549d-2f6d-4af2-bc5c-5489cc3b6c00"
      },
      "execution_count": null,
      "outputs": [
        {
          "output_type": "stream",
          "name": "stdout",
          "text": [
            "--2023-02-08 16:02:30--  https://a-z-animals.com/media/horse-3.jpg\n",
            "Resolving a-z-animals.com (a-z-animals.com)... 172.67.41.197, 104.22.1.252, 104.22.0.252, ...\n",
            "Connecting to a-z-animals.com (a-z-animals.com)|172.67.41.197|:443... connected.\n",
            "HTTP request sent, awaiting response... 200 OK\n",
            "Length: 62735 (61K) [image/jpeg]\n",
            "Saving to: ‘horse-3.jpg’\n",
            "\n",
            "horse-3.jpg         100%[===================>]  61.26K  --.-KB/s    in 0.01s   \n",
            "\n",
            "2023-02-08 16:02:30 (4.34 MB/s) - ‘horse-3.jpg’ saved [62735/62735]\n",
            "\n"
          ]
        }
      ]
    },
    {
      "cell_type": "markdown",
      "source": [
        "### Problem 10\n",
        "\n",
        "Run the model detailed in Section 2.3 of the book. \n",
        "\n",
        "You will need to clone the git repository containing the model. You can use: \n",
        "\n",
        "```\n",
        "!git clone https://github.com/deep-learning-with-pytorch/ImageCaptioning.pytorch.git\n",
        "```\n",
        "\n",
        "You can navigate to the correct directory using: \n",
        "\n",
        "```\n",
        "%cd /content/ImageCaptioning.pytorch/\n",
        "```\n",
        "(Consider why you must use \"%\" instead of \"!\" as one does in all previous commands) \n",
        "\n"
      ],
      "metadata": {
        "id": "8Ad5SzVBUals"
      }
    },
    {
      "cell_type": "code",
      "source": [
        "!git clone https://github.com/deep-learning-with-pytorch/ImageCaptioning.pytorch.git\n",
        "%cd /content/ImageCaptioning.pytorch/"
      ],
      "metadata": {
        "colab": {
          "base_uri": "https://localhost:8080/"
        },
        "id": "ODWE7JIOxfsh",
        "outputId": "358871aa-2c7a-457e-86da-3589f608c637"
      },
      "execution_count": null,
      "outputs": [
        {
          "output_type": "stream",
          "name": "stdout",
          "text": [
            "Cloning into 'ImageCaptioning.pytorch'...\n",
            "remote: Enumerating objects: 515, done.\u001b[K\n",
            "remote: Total 515 (delta 0), reused 0 (delta 0), pack-reused 515\u001b[K\n",
            "Receiving objects: 100% (515/515), 206.53 MiB | 22.37 MiB/s, done.\n",
            "Resolving deltas: 100% (327/327), done.\n",
            "Updating files: 100% (28/28), done.\n",
            "/content/ImageCaptioning.pytorch\n"
          ]
        }
      ]
    },
    {
      "cell_type": "code",
      "source": [
        "!python eval.py --model /content/ImageCaptioning.pytorch/data/FC/fc-model.pth --infos_path /content/ImageCaptioning.pytorch/data/FC/fc-infos.pkl --image_folder /content"
      ],
      "metadata": {
        "colab": {
          "base_uri": "https://localhost:8080/"
        },
        "id": "cIQmuP3UxqLp",
        "outputId": "b8d20197-f248-4f05-bec5-5261c8e65848"
      },
      "execution_count": null,
      "outputs": [
        {
          "output_type": "stream",
          "name": "stdout",
          "text": [
            "DataLoaderRaw loading images from folder:  /content\n",
            "0\n",
            "listing all images in directory /content\n",
            "DataLoaderRaw found  7  images\n",
            "/usr/local/lib/python3.8/dist-packages/torch/nn/functional.py:1967: UserWarning: nn.functional.sigmoid is deprecated. Use torch.sigmoid instead.\n",
            "  warnings.warn(\"nn.functional.sigmoid is deprecated. Use torch.sigmoid instead.\")\n",
            "/usr/local/lib/python3.8/dist-packages/torch/nn/functional.py:1956: UserWarning: nn.functional.tanh is deprecated. Use torch.tanh instead.\n",
            "  warnings.warn(\"nn.functional.tanh is deprecated. Use torch.tanh instead.\")\n",
            "/content/ImageCaptioning.pytorch/models/FCModel.py:147: UserWarning: Implicit dimension choice for log_softmax has been deprecated. Change the call to include dim=X as an argument.\n",
            "  logprobs = F.log_softmax(self.logit(output))\n",
            "/content/ImageCaptioning.pytorch/models/FCModel.py:123: UserWarning: Implicit dimension choice for log_softmax has been deprecated. Change the call to include dim=X as an argument.\n",
            "  logprobs = F.log_softmax(self.logit(output))\n",
            "cp \"/content/zebra.jpg\" vis/imgs/img1.jpg\n",
            "image 1: a couple of zebra standing on top of a sandy beach\n",
            "cp \"/content/_102512274_gettyimages-518360318.jpg\" vis/imgs/img2.jpg\n",
            "image 2: a brown and white horse standing in a field\n",
            "cp \"/content/horse.jpg\" vis/imgs/img3.jpg\n",
            "image 3: a person riding a horse on a beach\n",
            "cp \"/content/horse-3.jpg\" vis/imgs/img4.jpg\n",
            "image 4: a dog is riding a horse in the water\n",
            "cp \"/content/1920px-Chou-fleur_02.jpg\" vis/imgs/img5.jpg\n",
            "image 5: a close up of a piece of broccoli\n",
            "cp \"/content/German_Shepherd_-_DSC_0346_(10096362833).jpg\" vis/imgs/img6.jpg\n",
            "image 6: a dog standing on a beach with a frisbee\n",
            "cp \"/content/bobby.jpg\" vis/imgs/img7.jpg\n",
            "image 7: a dog is sitting on a bed with its eyes closed\n",
            "cp \"/content/zebra.jpg\" vis/imgs/img8.jpg\n",
            "image 1: a couple of zebra standing on top of a sandy beach\n",
            "cp \"/content/_102512274_gettyimages-518360318.jpg\" vis/imgs/img9.jpg\n",
            "image 2: a brown and white horse standing in a field\n",
            "cp \"/content/horse.jpg\" vis/imgs/img10.jpg\n",
            "image 3: a person riding a horse on a beach\n",
            "evaluating validation preformance... 2/7 (0.000000)\n",
            "loss:  0.0\n"
          ]
        }
      ]
    },
    {
      "cell_type": "markdown",
      "source": [
        "### Problem 11\n",
        "\n",
        "The following code snippet can be used to calculate the gradiant of ```y = 12 - (4 * x) + (2 * x**2 )``` at ```x = 1```\n",
        "```  \n",
        "  x = torch.tensor( 1 , dtype=float ) \n",
        "  x.requires_grad = True\n",
        "  y = 12 - (4 * x) + (2 * x**2 )\n",
        "  y.backward() \n",
        "  print( x.grad ) \n",
        "```\n",
        "\n",
        "Write a loop to find the gradient at values of x between -10 and 10. store x, y, and x.grad in arrays so you can plote them using the following code snippet: \n",
        "\n",
        "```\n",
        "import matplotlib\n",
        "import matplotlib.pyplot as plt\n",
        "plt.scatter(xs, ys )\n",
        "plt.scatter(xs, gxs)\n",
        "plt.show()\n",
        "```"
      ],
      "metadata": {
        "id": "GF9VgReQVRpN"
      }
    },
    {
      "cell_type": "code",
      "source": [
        "xs = list()\n",
        "ys = list()\n",
        "gxs= list()\n",
        "for x_scalar in range( -10, 10, 1):\n",
        "  x = torch.tensor ( x_scalar, dtype=float)\n",
        "  x.requires_grad =True\n",
        "  y= 12 - (4 * x) + (2 * x**2 )\n",
        "  y.backward()\n",
        "  xs.append(x_scalar)\n",
        "  ys.append( y.detach().numpy() )\n",
        "  gxs.append(x.grad.detach().numpy() )\n",
        "import matplotlib\n",
        "import matplotlib.pyplot as plt\n",
        "plt.scatter(xs, ys )\n",
        "plt.scatter(xs, gxs)\n",
        "plt.show()"
      ],
      "metadata": {
        "colab": {
          "base_uri": "https://localhost:8080/",
          "height": 265
        },
        "id": "LpvH2OPE6Jjf",
        "outputId": "857fcb74-b946-47a8-c450-524cb261dd70"
      },
      "execution_count": null,
      "outputs": [
        {
          "output_type": "display_data",
          "data": {
            "text/plain": [
              "<Figure size 432x288 with 1 Axes>"
            ],
            "image/png": "[encoded data removed]"
          },
          "metadata": {
            "needs_background": "light"
          }
        }
      ]
    },
    {
      "cell_type": "markdown",
      "source": [
        "### Problem 11\n",
        "\n",
        "Repeat the above for the following equestion: \n",
        "\n",
        "```\n",
        "y = 12 + (40 * x) - (12 * x**2 ) - ( 0.1 * x**3) + ( 1 * x**4 ) \n",
        "```  \n",
        "\n",
        "**Be sure to increment the value of x by 0.1**"
      ],
      "metadata": {
        "id": "KFPFjQQnWiaF"
      }
    },
    {
      "cell_type": "code",
      "source": [
        "xs = list()\n",
        "ys = list()\n",
        "gxs= list()\n",
        "import numpy as np\n",
        "for x_scalar in np.arange( -10, 10, 0.1):\n",
        "  x = torch.tensor ( x_scalar, dtype=float)\n",
        "  x.requires_grad =True\n",
        "  y = 12 + (40 * x) - (12 * x**2 ) - ( 0.1 * x**3) + ( 1 * x**4 )\n",
        "  y.backward()\n",
        "  xs.append(x_scalar)\n",
        "  ys.append( y.detach().numpy() )\n",
        "  gxs.append(x.grad.detach().numpy() )\n",
        "plt.scatter(xs, ys )\n",
        "plt.scatter(xs, gxs)\n",
        "plt.show()"
      ],
      "metadata": {
        "colab": {
          "base_uri": "https://localhost:8080/",
          "height": 265
        },
        "id": "rQqN6yLD85o5",
        "outputId": "a3f9ea11-06c7-4bcf-a9a2-aa9b35f75e3a"
      },
      "execution_count": null,
      "outputs": [
        {
          "output_type": "display_data",
          "data": {
            "text/plain": [
              "<Figure size 432x288 with 1 Axes>"
            ],
            "image/png": "[encoded data removed]"
          },
          "metadata": {
            "needs_background": "light"
          }
        }
      ]
    }
  ]
}