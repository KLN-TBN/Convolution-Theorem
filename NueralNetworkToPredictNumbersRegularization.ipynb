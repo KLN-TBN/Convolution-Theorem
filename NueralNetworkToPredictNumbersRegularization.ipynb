{
  "nbformat": 4,
  "nbformat_minor": 0,
  "metadata": {
    "colab": {
      "provenance": [],
      "include_colab_link": true
    },
    "kernelspec": {
      "name": "python3",
      "display_name": "Python 3"
    },
    "language_info": {
      "name": "python"
    }
  },
  "cells": [
    {
      "cell_type": "markdown",
      "metadata": {
        "id": "view-in-github",
        "colab_type": "text"
      },
      "source": [
        "<a href=\"https://colab.research.google.com/github/KLN-TBN/Notebooks/blob/main/NueralNetworkToPredictNumbersRegularization.ipynb\" target=\"_parent\"><img src=\"https://colab.research.google.com/assets/colab-badge.svg\" alt=\"Open In Colab\"/></a>"
      ]
    },
    {
      "cell_type": "markdown",
      "source": [
        "# Coursework III -- Regularization\n",
        "\n",
        "The goal of the coursework is to modify a simple bit of numpy code that trains a network and measures the performance on a validation set for the MNist 1D dataset. \n",
        "\n",
        "In this coursework, you need add **regularization** of some kind to improve the performance.  Anything from chapter 8 of the book or anything else you can find is fine *except* early stopping.  You must not change the model hyperparameters or the training algorithm.\n",
        "\n",
        "You don't have to improve the performance much.  A few tenths of a percent is fine.  It just has to be better to get full marks.\n",
        "\n",
        "You will need to upload three things to Moodle:\n",
        "1.   The image that this notebook saves (click the folder icon on the left on colab to download it)\n",
        "2.   The lines of code you changed\n",
        "3.   The whole notebook as a .ipynb file.  You can do this on the File menu\n",
        "\n",
        "\n"
      ],
      "metadata": {
        "id": "t9vk9Elugvmi"
      }
    },
    {
      "cell_type": "code",
      "source": [
        "import numpy as np\n",
        "import os\n",
        "import torch, torch.nn as nn\n",
        "from torch.utils.data import TensorDataset, DataLoader\n",
        "from torch.optim.lr_scheduler import StepLR\n",
        "import matplotlib.pyplot as plt\n",
        "import random"
      ],
      "metadata": {
        "id": "YrXWAH7sUWvU"
      },
      "execution_count": null,
      "outputs": []
    },
    {
      "cell_type": "code",
      "source": [
        "# Run this once to copy the train and validation data to your CoLab environment \n",
        "# or download from my github to your local machine if you are doing this locally\n",
        "if not os.path.exists('./train_data_x.npy'):\n",
        "  !wget https://github.com/udlbook/udlbook/raw/main/practicals/train_data_x.npy\n",
        "  !wget https://github.com/udlbook/udlbook/raw/main/practicals/train_data_y.npy\n",
        "  !wget https://github.com/udlbook/udlbook/raw/main/practicals/val_data_x.npy\n",
        "  !wget https://github.com/udlbook/udlbook/raw/main/practicals/val_data_y.npy  "
      ],
      "metadata": {
        "id": "wScBGXXFVadm",
        "outputId": "b0682fe6-4d17-4af3-c984-8b2e66f58e12",
        "colab": {
          "base_uri": "https://localhost:8080/"
        }
      },
      "execution_count": null,
      "outputs": [
        {
          "output_type": "stream",
          "name": "stdout",
          "text": [
            "--2022-12-05 10:45:24--  https://github.com/udlbook/udlbook/raw/main/practicals/train_data_x.npy\n",
            "Resolving github.com (github.com)... 140.82.112.3\n",
            "Connecting to github.com (github.com)|140.82.112.3|:443... connected.\n",
            "HTTP request sent, awaiting response... 302 Found\n",
            "Location: https://raw.githubusercontent.com/udlbook/udlbook/main/practicals/train_data_x.npy [following]\n",
            "--2022-12-05 10:45:24--  https://raw.githubusercontent.com/udlbook/udlbook/main/practicals/train_data_x.npy\n",
            "Resolving raw.githubusercontent.com (raw.githubusercontent.com)... 185.199.108.133, 185.199.109.133, 185.199.110.133, ...\n",
            "Connecting to raw.githubusercontent.com (raw.githubusercontent.com)|185.199.108.133|:443... connected.\n",
            "HTTP request sent, awaiting response... 200 OK\n",
            "Length: 1280128 (1.2M) [application/octet-stream]\n",
            "Saving to: ‘train_data_x.npy’\n",
            "\n",
            "train_data_x.npy    100%[===================>]   1.22M  --.-KB/s    in 0.05s   \n",
            "\n",
            "2022-12-05 10:45:24 (22.9 MB/s) - ‘train_data_x.npy’ saved [1280128/1280128]\n",
            "\n",
            "--2022-12-05 10:45:24--  https://github.com/udlbook/udlbook/raw/main/practicals/train_data_y.npy\n",
            "Resolving github.com (github.com)... 140.82.112.4\n",
            "Connecting to github.com (github.com)|140.82.112.4|:443... connected.\n",
            "HTTP request sent, awaiting response... 302 Found\n",
            "Location: https://raw.githubusercontent.com/udlbook/udlbook/main/practicals/train_data_y.npy [following]\n",
            "--2022-12-05 10:45:25--  https://raw.githubusercontent.com/udlbook/udlbook/main/practicals/train_data_y.npy\n",
            "Resolving raw.githubusercontent.com (raw.githubusercontent.com)... 185.199.108.133, 185.199.109.133, 185.199.110.133, ...\n",
            "Connecting to raw.githubusercontent.com (raw.githubusercontent.com)|185.199.108.133|:443... connected.\n",
            "HTTP request sent, awaiting response... 200 OK\n",
            "Length: 32128 (31K) [application/octet-stream]\n",
            "Saving to: ‘train_data_y.npy’\n",
            "\n",
            "train_data_y.npy    100%[===================>]  31.38K  --.-KB/s    in 0.002s  \n",
            "\n",
            "2022-12-05 10:45:25 (13.3 MB/s) - ‘train_data_y.npy’ saved [32128/32128]\n",
            "\n",
            "--2022-12-05 10:45:25--  https://github.com/udlbook/udlbook/raw/main/practicals/val_data_x.npy\n",
            "Resolving github.com (github.com)... 140.82.113.3\n",
            "Connecting to github.com (github.com)|140.82.113.3|:443... connected.\n",
            "HTTP request sent, awaiting response... 302 Found\n",
            "Location: https://raw.githubusercontent.com/udlbook/udlbook/main/practicals/val_data_x.npy [following]\n",
            "--2022-12-05 10:45:25--  https://raw.githubusercontent.com/udlbook/udlbook/main/practicals/val_data_x.npy\n",
            "Resolving raw.githubusercontent.com (raw.githubusercontent.com)... 185.199.108.133, 185.199.109.133, 185.199.110.133, ...\n",
            "Connecting to raw.githubusercontent.com (raw.githubusercontent.com)|185.199.108.133|:443... connected.\n",
            "HTTP request sent, awaiting response... 200 OK\n",
            "Length: 640128 (625K) [application/octet-stream]\n",
            "Saving to: ‘val_data_x.npy’\n",
            "\n",
            "val_data_x.npy      100%[===================>] 625.12K  --.-KB/s    in 0.04s   \n",
            "\n",
            "2022-12-05 10:45:25 (14.1 MB/s) - ‘val_data_x.npy’ saved [640128/640128]\n",
            "\n",
            "--2022-12-05 10:45:25--  https://github.com/udlbook/udlbook/raw/main/practicals/val_data_y.npy\n",
            "Resolving github.com (github.com)... 140.82.114.4\n",
            "Connecting to github.com (github.com)|140.82.114.4|:443... connected.\n",
            "HTTP request sent, awaiting response... 302 Found\n",
            "Location: https://raw.githubusercontent.com/udlbook/udlbook/main/practicals/val_data_y.npy [following]\n",
            "--2022-12-05 10:45:25--  https://raw.githubusercontent.com/udlbook/udlbook/main/practicals/val_data_y.npy\n",
            "Resolving raw.githubusercontent.com (raw.githubusercontent.com)... 185.199.108.133, 185.199.110.133, 185.199.111.133, ...\n",
            "Connecting to raw.githubusercontent.com (raw.githubusercontent.com)|185.199.108.133|:443... connected.\n",
            "HTTP request sent, awaiting response... 200 OK\n",
            "Length: 16128 (16K) [application/octet-stream]\n",
            "Saving to: ‘val_data_y.npy’\n",
            "\n",
            "val_data_y.npy      100%[===================>]  15.75K  --.-KB/s    in 0.001s  \n",
            "\n",
            "2022-12-05 10:45:25 (28.8 MB/s) - ‘val_data_y.npy’ saved [16128/16128]\n",
            "\n"
          ]
        }
      ]
    },
    {
      "cell_type": "code",
      "source": [
        "# Load in the data\n",
        "train_data_x = np.load('train_data_x.npy')\n",
        "train_data_y = np.load('train_data_y.npy')\n",
        "val_data_x = np.load('val_data_x.npy')\n",
        "val_data_y = np.load('val_data_y.npy')\n",
        "# Print out sizes\n",
        "print(\"Train data: %d examples (columns), each of which has %d dimensions (rows)\"%((train_data_x.shape[1],train_data_x.shape[0])))\n",
        "print(\"Validation data: %d examples (columns), each of which has %d dimensions (rows)\"%((val_data_x.shape[1],val_data_x.shape[0])))"
      ],
      "metadata": {
        "id": "8bKADvLHbiV5",
        "outputId": "a8689a8f-6a44-4554-c5bc-49883a3a5ef5",
        "colab": {
          "base_uri": "https://localhost:8080/"
        }
      },
      "execution_count": null,
      "outputs": [
        {
          "output_type": "stream",
          "name": "stdout",
          "text": [
            "Train data: 4000 examples (columns), each of which has 40 dimensions (rows)\n",
            "Validation data: 2000 examples (columns), each of which has 40 dimensions (rows)\n"
          ]
        }
      ]
    },
    {
      "cell_type": "markdown",
      "source": [
        "Define the network"
      ],
      "metadata": {
        "id": "_sFvRDGrl4qe"
      }
    },
    {
      "cell_type": "code",
      "source": [
        "# There are 40 input dimensions and 10 output dimensions for this data\n",
        "# The inputs correspond to the 40 offsets in the MNIST1D template.\n",
        "D_i = 40\n",
        "# The outputs correspond to the 10 digits\n",
        "D_o = 10\n",
        "\n",
        "# Number of hidden units in layers 1 and 2\n",
        "D_1 = 100\n",
        "D_2 = 100\n",
        "\n",
        "# create model with two hidden layers\n",
        "model = nn.Sequential(\n",
        "nn.Linear(D_i, D_1),\n",
        "nn.ReLU(),\n",
        "nn.Linear(D_1, D_2),\n",
        "nn.ReLU(),\n",
        "nn.Linear(D_2, D_o))"
      ],
      "metadata": {
        "id": "FslroPJJffrh"
      },
      "execution_count": null,
      "outputs": []
    },
    {
      "cell_type": "code",
      "source": [
        "# He initialization of weights\n",
        "def weights_init(layer_in):\n",
        "  if isinstance(layer_in, nn.Linear):\n",
        "    nn.init.kaiming_uniform_(layer_in.weight)\n",
        "    layer_in.bias.data.fill_(0.0)"
      ],
      "metadata": {
        "id": "YgLaex1pfhqz"
      },
      "execution_count": null,
      "outputs": []
    },
    {
      "cell_type": "code",
      "source": [
        "# You need all this stuff to ensure that PyTorch is deterministic\n",
        "def set_seed(seed):\n",
        "    torch.manual_seed(seed)\n",
        "    torch.cuda.manual_seed_all(seed)\n",
        "    torch.backends.cudnn.deterministic = True\n",
        "    torch.backends.cudnn.benchmark = False\n",
        "    np.random.seed(seed)\n",
        "    random.seed(seed)\n",
        "    os.environ['PYTHONHASHSEED'] = str(seed)"
      ],
      "metadata": {
        "id": "zXRmxCQNnL_M"
      },
      "execution_count": null,
      "outputs": []
    },
    {
      "cell_type": "code",
      "source": [
        "# Set seed so always get same result (do not change)\n",
        "set_seed(1)\n",
        "\n",
        "# choose cross entropy loss function (equation 5.24 in the loss notes)\n",
        "loss_function = nn.CrossEntropyLoss()\n",
        "# construct SGD optimizer and initialize learning rate and momentum\n",
        "optimizer = torch.optim.SGD(model.parameters(), lr = 0.05, momentum=0.9)\n",
        "# object that decreases learning rate by half every 10 epochs\n",
        "scheduler = StepLR(optimizer, step_size=10, gamma=0.5)\n",
        "# create 100 dummy data points and store in data loader class\n",
        "x_train = torch.tensor(train_data_x.transpose().astype('float32'))\n",
        "y_train = torch.tensor(train_data_y.astype('long'))\n",
        "x_val= torch.tensor(val_data_x.transpose().astype('float32'))\n",
        "y_val = torch.tensor(val_data_y.astype('long'))\n",
        "\n",
        "# load the data into a class that creates the batches\n",
        "data_loader = DataLoader(TensorDataset(x_train,y_train), batch_size=100, shuffle=True, worker_init_fn=np.random.seed(1))\n",
        "\n",
        "# Initialize model weights\n",
        "model.apply(weights_init)\n",
        "\n",
        "# loop over the dataset n_epoch times\n",
        "n_epoch = 50\n",
        "# store the loss and the % correct at each epoch\n",
        "losses_train = np.zeros((n_epoch))\n",
        "errors_train = np.zeros((n_epoch))\n",
        "losses_val = np.zeros((n_epoch))\n",
        "errors_val = np.zeros((n_epoch))\n",
        "\n",
        "for epoch in range(n_epoch):\n",
        "  # loop over batches\n",
        "  for i, data in enumerate(data_loader):\n",
        "    # retrieve inputs and labels for this batch\n",
        "    x_batch, y_batch = data\n",
        "    # zero the parameter gradients\n",
        "    optimizer.zero_grad()\n",
        "    # forward pass -- calculate model output\n",
        "    pred = model(x_batch)\n",
        "    # compute the lss\n",
        "    loss = loss_function(pred, y_batch)\n",
        "\n",
        "    sumOfSquaresParams = sum((param**2).sum() for param in model.parameters())\n",
        "    l2Lambda = 0.0005\n",
        "    loss += l2Lambda * sumOfSquaresParams\n",
        "\n",
        "    # backward pass\n",
        "    loss.backward()\n",
        "    # SGD update\n",
        "    optimizer.step()\n",
        "\n",
        "  # Run whole dataset to get statistics -- normally wouldn't do this\n",
        "  pred_train = model(x_train)\n",
        "  pred_val = model(x_val)\n",
        "  _, predicted_train_class = torch.max(pred_train.data, 1)\n",
        "  _, predicted_val_class = torch.max(pred_val.data, 1)\n",
        "  errors_train[epoch] = 100 - 100 * (predicted_train_class == y_train).float().sum() / len(y_train)\n",
        "  errors_val[epoch]= 100 - 100 * (predicted_val_class == y_val).float().sum() / len(y_val)\n",
        "  losses_train[epoch] = loss_function(pred_train, y_train).item()\n",
        "  losses_val[epoch]= loss_function(pred_val, y_val).item()\n",
        "  print(f'Epoch {epoch:5d}, train loss {losses_train[epoch]:.6f}, train error {errors_train[epoch]:3.2f},  val loss {losses_val[epoch]:.6f}, percent error {errors_val[epoch]:3.2f}')\n",
        "  \n",
        "  # tell scheduler to consider updating learning rate\n",
        "  scheduler.step()\n",
        "\n",
        "# Plot the results\n",
        "fig, ax = plt.subplots()\n",
        "ax.plot(errors_train,'r-',label='train')\n",
        "ax.plot(errors_val,'b-',label='validation')\n",
        "ax.set_ylim(0,100); ax.set_xlim(0,n_epoch)\n",
        "ax.set_xlabel('Epoch'); ax.set_ylabel('Error')\n",
        "ax.set_title('Part III: Validation Result %3.2f'%(errors_val[-1]))\n",
        "ax.legend()\n",
        "ax.plot([0,n_epoch],[37.45, 37.45],'k:') # Original results. You should be better than this!\n",
        "plt.savefig('Coursework_III_Results.png',format='png')\n",
        "plt.show()"
      ],
      "metadata": {
        "id": "NYw8I_3mmX5c",
        "outputId": "45375f08-f6a4-49a4-eaf7-0aa401c6157a",
        "colab": {
          "base_uri": "https://localhost:8080/",
          "height": 1000
        }
      },
      "execution_count": null,
      "outputs": [
        {
          "output_type": "stream",
          "name": "stdout",
          "text": [
            "Epoch     0, train loss 1.576844, train error 62.17,  val loss 1.666311, percent error 68.00\n",
            "Epoch     1, train loss 1.332505, train error 48.60,  val loss 1.479014, percent error 58.40\n",
            "Epoch     2, train loss 1.148653, train error 40.78,  val loss 1.359955, percent error 53.15\n",
            "Epoch     3, train loss 1.014183, train error 36.17,  val loss 1.264184, percent error 48.40\n",
            "Epoch     4, train loss 0.896450, train error 31.40,  val loss 1.179649, percent error 44.45\n",
            "Epoch     5, train loss 0.847264, train error 30.57,  val loss 1.217412, percent error 47.50\n",
            "Epoch     6, train loss 0.741075, train error 25.75,  val loss 1.138185, percent error 43.30\n",
            "Epoch     7, train loss 0.678009, train error 22.40,  val loss 1.104758, percent error 40.65\n",
            "Epoch     8, train loss 0.626939, train error 21.32,  val loss 1.103814, percent error 40.50\n",
            "Epoch     9, train loss 0.558184, train error 17.88,  val loss 1.050094, percent error 39.50\n",
            "Epoch    10, train loss 0.479929, train error 14.20,  val loss 0.997230, percent error 37.45\n",
            "Epoch    11, train loss 0.449861, train error 12.90,  val loss 1.021366, percent error 38.90\n",
            "Epoch    12, train loss 0.427101, train error 11.32,  val loss 1.034928, percent error 37.55\n",
            "Epoch    13, train loss 0.399210, train error 10.88,  val loss 1.018938, percent error 36.10\n",
            "Epoch    14, train loss 0.398067, train error 11.12,  val loss 1.061730, percent error 38.55\n",
            "Epoch    15, train loss 0.371865, train error 10.57,  val loss 1.036923, percent error 38.35\n",
            "Epoch    16, train loss 0.332745, train error 8.62,  val loss 1.018817, percent error 36.35\n",
            "Epoch    17, train loss 0.304562, train error 6.97,  val loss 1.015282, percent error 35.70\n",
            "Epoch    18, train loss 0.302080, train error 7.40,  val loss 1.052756, percent error 35.95\n",
            "Epoch    19, train loss 0.290338, train error 7.25,  val loss 1.072806, percent error 37.00\n",
            "Epoch    20, train loss 0.249566, train error 4.62,  val loss 1.032301, percent error 35.00\n",
            "Epoch    21, train loss 0.237879, train error 4.28,  val loss 1.030776, percent error 35.15\n",
            "Epoch    22, train loss 0.229507, train error 3.95,  val loss 1.044428, percent error 35.60\n",
            "Epoch    23, train loss 0.225097, train error 3.90,  val loss 1.044127, percent error 35.20\n",
            "Epoch    24, train loss 0.217475, train error 3.47,  val loss 1.050125, percent error 35.45\n",
            "Epoch    25, train loss 0.206664, train error 3.00,  val loss 1.051996, percent error 35.65\n",
            "Epoch    26, train loss 0.199367, train error 2.60,  val loss 1.050712, percent error 34.50\n",
            "Epoch    27, train loss 0.195059, train error 2.55,  val loss 1.058030, percent error 34.80\n",
            "Epoch    28, train loss 0.192906, train error 2.32,  val loss 1.064144, percent error 35.65\n",
            "Epoch    29, train loss 0.184126, train error 2.60,  val loss 1.068867, percent error 35.40\n",
            "Epoch    30, train loss 0.175400, train error 1.68,  val loss 1.063553, percent error 34.80\n",
            "Epoch    31, train loss 0.171719, train error 1.70,  val loss 1.067626, percent error 34.90\n",
            "Epoch    32, train loss 0.168959, train error 1.53,  val loss 1.071994, percent error 35.25\n",
            "Epoch    33, train loss 0.167579, train error 1.60,  val loss 1.073231, percent error 34.80\n",
            "Epoch    34, train loss 0.164163, train error 1.38,  val loss 1.077618, percent error 34.50\n",
            "Epoch    35, train loss 0.161043, train error 1.28,  val loss 1.078833, percent error 35.50\n",
            "Epoch    36, train loss 0.161962, train error 1.28,  val loss 1.079387, percent error 35.60\n",
            "Epoch    37, train loss 0.156548, train error 1.07,  val loss 1.077351, percent error 34.60\n",
            "Epoch    38, train loss 0.154606, train error 0.95,  val loss 1.080023, percent error 35.05\n",
            "Epoch    39, train loss 0.153173, train error 1.05,  val loss 1.085738, percent error 34.85\n",
            "Epoch    40, train loss 0.150534, train error 1.00,  val loss 1.085248, percent error 35.05\n",
            "Epoch    41, train loss 0.149618, train error 0.82,  val loss 1.089177, percent error 35.10\n",
            "Epoch    42, train loss 0.148228, train error 0.80,  val loss 1.089129, percent error 35.35\n",
            "Epoch    43, train loss 0.147080, train error 0.90,  val loss 1.088860, percent error 35.00\n",
            "Epoch    44, train loss 0.145845, train error 0.80,  val loss 1.091424, percent error 34.85\n",
            "Epoch    45, train loss 0.144877, train error 0.75,  val loss 1.093650, percent error 35.30\n",
            "Epoch    46, train loss 0.143795, train error 0.75,  val loss 1.093628, percent error 35.55\n",
            "Epoch    47, train loss 0.142813, train error 0.65,  val loss 1.094337, percent error 35.35\n",
            "Epoch    48, train loss 0.142094, train error 0.65,  val loss 1.094428, percent error 34.70\n",
            "Epoch    49, train loss 0.140893, train error 0.72,  val loss 1.097613, percent error 35.35\n"
          ]
        },
        {
          "output_type": "display_data",
          "data": {
            "text/plain": [
              "<Figure size 432x288 with 1 Axes>"
            ],
            "image/png": "[encoded data removed]"
          },
          "metadata": {
            "needs_background": "light"
          }
        }
      ]
    },
    {
      "cell_type": "code",
      "source": [
        "# Leave this all commented for now\n",
        "# We'll see how well you did on the test data after the coursework is submitted\n",
        "\n",
        "# if not os.path.exists('./test_data_x.npy'):\n",
        "#   !wget https://github.com/udlbook/udlbook/raw/main/practicals/test_data_x.npy\n",
        "#   !wget https://github.com/udlbook/udlbook/raw/main/practicals/test_data_y.npy\n",
        "\n",
        "\n",
        "# # I haven't given you this yet, leave commented\n",
        "# test_data_x = np.load('test_data_x.npy')\n",
        "# test_data_y = np.load('test_data_y.npy')\n",
        "# x_test = torch.tensor(test_data_x.transpose().astype('float32'))\n",
        "# y_test = torch.tensor(test_data_y.astype('long'))\n",
        "# pred_test = model(x_test)\n",
        "# _, predicted_test_class = torch.max(pred_test.data, 1)\n",
        "# errors_test = 100 - 100 * (predicted_test_class == y_test).float().sum() / len(y_test)\n",
        "# print(\"Test error = %3.3f\"%(errors_test))"
      ],
      "metadata": {
        "id": "O7nBz-R84QdJ"
      },
      "execution_count": null,
      "outputs": []
    },
    {
      "cell_type": "code",
      "source": [],
      "metadata": {
        "id": "zXccksoD1Eww"
      },
      "execution_count": null,
      "outputs": []
    }
  ]
}