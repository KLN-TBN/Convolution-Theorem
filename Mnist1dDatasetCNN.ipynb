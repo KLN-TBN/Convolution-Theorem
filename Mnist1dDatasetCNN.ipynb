{
  "nbformat": 4,
  "nbformat_minor": 0,
  "metadata": {
    "colab": {
      "provenance": [],
      "include_colab_link": true
    },
    "kernelspec": {
      "name": "python3",
      "display_name": "Python 3"
    },
    "language_info": {
      "name": "python"
    }
  },
  "cells": [
    {
      "cell_type": "markdown",
      "metadata": {
        "id": "view-in-github",
        "colab_type": "text"
      },
      "source": [
        "<a href=\"https://colab.research.google.com/github/KLN-TBN/Notebooks/blob/main/Mnist1dDatasetCNN.ipynb\" target=\"_parent\"><img src=\"https://colab.research.google.com/assets/colab-badge.svg\" alt=\"Open In Colab\"/></a>"
      ]
    },
    {
      "cell_type": "markdown",
      "source": [
        "# Convolution II -- MNIST1D\n",
        "\n",
        "This notebook investigates what happens when we use convolutional layers instead of fully-connected layers for the MNIST-1D from the coursework.\n",
        "\n",
        "We'll build the network from figure 10.7 in the notes.\n",
        "\n"
      ],
      "metadata": {
        "id": "t9vk9Elugvmi"
      }
    },
    {
      "cell_type": "code",
      "source": [
        "import numpy as np\n",
        "import os\n",
        "import torch, torch.nn as nn\n",
        "from torch.utils.data import TensorDataset, DataLoader\n",
        "from torch.optim.lr_scheduler import StepLR\n",
        "import matplotlib.pyplot as plt\n",
        "import random"
      ],
      "metadata": {
        "id": "YrXWAH7sUWvU"
      },
      "execution_count": 1,
      "outputs": []
    },
    {
      "cell_type": "code",
      "source": [
        "# Run this once to copy the train and validation data to your CoLab environment \n",
        "# or download from my github to your local machine if you are doing this locally\n",
        "if not os.path.exists('./train_data_x.npy'):\n",
        "  !wget https://github.com/udlbook/udlbook/raw/main/practicals/train_data_x.npy\n",
        "  !wget https://github.com/udlbook/udlbook/raw/main/practicals/train_data_y.npy\n",
        "  !wget https://github.com/udlbook/udlbook/raw/main/practicals/val_data_x.npy\n",
        "  !wget https://github.com/udlbook/udlbook/raw/main/practicals/val_data_y.npy  "
      ],
      "metadata": {
        "id": "wScBGXXFVadm",
        "colab": {
          "base_uri": "https://localhost:8080/"
        },
        "outputId": "4ad40afc-a479-4783-93b0-cc1691983478"
      },
      "execution_count": 2,
      "outputs": [
        {
          "output_type": "stream",
          "name": "stdout",
          "text": [
            "--2023-01-05 18:46:22--  https://github.com/udlbook/udlbook/raw/main/practicals/train_data_x.npy\n",
            "Resolving github.com (github.com)... 20.27.177.113\n",
            "Connecting to github.com (github.com)|20.27.177.113|:443... connected.\n",
            "HTTP request sent, awaiting response... 302 Found\n",
            "Location: https://raw.githubusercontent.com/udlbook/udlbook/main/practicals/train_data_x.npy [following]\n",
            "--2023-01-05 18:46:23--  https://raw.githubusercontent.com/udlbook/udlbook/main/practicals/train_data_x.npy\n",
            "Resolving raw.githubusercontent.com (raw.githubusercontent.com)... 185.199.111.133, 185.199.109.133, 185.199.108.133, ...\n",
            "Connecting to raw.githubusercontent.com (raw.githubusercontent.com)|185.199.111.133|:443... connected.\n",
            "HTTP request sent, awaiting response... 200 OK\n",
            "Length: 1280128 (1.2M) [application/octet-stream]\n",
            "Saving to: ‘train_data_x.npy’\n",
            "\n",
            "train_data_x.npy    100%[===================>]   1.22M  --.-KB/s    in 0.1s    \n",
            "\n",
            "2023-01-05 18:46:24 (9.55 MB/s) - ‘train_data_x.npy’ saved [1280128/1280128]\n",
            "\n",
            "--2023-01-05 18:46:24--  https://github.com/udlbook/udlbook/raw/main/practicals/train_data_y.npy\n",
            "Resolving github.com (github.com)... 20.27.177.113\n",
            "Connecting to github.com (github.com)|20.27.177.113|:443... connected.\n",
            "HTTP request sent, awaiting response... 302 Found\n",
            "Location: https://raw.githubusercontent.com/udlbook/udlbook/main/practicals/train_data_y.npy [following]\n",
            "--2023-01-05 18:46:25--  https://raw.githubusercontent.com/udlbook/udlbook/main/practicals/train_data_y.npy\n",
            "Resolving raw.githubusercontent.com (raw.githubusercontent.com)... 185.199.110.133, 185.199.111.133, 185.199.108.133, ...\n",
            "Connecting to raw.githubusercontent.com (raw.githubusercontent.com)|185.199.110.133|:443... connected.\n",
            "HTTP request sent, awaiting response... 200 OK\n",
            "Length: 32128 (31K) [application/octet-stream]\n",
            "Saving to: ‘train_data_y.npy’\n",
            "\n",
            "train_data_y.npy    100%[===================>]  31.38K  --.-KB/s    in 0.006s  \n",
            "\n",
            "2023-01-05 18:46:25 (5.23 MB/s) - ‘train_data_y.npy’ saved [32128/32128]\n",
            "\n",
            "--2023-01-05 18:46:25--  https://github.com/udlbook/udlbook/raw/main/practicals/val_data_x.npy\n",
            "Resolving github.com (github.com)... 20.27.177.113\n",
            "Connecting to github.com (github.com)|20.27.177.113|:443... connected.\n",
            "HTTP request sent, awaiting response... 302 Found\n",
            "Location: https://raw.githubusercontent.com/udlbook/udlbook/main/practicals/val_data_x.npy [following]\n",
            "--2023-01-05 18:46:26--  https://raw.githubusercontent.com/udlbook/udlbook/main/practicals/val_data_x.npy\n",
            "Resolving raw.githubusercontent.com (raw.githubusercontent.com)... 185.199.111.133, 185.199.108.133, 185.199.110.133, ...\n",
            "Connecting to raw.githubusercontent.com (raw.githubusercontent.com)|185.199.111.133|:443... connected.\n",
            "HTTP request sent, awaiting response... 200 OK\n",
            "Length: 640128 (625K) [application/octet-stream]\n",
            "Saving to: ‘val_data_x.npy’\n",
            "\n",
            "val_data_x.npy      100%[===================>] 625.12K  --.-KB/s    in 0.1s    \n",
            "\n",
            "2023-01-05 18:46:26 (5.93 MB/s) - ‘val_data_x.npy’ saved [640128/640128]\n",
            "\n",
            "--2023-01-05 18:46:26--  https://github.com/udlbook/udlbook/raw/main/practicals/val_data_y.npy\n",
            "Resolving github.com (github.com)... 20.27.177.113\n",
            "Connecting to github.com (github.com)|20.27.177.113|:443... connected.\n",
            "HTTP request sent, awaiting response... 302 Found\n",
            "Location: https://raw.githubusercontent.com/udlbook/udlbook/main/practicals/val_data_y.npy [following]\n",
            "--2023-01-05 18:46:27--  https://raw.githubusercontent.com/udlbook/udlbook/main/practicals/val_data_y.npy\n",
            "Resolving raw.githubusercontent.com (raw.githubusercontent.com)... 185.199.111.133, 185.199.108.133, 185.199.110.133, ...\n",
            "Connecting to raw.githubusercontent.com (raw.githubusercontent.com)|185.199.111.133|:443... connected.\n",
            "HTTP request sent, awaiting response... 200 OK\n",
            "Length: 16128 (16K) [application/octet-stream]\n",
            "Saving to: ‘val_data_y.npy’\n",
            "\n",
            "val_data_y.npy      100%[===================>]  15.75K  --.-KB/s    in 0.001s  \n",
            "\n",
            "2023-01-05 18:46:27 (12.7 MB/s) - ‘val_data_y.npy’ saved [16128/16128]\n",
            "\n"
          ]
        }
      ]
    },
    {
      "cell_type": "code",
      "source": [
        "# Load in the data\n",
        "train_data_x = np.load('train_data_x.npy')\n",
        "train_data_y = np.load('train_data_y.npy')\n",
        "val_data_x = np.load('val_data_x.npy')\n",
        "val_data_y = np.load('val_data_y.npy')\n",
        "# Print out sizes\n",
        "print(\"Train data: %d examples (columns), each of which has %d dimensions (rows)\"%((train_data_x.shape[1],train_data_x.shape[0])))\n",
        "print(\"Validation data: %d examples (columns), each of which has %d dimensions (rows)\"%((val_data_x.shape[1],val_data_x.shape[0])))"
      ],
      "metadata": {
        "id": "8bKADvLHbiV5",
        "colab": {
          "base_uri": "https://localhost:8080/"
        },
        "outputId": "206bfbdd-f5ee-4627-c395-6d8884ee25d8"
      },
      "execution_count": 3,
      "outputs": [
        {
          "output_type": "stream",
          "name": "stdout",
          "text": [
            "Train data: 4000 examples (columns), each of which has 40 dimensions (rows)\n",
            "Validation data: 2000 examples (columns), each of which has 40 dimensions (rows)\n"
          ]
        }
      ]
    },
    {
      "cell_type": "markdown",
      "source": [
        "Define the network"
      ],
      "metadata": {
        "id": "_sFvRDGrl4qe"
      }
    },
    {
      "cell_type": "code",
      "source": [
        "\n",
        "# TODO Create a model with the folowing layers\n",
        "# 1. Convolutional layer, (input=length 40 and 1 channel, kernel size 3x3, stride 2, padding=\"valid\", 15 output channels ) \n",
        "# 2. ReLU\n",
        "# 3. Convolutional layer, (input=length 19 and 15 channels, kernel size 3x3, stride 2, padding=\"valid\", 15 output channels )\n",
        "# 4. ReLU\n",
        "# 5. Convolutional layer, (input=length 9 and 15 channels, kernel size 3x3, stride 2, padding=\"valid\", 15 output channels)\n",
        "# 6. ReLU\n",
        "# 7. Flatten (converts 4x15) to length 60\n",
        "# 8. Linear layer (input size = 60, output size = 10)\n",
        "# References:\n",
        "# https://pytorch.org/docs/1.13/generated/torch.nn.Conv1d.html?highlight=conv1d#torch.nn.Conv1d\n",
        "# https://pytorch.org/docs/stable/generated/torch.nn.Flatten.html\n",
        "# https://pytorch.org/docs/1.13/generated/torch.nn.Linear.html?highlight=linear#torch.nn.Linear\n",
        "\n",
        "# Replace the following function which just runs a standard fully connected network\n",
        "# The flatten at the beginning is becuase we are passing in the data in a slightly different format.\n",
        "model = nn.Sequential(\n",
        "nn.Flatten(),\n",
        "nn.Linear(40, 100),\n",
        "nn.ReLU(),\n",
        "nn.Linear(100, 100),\n",
        "nn.ReLU(),\n",
        "nn.Linear(100, 10))\n",
        "\n",
        "model = nn.Sequential(\n",
        "nn.Conv1d(1, 15, 3, stride=2, padding=\"valid\"),\n",
        "nn.ReLU(),\n",
        "nn.Conv1d(15, 15, 3, stride=2, padding=\"valid\"),\n",
        "nn.ReLU(),\n",
        "nn.Conv1d(15, 15, 3, stride=2, padding=\"valid\"),\n",
        "nn.ReLU(),\n",
        "nn.Flatten(),\n",
        "nn.Linear(60,10))"
      ],
      "metadata": {
        "id": "FslroPJJffrh"
      },
      "execution_count": 25,
      "outputs": []
    },
    {
      "cell_type": "code",
      "source": [
        "# He initialization of weights\n",
        "def weights_init(layer_in):\n",
        "  if isinstance(layer_in, nn.Linear):\n",
        "    nn.init.kaiming_uniform_(layer_in.weight)\n",
        "    layer_in.bias.data.fill_(0.0)"
      ],
      "metadata": {
        "id": "YgLaex1pfhqz"
      },
      "execution_count": 26,
      "outputs": []
    },
    {
      "cell_type": "code",
      "source": [
        "# You need all this stuff to ensure that PyTorch is deterministic\n",
        "def set_seed(seed):\n",
        "    torch.manual_seed(seed)\n",
        "    torch.cuda.manual_seed_all(seed)\n",
        "    torch.backends.cudnn.deterministic = True\n",
        "    torch.backends.cudnn.benchmark = False\n",
        "    np.random.seed(seed)\n",
        "    random.seed(seed)\n",
        "    os.environ['PYTHONHASHSEED'] = str(seed)"
      ],
      "metadata": {
        "id": "zXRmxCQNnL_M"
      },
      "execution_count": 27,
      "outputs": []
    },
    {
      "cell_type": "code",
      "source": [
        "# Set seed so always get same result (do not change)\n",
        "set_seed(1)\n",
        "\n",
        "# choose cross entropy loss function (equation 5.24 in the loss notes)\n",
        "loss_function = nn.CrossEntropyLoss()\n",
        "# construct SGD optimizer and initialize learning rate and momentum\n",
        "optimizer = torch.optim.SGD(model.parameters(), lr = 0.05, momentum=0.9)\n",
        "# object that decreases learning rate by half every 10 epochs\n",
        "scheduler = StepLR(optimizer, step_size=10, gamma=0.5)\n",
        "# create 100 dummy data points and store in data loader class\n",
        "x_train = torch.tensor(train_data_x.transpose().astype('float32'))\n",
        "y_train = torch.tensor(train_data_y.astype('long'))\n",
        "x_val= torch.tensor(val_data_x.transpose().astype('float32'))\n",
        "y_val = torch.tensor(val_data_y.astype('long'))\n",
        "\n",
        "# load the data into a class that creates the batches\n",
        "data_loader = DataLoader(TensorDataset(x_train,y_train), batch_size=100, shuffle=True, worker_init_fn=np.random.seed(1))\n",
        "\n",
        "# Initialize model weights\n",
        "model.apply(weights_init)\n",
        "\n",
        "# loop over the dataset n_epoch times\n",
        "n_epoch = 50\n",
        "# store the loss and the % correct at each epoch\n",
        "losses_train = np.zeros((n_epoch))\n",
        "errors_train = np.zeros((n_epoch))\n",
        "losses_val = np.zeros((n_epoch))\n",
        "errors_val = np.zeros((n_epoch))\n",
        "\n",
        "for epoch in range(n_epoch):\n",
        "  # loop over batches\n",
        "  for i, data in enumerate(data_loader):\n",
        "    # retrieve inputs and labels for this batch\n",
        "    x_batch, y_batch = data\n",
        "    # zero the parameter gradients\n",
        "    optimizer.zero_grad()\n",
        "    # forward pass -- calculate model output\n",
        "    pred = model(x_batch[:,None,:])\n",
        "    # compute the loss\n",
        "    loss = loss_function(pred, y_batch)\n",
        "    # backward pass\n",
        "    loss.backward()\n",
        "    # SGD update\n",
        "    optimizer.step()\n",
        "\n",
        "  # Run whole dataset to get statistics -- normally wouldn't do this\n",
        "  pred_train = model(x_train[:,None,:])\n",
        "  pred_val = model(x_val[:,None,:])\n",
        "  _, predicted_train_class = torch.max(pred_train.data, 1)\n",
        "  _, predicted_val_class = torch.max(pred_val.data, 1)\n",
        "  errors_train[epoch] = 100 - 100 * (predicted_train_class == y_train).float().sum() / len(y_train)\n",
        "  errors_val[epoch]= 100 - 100 * (predicted_val_class == y_val).float().sum() / len(y_val)\n",
        "  losses_train[epoch] = loss_function(pred_train, y_train).item()\n",
        "  losses_val[epoch]= loss_function(pred_val, y_val).item()\n",
        "  print(f'Epoch {epoch:5d}, train loss {losses_train[epoch]:.6f}, train error {errors_train[epoch]:3.2f},  val loss {losses_val[epoch]:.6f}, percent error {errors_val[epoch]:3.2f}')\n",
        "  \n",
        "  # tell scheduler to consider updating learning rate\n",
        "  scheduler.step()\n",
        "\n",
        "# Plot the results\n",
        "fig, ax = plt.subplots()\n",
        "ax.plot(errors_train,'r-',label='train')\n",
        "ax.plot(errors_val,'b-',label='validation')\n",
        "ax.set_ylim(0,100); ax.set_xlim(0,n_epoch)\n",
        "ax.set_xlabel('Epoch'); ax.set_ylabel('Error')\n",
        "ax.set_title('Part I: Validation Result %3.2f'%(errors_val[-1]))\n",
        "ax.legend()\n",
        "ax.plot([0,n_epoch],[37.45, 37.45],'k:') # Original results. You should be better than this!\n",
        "plt.savefig('Coursework_I_Results.png',format='png')\n",
        "plt.show()"
      ],
      "metadata": {
        "id": "NYw8I_3mmX5c",
        "colab": {
          "base_uri": "https://localhost:8080/",
          "height": 1000
        },
        "outputId": "00b2eb61-9010-4535-9ffe-f37e3243b81f"
      },
      "execution_count": 30,
      "outputs": [
        {
          "output_type": "stream",
          "name": "stdout",
          "text": [
            "Epoch     0, train loss 0.296881, train error 10.55,  val loss 0.409004, percent error 14.65\n",
            "Epoch     1, train loss 0.202516, train error 6.90,  val loss 0.320119, percent error 11.05\n",
            "Epoch     2, train loss 0.176621, train error 6.35,  val loss 0.319308, percent error 11.80\n",
            "Epoch     3, train loss 0.161876, train error 6.20,  val loss 0.321456, percent error 10.90\n",
            "Epoch     4, train loss 0.189680, train error 6.75,  val loss 0.352156, percent error 12.25\n",
            "Epoch     5, train loss 0.132767, train error 4.30,  val loss 0.292157, percent error 9.40\n",
            "Epoch     6, train loss 0.100335, train error 3.10,  val loss 0.239983, percent error 8.35\n",
            "Epoch     7, train loss 0.096493, train error 3.57,  val loss 0.266108, percent error 8.80\n",
            "Epoch     8, train loss 0.103048, train error 3.68,  val loss 0.282785, percent error 9.60\n",
            "Epoch     9, train loss 0.083861, train error 2.78,  val loss 0.301583, percent error 9.80\n",
            "Epoch    10, train loss 0.059018, train error 1.88,  val loss 0.246866, percent error 7.70\n",
            "Epoch    11, train loss 0.047930, train error 1.30,  val loss 0.245477, percent error 8.05\n",
            "Epoch    12, train loss 0.049213, train error 1.35,  val loss 0.244559, percent error 7.50\n",
            "Epoch    13, train loss 0.045121, train error 1.18,  val loss 0.284187, percent error 8.65\n",
            "Epoch    14, train loss 0.036242, train error 0.78,  val loss 0.266375, percent error 8.25\n",
            "Epoch    15, train loss 0.042535, train error 1.28,  val loss 0.301743, percent error 9.05\n",
            "Epoch    16, train loss 0.035410, train error 0.95,  val loss 0.283789, percent error 8.20\n",
            "Epoch    17, train loss 0.028533, train error 0.57,  val loss 0.277962, percent error 8.05\n",
            "Epoch    18, train loss 0.028678, train error 0.62,  val loss 0.279000, percent error 8.50\n",
            "Epoch    19, train loss 0.027881, train error 0.62,  val loss 0.298484, percent error 8.40\n",
            "Epoch    20, train loss 0.022136, train error 0.38,  val loss 0.285985, percent error 8.20\n",
            "Epoch    21, train loss 0.020503, train error 0.28,  val loss 0.289705, percent error 8.35\n",
            "Epoch    22, train loss 0.019641, train error 0.25,  val loss 0.288676, percent error 8.05\n",
            "Epoch    23, train loss 0.020012, train error 0.32,  val loss 0.293256, percent error 7.95\n",
            "Epoch    24, train loss 0.020486, train error 0.32,  val loss 0.305957, percent error 8.55\n",
            "Epoch    25, train loss 0.017811, train error 0.22,  val loss 0.301657, percent error 8.35\n",
            "Epoch    26, train loss 0.017341, train error 0.15,  val loss 0.306151, percent error 8.25\n",
            "Epoch    27, train loss 0.017419, train error 0.20,  val loss 0.310148, percent error 8.55\n",
            "Epoch    28, train loss 0.016961, train error 0.25,  val loss 0.314317, percent error 8.50\n",
            "Epoch    29, train loss 0.017105, train error 0.25,  val loss 0.312315, percent error 8.20\n",
            "Epoch    30, train loss 0.015303, train error 0.18,  val loss 0.315394, percent error 8.45\n",
            "Epoch    31, train loss 0.015108, train error 0.15,  val loss 0.315654, percent error 8.40\n",
            "Epoch    32, train loss 0.014871, train error 0.12,  val loss 0.314865, percent error 8.55\n",
            "Epoch    33, train loss 0.014628, train error 0.15,  val loss 0.315902, percent error 8.40\n",
            "Epoch    34, train loss 0.014468, train error 0.12,  val loss 0.317483, percent error 8.35\n",
            "Epoch    35, train loss 0.014564, train error 0.12,  val loss 0.320722, percent error 8.50\n",
            "Epoch    36, train loss 0.014053, train error 0.15,  val loss 0.320588, percent error 8.45\n",
            "Epoch    37, train loss 0.014120, train error 0.10,  val loss 0.322812, percent error 8.40\n",
            "Epoch    38, train loss 0.013690, train error 0.10,  val loss 0.321700, percent error 8.50\n",
            "Epoch    39, train loss 0.015212, train error 0.15,  val loss 0.333215, percent error 8.45\n",
            "Epoch    40, train loss 0.013444, train error 0.10,  val loss 0.323251, percent error 8.40\n",
            "Epoch    41, train loss 0.013361, train error 0.10,  val loss 0.325637, percent error 8.45\n",
            "Epoch    42, train loss 0.013256, train error 0.10,  val loss 0.326754, percent error 8.60\n",
            "Epoch    43, train loss 0.013169, train error 0.07,  val loss 0.325075, percent error 8.55\n",
            "Epoch    44, train loss 0.013112, train error 0.07,  val loss 0.327795, percent error 8.65\n",
            "Epoch    45, train loss 0.013037, train error 0.07,  val loss 0.326300, percent error 8.75\n",
            "Epoch    46, train loss 0.012928, train error 0.07,  val loss 0.328607, percent error 8.60\n",
            "Epoch    47, train loss 0.012944, train error 0.07,  val loss 0.326701, percent error 8.55\n",
            "Epoch    48, train loss 0.012890, train error 0.10,  val loss 0.331457, percent error 8.55\n",
            "Epoch    49, train loss 0.012713, train error 0.07,  val loss 0.330145, percent error 8.60\n"
          ]
        },
        {
          "output_type": "display_data",
          "data": {
            "text/plain": [
              "<Figure size 432x288 with 1 Axes>"
            ],
            "image/png": "[encoded data removed]"
          },
          "metadata": {
            "needs_background": "light"
          }
        }
      ]
    }
  ]
}